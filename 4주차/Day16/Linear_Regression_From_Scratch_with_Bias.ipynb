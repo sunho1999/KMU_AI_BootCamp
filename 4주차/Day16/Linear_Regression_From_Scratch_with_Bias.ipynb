{
  "nbformat": 4,
  "nbformat_minor": 0,
  "metadata": {
    "colab": {
      "name": "Linear Regression 바닥부터 구현(Bias 포함)",
      "provenance": [],
      "collapsed_sections": []
    },
    "kernelspec": {
      "name": "python3",
      "display_name": "Python 3"
    }
  },
  "cells": [
    {
      "cell_type": "markdown",
      "metadata": {
        "id": "nxLPn-45ke1-"
      },
      "source": [
        "## <b>Linear Regression 바닥부터 구현(Bias 포함)</b>\n",
        "\n",
        "* Linear Regression을 Python만을 이용하여 구현합니다.\n",
        "* 학습 목적의 데이터 준비\n",
        "\n",
        "|하루 노동 시간| 하루 매출 |\n",
        "|:--------|:--------:|\n",
        "| 1 | 25,000 |\n",
        "| 2 | 55,000 |\n",
        "| 3 | 75,000 |\n",
        "| 4 | 110,000 |\n",
        "| 5 | 128,000 |\n",
        "| 6 | 155,000 |\n",
        "| 7 | 180,000 |\n",
        "\n",
        "* 목표: 하루 노동 시간이 8시간일 때 하루 매출은 얼마가 될까요?"
      ]
    },
    {
      "cell_type": "code",
      "metadata": {
        "id": "ijimMcjKkj3F",
        "colab": {
          "base_uri": "https://localhost:8080/",
          "height": 282
        },
        "outputId": "85a159f2-6189-4cf2-9206-c6eb0e1b037c"
      },
      "source": [
        "import matplotlib.pyplot as plt\n",
        "\n",
        "X = [1, 2, 3, 4, 5, 6, 7]\n",
        "Y = [25000, 55000, 75000, 110000, 128000, 155000, 180000]\n",
        "\n",
        "plt.plot(X, Y)\n",
        "plt.scatter(X, Y)"
      ],
      "execution_count": null,
      "outputs": [
        {
          "output_type": "execute_result",
          "data": {
            "text/plain": [
              "<matplotlib.collections.PathCollection at 0x7f50da7fab00>"
            ]
          },
          "metadata": {
            "tags": []
          },
          "execution_count": 1
        },
        {
          "output_type": "display_data",
          "data": {
            "image/png": "[encoded data removed]",
            "text/plain": [
              "<Figure size 432x288 with 1 Axes>"
            ]
          },
          "metadata": {
            "tags": [],
            "needs_background": "light"
          }
        }
      ]
    },
    {
      "cell_type": "markdown",
      "metadata": {
        "id": "a-cfIXGElMnu"
      },
      "source": [
        "### <b>가설 클래스 정의</b>\n",
        "\n",
        "* Forward: 모델이 입력을 받아 정방향으로(왼쪽에서 오른쪽으로) 계산해 결과를 출력하는 과정"
      ]
    },
    {
      "cell_type": "code",
      "metadata": {
        "id": "LyjWpK4kkkQv"
      },
      "source": [
        "# 가설 모델(학습 시킬 대상)\n",
        "class H():\n",
        "    def __init__(self, w, b):\n",
        "        self.w = w\n",
        "        self.b = b\n",
        "    # 결과를 반환하는 함수\n",
        "    def forward(self, x):\n",
        "        return self.w * x + self.b\n",
        "    # 가설의 비용을 구하는 함수(낮추어야 할 대상)\n",
        "    def get_cost(self, X, Y):\n",
        "        cost = 0\n",
        "        for i in range(len(X)):\n",
        "            cost += (self.forward(X[i]) - Y[i]) ** 2\n",
        "        cost = cost / len(X)\n",
        "        return cost\n",
        "    # 미분으로 기울기를 계산하는 함수\n",
        "    def get_gradient_using_derivative(self, X, Y):\n",
        "        w_gradient = 0\n",
        "        b_gradient = 0\n",
        "        for i in range(len(X)):\n",
        "            w_gradient += (self.forward(X[i]) - Y[i]) * X[i]\n",
        "            b_gradient += (self.forward(X[i]) - Y[i])\n",
        "        w_gradient = 2 * w_gradient / len(X)\n",
        "        b_gradient = 2 * b_gradient / len(X)\n",
        "        return w_gradient, b_gradient, self.get_cost(X, Y)\n",
        "    # w 값을 변경하는 함수\n",
        "    def set_w(self, w):\n",
        "        self.w = w\n",
        "    # w 값을 반환하는 함수\n",
        "    def get_w(self):\n",
        "        return self.w\n",
        "    # b 값을 변경하는 함수\n",
        "    def set_b(self, b):\n",
        "        self.b = b\n",
        "    # b 값을 반환하는 함수\n",
        "    def get_b(self):\n",
        "        return self.b"
      ],
      "execution_count": null,
      "outputs": []
    },
    {
      "cell_type": "markdown",
      "metadata": {
        "id": "SwEYbpHomCfw"
      },
      "source": [
        "### <b>학습 진행하기</b>\n",
        "\n",
        "* 기본적인 기울기 함수를 이용하여 학습을 진행합니다."
      ]
    },
    {
      "cell_type": "code",
      "metadata": {
        "id": "S0qHMwvxktDz",
        "colab": {
          "base_uri": "https://localhost:8080/",
          "height": 633
        },
        "outputId": "bdcbe03e-8f32-421e-97bc-3b6e3691133e"
      },
      "source": [
        "w = 4\n",
        "b = 0\n",
        "h = H(w, b)\n",
        "learning_rate = 0.001\n",
        "    \n",
        "for i in range(10001):\n",
        "    w_gradient, b_gradient, cost = h.get_gradient_using_derivative(X, Y)\n",
        "    h.set_w(h.get_w() + learning_rate * -w_gradient)\n",
        "    h.set_b(h.get_b() + learning_rate * -b_gradient)\n",
        "    if i % 1000 == 0:\n",
        "        print(\"[ epoch: %d, cost: %.2f ]\" % (i, cost))\n",
        "        print(\"w = %.2f, w_gradient = %.2f\" % (h.get_w(), w_gradient))\n",
        "        print(\"b = %.2f, b_gradient = %.2f\" % (h.get_b(), b_gradient))\n",
        "        \n",
        "print(\"f(x) = %.2fx + %.2f\" %(h.get_w(), h.get_b()))\n",
        "print(\"예측값: [%.2f]\" %(h.forward(8)))"
      ],
      "execution_count": null,
      "outputs": [
        {
          "output_type": "stream",
          "text": [
            "[ epoch: 0, cost: 13450708891.43 ]\n",
            "w = 1040.98, w_gradient = -1036982.86\n",
            "b = 207.97, b_gradient = -207968.00\n",
            "[ epoch: 1000, cost: 9835710.05 ]\n",
            "w = 25147.86, w_gradient = -190.39\n",
            "b = 3879.77, b_gradient = 942.78\n",
            "[ epoch: 2000, cost: 9190190.40 ]\n",
            "w = 25305.88, w_gradient = -129.61\n",
            "b = 3097.25, b_gradient = 641.81\n",
            "[ epoch: 3000, cost: 8891034.74 ]\n",
            "w = 25413.46, w_gradient = -88.23\n",
            "b = 2564.54, b_gradient = 436.92\n",
            "[ epoch: 4000, cost: 8752395.88 ]\n",
            "w = 25486.69, w_gradient = -60.06\n",
            "b = 2201.89, b_gradient = 297.44\n",
            "[ epoch: 5000, cost: 8688145.94 ]\n",
            "w = 25536.55, w_gradient = -40.89\n",
            "b = 1955.02, b_gradient = 202.48\n",
            "[ epoch: 6000, cost: 8658370.34 ]\n",
            "w = 25570.48, w_gradient = -27.84\n",
            "b = 1786.96, b_gradient = 137.84\n",
            "[ epoch: 7000, cost: 8644571.32 ]\n",
            "w = 25593.59, w_gradient = -18.95\n",
            "b = 1672.54, b_gradient = 93.84\n",
            "[ epoch: 8000, cost: 8638176.39 ]\n",
            "w = 25609.32, w_gradient = -12.90\n",
            "b = 1594.66, b_gradient = 63.88\n",
            "[ epoch: 9000, cost: 8635212.76 ]\n",
            "w = 25620.02, w_gradient = -8.78\n",
            "b = 1541.64, b_gradient = 43.49\n",
            "[ epoch: 10000, cost: 8633839.31 ]\n",
            "w = 25627.31, w_gradient = -5.98\n",
            "b = 1505.54, b_gradient = 29.60\n",
            "f(x) = 25627.31x + 1505.54\n",
            "예측값: [206524.05]\n"
          ],
          "name": "stdout"
        }
      ]
    },
    {
      "cell_type": "markdown",
      "metadata": {
        "id": "P6pxCvF3mFlT"
      },
      "source": [
        "### <b>학습 결과</b>"
      ]
    },
    {
      "cell_type": "code",
      "metadata": {
        "id": "v_3C1K8GB9R6",
        "colab": {
          "base_uri": "https://localhost:8080/",
          "height": 282
        },
        "outputId": "9ddf0370-c481-4b8e-af04-2038b193659d"
      },
      "source": [
        "x_pred = [i for i in range(11)]\n",
        "y_pred = [h.get_w() * i + h.get_b() for i in range(11)]\n",
        "plt.plot(x_pred, y_pred)\n",
        "plt.scatter(X, Y)"
      ],
      "execution_count": null,
      "outputs": [
        {
          "output_type": "execute_result",
          "data": {
            "text/plain": [
              "<matplotlib.collections.PathCollection at 0x7f50da83fb00>"
            ]
          },
          "metadata": {
            "tags": []
          },
          "execution_count": 4
        },
        {
          "output_type": "display_data",
          "data": {
            "image/png": "[encoded data removed]",
            "text/plain": [
              "<Figure size 432x288 with 1 Axes>"
            ]
          },
          "metadata": {
            "tags": [],
            "needs_background": "light"
          }
        }
      ]
    }
  ]
}
