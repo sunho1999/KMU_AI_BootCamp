{
  "nbformat": 4,
  "nbformat_minor": 0,
  "metadata": {
    "colab": {
      "name": "Linear Regression PyTorch로 구현",
      "provenance": [],
      "collapsed_sections": []
    },
    "kernelspec": {
      "name": "python3",
      "display_name": "Python 3"
    }
  },
  "cells": [
    {
      "cell_type": "code",
      "metadata": {
        "id": "36NAurqECxnn",
        "colab": {
          "base_uri": "https://localhost:8080/",
          "height": 439
        },
        "outputId": "be639cef-65df-4ccf-e1dc-64573dd51ced"
      },
      "source": [
        "import torch\n",
        "\n",
        "X = [1, 2, 3, 4, 5, 6, 7]\n",
        "Y = [25000, 55000, 75000, 110000, 128000, 155000, 180000]\n",
        "\n",
        "X = [[i] for i in X]\n",
        "Y = [[i] for i in Y]\n",
        "\n",
        "x_data = torch.Tensor(X)\n",
        "y_data = torch.Tensor(Y)\n",
        "  \n",
        "class LinearRegressionModel(torch.nn.Module): \n",
        "    def __init__(self, input_dim, output_dim):\n",
        "        super(LinearRegressionModel, self).__init__() \n",
        "        self.linear = torch.nn.Linear(input_dim, output_dim)\n",
        "    def forward(self, x): \n",
        "        y_pred = self.linear(x)\n",
        "        return y_pred\n",
        "\n",
        "model = LinearRegressionModel(1, 1)\n",
        "\n",
        "criterion = torch.nn.MSELoss()\n",
        "optimizer = torch.optim.SGD(model.parameters(), lr=0.001) \n",
        "\n",
        "for epoch in range(10001): \n",
        "    pred_y = model(x_data)\n",
        "    loss = criterion(pred_y, y_data)\n",
        "    optimizer.zero_grad() \n",
        "    loss.backward() \n",
        "    optimizer.step()\n",
        "    if epoch % 1000 == 0:\n",
        "        print(\"[ epoch: %d, cost: %.2f ]\" % (epoch, loss.data))\n",
        "        print(\"w = %.2f, b = %.2f\" % (model.linear.weight, model.linear.bias))\n",
        "\n",
        "print(\"f(x) = %.2fx + %.2f\" % (model.linear.weight, model.linear.bias))\n",
        "print(\"예측값: [%.2f]\" % (model(torch.Tensor([[8]]))))"
      ],
      "execution_count": null,
      "outputs": [
        {
          "output_type": "stream",
          "text": [
            "[ epoch: 0, cost: 13455522816.00 ]\n",
            "w = 1036.49, b = 208.20\n",
            "[ epoch: 1000, cost: 9836451.00 ]\n",
            "w = 25147.71, b = 3880.53\n",
            "[ epoch: 2000, cost: 9190552.00 ]\n",
            "w = 25305.77, b = 3097.79\n",
            "[ epoch: 3000, cost: 8891225.00 ]\n",
            "w = 25413.36, b = 2564.96\n",
            "[ epoch: 4000, cost: 8752501.00 ]\n",
            "w = 25486.61, b = 2202.24\n",
            "[ epoch: 5000, cost: 8688207.00 ]\n",
            "w = 25536.47, b = 1955.31\n",
            "[ epoch: 6000, cost: 8658409.00 ]\n",
            "w = 25570.42, b = 1787.21\n",
            "[ epoch: 7000, cost: 8644593.00 ]\n",
            "w = 25593.54, b = 1672.78\n",
            "[ epoch: 8000, cost: 8638193.00 ]\n",
            "w = 25609.28, b = 1594.86\n",
            "[ epoch: 9000, cost: 8635219.00 ]\n",
            "w = 25619.99, b = 1541.81\n",
            "[ epoch: 10000, cost: 8633847.00 ]\n",
            "w = 25627.26, b = 1505.71\n",
            "f(x) = 25627.26x + 1505.71\n",
            "예측값: [206523.78]\n"
          ],
          "name": "stdout"
        }
      ]
    }
  ]
}
