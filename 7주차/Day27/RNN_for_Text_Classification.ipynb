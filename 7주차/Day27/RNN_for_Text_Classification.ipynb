{
  "nbformat": 4,
  "nbformat_minor": 0,
  "metadata": {
    "colab": {
      "name": "RNN_for_Text_Classification",
      "provenance": [],
      "collapsed_sections": []
    },
    "kernelspec": {
      "name": "python3",
      "display_name": "Python 3"
    },
    "accelerator": "GPU"
  },
  "cells": [
    {
      "cell_type": "markdown",
      "metadata": {
        "id": "XakCppC2D2ii"
      },
      "source": [
        "<h6><b>실습을 위한 데이터셋 불러오기</b></h6>"
      ]
    },
    {
      "cell_type": "code",
      "metadata": {
        "id": "j_SRh53U4daQ",
        "colab": {
          "base_uri": "https://localhost:8080/"
        },
        "outputId": "909a2a10-13e5-4953-ee98-9632c1c1e667"
      },
      "source": [
        "!wget https://raw.githubusercontent.com/mohitgupta-omg/Kaggle-SMS-Spam-Collection-Dataset-/master/spam.csv -O spam.csv"
      ],
      "execution_count": 43,
      "outputs": [
        {
          "output_type": "stream",
          "text": [
            "--2020-11-25 07:40:34--  https://raw.githubusercontent.com/mohitgupta-omg/Kaggle-SMS-Spam-Collection-Dataset-/master/spam.csv\n",
            "Resolving raw.githubusercontent.com (raw.githubusercontent.com)... 151.101.0.133, 151.101.64.133, 151.101.128.133, ...\n",
            "Connecting to raw.githubusercontent.com (raw.githubusercontent.com)|151.101.0.133|:443... connected.\n",
            "HTTP request sent, awaiting response... 200 OK\n",
            "Length: 503663 (492K) [text/plain]\n",
            "Saving to: ‘spam.csv’\n",
            "\n",
            "\rspam.csv              0%[                    ]       0  --.-KB/s               \rspam.csv            100%[===================>] 491.86K  --.-KB/s    in 0.03s   \n",
            "\n",
            "2020-11-25 07:40:34 (15.5 MB/s) - ‘spam.csv’ saved [503663/503663]\n",
            "\n"
          ],
          "name": "stdout"
        }
      ]
    },
    {
      "cell_type": "code",
      "metadata": {
        "id": "nHnSEcTw98C_"
      },
      "source": [
        "# 필요한 라이브러리를 불러옵니다.\n",
        "import pandas as pd\n",
        "\n",
        "# 학습용 데이터를 초기화합니다.\n",
        "dataset = pd.read_csv('spam.csv', encoding='latin1')"
      ],
      "execution_count": 44,
      "outputs": []
    },
    {
      "cell_type": "code",
      "metadata": {
        "id": "_NMWEsma9_EV",
        "colab": {
          "base_uri": "https://localhost:8080/",
          "height": 402
        },
        "outputId": "2bdd2bab-e8de-452b-a899-16012363cb11"
      },
      "source": [
        "dataset"
      ],
      "execution_count": 45,
      "outputs": [
        {
          "output_type": "execute_result",
          "data": {
            "text/html": [
              "<div>\n",
              "<style scoped>\n",
              "    .dataframe tbody tr th:only-of-type {\n",
              "        vertical-align: middle;\n",
              "    }\n",
              "\n",
              "    .dataframe tbody tr th {\n",
              "        vertical-align: top;\n",
              "    }\n",
              "\n",
              "    .dataframe thead th {\n",
              "        text-align: right;\n",
              "    }\n",
              "</style>\n",
              "<table border=\"1\" class=\"dataframe\">\n",
              "  <thead>\n",
              "    <tr style=\"text-align: right;\">\n",
              "      <th></th>\n",
              "      <th>v1</th>\n",
              "      <th>v2</th>\n",
              "      <th>Unnamed: 2</th>\n",
              "      <th>Unnamed: 3</th>\n",
              "      <th>Unnamed: 4</th>\n",
              "    </tr>\n",
              "  </thead>\n",
              "  <tbody>\n",
              "    <tr>\n",
              "      <th>0</th>\n",
              "      <td>ham</td>\n",
              "      <td>Go until jurong point, crazy.. Available only ...</td>\n",
              "      <td>NaN</td>\n",
              "      <td>NaN</td>\n",
              "      <td>NaN</td>\n",
              "    </tr>\n",
              "    <tr>\n",
              "      <th>1</th>\n",
              "      <td>ham</td>\n",
              "      <td>Ok lar... Joking wif u oni...</td>\n",
              "      <td>NaN</td>\n",
              "      <td>NaN</td>\n",
              "      <td>NaN</td>\n",
              "    </tr>\n",
              "    <tr>\n",
              "      <th>2</th>\n",
              "      <td>spam</td>\n",
              "      <td>Free entry in 2 a wkly comp to win FA Cup fina...</td>\n",
              "      <td>NaN</td>\n",
              "      <td>NaN</td>\n",
              "      <td>NaN</td>\n",
              "    </tr>\n",
              "    <tr>\n",
              "      <th>3</th>\n",
              "      <td>ham</td>\n",
              "      <td>U dun say so early hor... U c already then say...</td>\n",
              "      <td>NaN</td>\n",
              "      <td>NaN</td>\n",
              "      <td>NaN</td>\n",
              "    </tr>\n",
              "    <tr>\n",
              "      <th>4</th>\n",
              "      <td>ham</td>\n",
              "      <td>Nah I don't think he goes to usf, he lives aro...</td>\n",
              "      <td>NaN</td>\n",
              "      <td>NaN</td>\n",
              "      <td>NaN</td>\n",
              "    </tr>\n",
              "    <tr>\n",
              "      <th>...</th>\n",
              "      <td>...</td>\n",
              "      <td>...</td>\n",
              "      <td>...</td>\n",
              "      <td>...</td>\n",
              "      <td>...</td>\n",
              "    </tr>\n",
              "    <tr>\n",
              "      <th>5567</th>\n",
              "      <td>spam</td>\n",
              "      <td>This is the 2nd time we have tried 2 contact u...</td>\n",
              "      <td>NaN</td>\n",
              "      <td>NaN</td>\n",
              "      <td>NaN</td>\n",
              "    </tr>\n",
              "    <tr>\n",
              "      <th>5568</th>\n",
              "      <td>ham</td>\n",
              "      <td>Will Ì_ b going to esplanade fr home?</td>\n",
              "      <td>NaN</td>\n",
              "      <td>NaN</td>\n",
              "      <td>NaN</td>\n",
              "    </tr>\n",
              "    <tr>\n",
              "      <th>5569</th>\n",
              "      <td>ham</td>\n",
              "      <td>Pity, * was in mood for that. So...any other s...</td>\n",
              "      <td>NaN</td>\n",
              "      <td>NaN</td>\n",
              "      <td>NaN</td>\n",
              "    </tr>\n",
              "    <tr>\n",
              "      <th>5570</th>\n",
              "      <td>ham</td>\n",
              "      <td>The guy did some bitching but I acted like i'd...</td>\n",
              "      <td>NaN</td>\n",
              "      <td>NaN</td>\n",
              "      <td>NaN</td>\n",
              "    </tr>\n",
              "    <tr>\n",
              "      <th>5571</th>\n",
              "      <td>ham</td>\n",
              "      <td>Rofl. Its true to its name</td>\n",
              "      <td>NaN</td>\n",
              "      <td>NaN</td>\n",
              "      <td>NaN</td>\n",
              "    </tr>\n",
              "  </tbody>\n",
              "</table>\n",
              "<p>5572 rows × 5 columns</p>\n",
              "</div>"
            ],
            "text/plain": [
              "        v1  ... Unnamed: 4\n",
              "0      ham  ...        NaN\n",
              "1      ham  ...        NaN\n",
              "2     spam  ...        NaN\n",
              "3      ham  ...        NaN\n",
              "4      ham  ...        NaN\n",
              "...    ...  ...        ...\n",
              "5567  spam  ...        NaN\n",
              "5568   ham  ...        NaN\n",
              "5569   ham  ...        NaN\n",
              "5570   ham  ...        NaN\n",
              "5571   ham  ...        NaN\n",
              "\n",
              "[5572 rows x 5 columns]"
            ]
          },
          "metadata": {
            "tags": []
          },
          "execution_count": 45
        }
      ]
    },
    {
      "cell_type": "markdown",
      "metadata": {
        "id": "c9xa5tmwD5l_"
      },
      "source": [
        "<h6><b>데이터 전처리하기</b></h6>"
      ]
    },
    {
      "cell_type": "code",
      "metadata": {
        "id": "tLZqAj1--Fka"
      },
      "source": [
        "# 사용되지 않는 시리즈(Series) 제거하기\n",
        "dataset = dataset.drop(['Unnamed: 2', 'Unnamed: 3', 'Unnamed: 4'], axis=1)"
      ],
      "execution_count": 46,
      "outputs": []
    },
    {
      "cell_type": "code",
      "metadata": {
        "id": "JqPeyxjKC0zC"
      },
      "source": [
        "dataset.rename(columns={'v1':'label'}, inplace=True)\n",
        "dataset.rename(columns={'v2':'content'}, inplace=True)\n",
        "\n",
        "dataset['label'] = dataset['label'].replace('ham', 0)\n",
        "dataset['label'] = dataset['label'].replace('spam', 1)"
      ],
      "execution_count": 47,
      "outputs": []
    },
    {
      "cell_type": "code",
      "metadata": {
        "id": "ZcQhB5GSCcek",
        "colab": {
          "base_uri": "https://localhost:8080/",
          "height": 402
        },
        "outputId": "9e120929-1519-4dff-a626-ec2781556545"
      },
      "source": [
        "dataset"
      ],
      "execution_count": 48,
      "outputs": [
        {
          "output_type": "execute_result",
          "data": {
            "text/html": [
              "<div>\n",
              "<style scoped>\n",
              "    .dataframe tbody tr th:only-of-type {\n",
              "        vertical-align: middle;\n",
              "    }\n",
              "\n",
              "    .dataframe tbody tr th {\n",
              "        vertical-align: top;\n",
              "    }\n",
              "\n",
              "    .dataframe thead th {\n",
              "        text-align: right;\n",
              "    }\n",
              "</style>\n",
              "<table border=\"1\" class=\"dataframe\">\n",
              "  <thead>\n",
              "    <tr style=\"text-align: right;\">\n",
              "      <th></th>\n",
              "      <th>label</th>\n",
              "      <th>content</th>\n",
              "    </tr>\n",
              "  </thead>\n",
              "  <tbody>\n",
              "    <tr>\n",
              "      <th>0</th>\n",
              "      <td>0</td>\n",
              "      <td>Go until jurong point, crazy.. Available only ...</td>\n",
              "    </tr>\n",
              "    <tr>\n",
              "      <th>1</th>\n",
              "      <td>0</td>\n",
              "      <td>Ok lar... Joking wif u oni...</td>\n",
              "    </tr>\n",
              "    <tr>\n",
              "      <th>2</th>\n",
              "      <td>1</td>\n",
              "      <td>Free entry in 2 a wkly comp to win FA Cup fina...</td>\n",
              "    </tr>\n",
              "    <tr>\n",
              "      <th>3</th>\n",
              "      <td>0</td>\n",
              "      <td>U dun say so early hor... U c already then say...</td>\n",
              "    </tr>\n",
              "    <tr>\n",
              "      <th>4</th>\n",
              "      <td>0</td>\n",
              "      <td>Nah I don't think he goes to usf, he lives aro...</td>\n",
              "    </tr>\n",
              "    <tr>\n",
              "      <th>...</th>\n",
              "      <td>...</td>\n",
              "      <td>...</td>\n",
              "    </tr>\n",
              "    <tr>\n",
              "      <th>5567</th>\n",
              "      <td>1</td>\n",
              "      <td>This is the 2nd time we have tried 2 contact u...</td>\n",
              "    </tr>\n",
              "    <tr>\n",
              "      <th>5568</th>\n",
              "      <td>0</td>\n",
              "      <td>Will Ì_ b going to esplanade fr home?</td>\n",
              "    </tr>\n",
              "    <tr>\n",
              "      <th>5569</th>\n",
              "      <td>0</td>\n",
              "      <td>Pity, * was in mood for that. So...any other s...</td>\n",
              "    </tr>\n",
              "    <tr>\n",
              "      <th>5570</th>\n",
              "      <td>0</td>\n",
              "      <td>The guy did some bitching but I acted like i'd...</td>\n",
              "    </tr>\n",
              "    <tr>\n",
              "      <th>5571</th>\n",
              "      <td>0</td>\n",
              "      <td>Rofl. Its true to its name</td>\n",
              "    </tr>\n",
              "  </tbody>\n",
              "</table>\n",
              "<p>5572 rows × 2 columns</p>\n",
              "</div>"
            ],
            "text/plain": [
              "      label                                            content\n",
              "0         0  Go until jurong point, crazy.. Available only ...\n",
              "1         0                      Ok lar... Joking wif u oni...\n",
              "2         1  Free entry in 2 a wkly comp to win FA Cup fina...\n",
              "3         0  U dun say so early hor... U c already then say...\n",
              "4         0  Nah I don't think he goes to usf, he lives aro...\n",
              "...     ...                                                ...\n",
              "5567      1  This is the 2nd time we have tried 2 contact u...\n",
              "5568      0              Will Ì_ b going to esplanade fr home?\n",
              "5569      0  Pity, * was in mood for that. So...any other s...\n",
              "5570      0  The guy did some bitching but I acted like i'd...\n",
              "5571      0                         Rofl. Its true to its name\n",
              "\n",
              "[5572 rows x 2 columns]"
            ]
          },
          "metadata": {
            "tags": []
          },
          "execution_count": 48
        }
      ]
    },
    {
      "cell_type": "code",
      "metadata": {
        "id": "CCA6TJ0qDhxq",
        "colab": {
          "base_uri": "https://localhost:8080/",
          "height": 281
        },
        "outputId": "14cea728-34db-436e-febf-45207e4996cf"
      },
      "source": [
        "# 레이블을 값에 따라서 카운트를 한 뒤에 시각화\n",
        "dataset['label'].value_counts().plot(kind='bar')"
      ],
      "execution_count": 51,
      "outputs": [
        {
          "output_type": "execute_result",
          "data": {
            "text/plain": [
              "<matplotlib.axes._subplots.AxesSubplot at 0x7f06c3b28b70>"
            ]
          },
          "metadata": {
            "tags": []
          },
          "execution_count": 51
        },
        {
          "output_type": "display_data",
          "data": {
            "image/png": "[encoded data removed]",
            "text/plain": [
              "<Figure size 432x288 with 1 Axes>"
            ]
          },
          "metadata": {
            "tags": [],
            "needs_background": "light"
          }
        }
      ]
    },
    {
      "cell_type": "code",
      "metadata": {
        "id": "f-U982-DEByF",
        "colab": {
          "base_uri": "https://localhost:8080/"
        },
        "outputId": "ed891e48-3cbb-49f3-fde5-4cf6f7eb4be0"
      },
      "source": [
        "# 입력 데이터와 정답 데이터를 각각 초기화합니다.\n",
        "X_data = dataset['content']\n",
        "y_data = dataset['label']\n",
        "print(len(X_data))\n",
        "print(len(y_data))"
      ],
      "execution_count": 52,
      "outputs": [
        {
          "output_type": "stream",
          "text": [
            "5572\n",
            "5572\n"
          ],
          "name": "stdout"
        }
      ]
    },
    {
      "cell_type": "code",
      "metadata": {
        "id": "412FFs_aEVMy"
      },
      "source": [
        "# 토큰화를 수행하기 위해 라이브러리를 불러옵니다.\n",
        "from tensorflow.keras.preprocessing.text import Tokenizer\n",
        "\n",
        "# 각 문장에 대하여 토큰화를 수행합니다.\n",
        "tokenizer = Tokenizer()\n",
        "tokenizer.fit_on_texts(X_data)\n",
        "# 각 단어 시퀀스를 인덱스 형태로 변환하여 저장합니다.\n",
        "sequences = tokenizer.texts_to_sequences(X_data)"
      ],
      "execution_count": 53,
      "outputs": []
    },
    {
      "cell_type": "code",
      "metadata": {
        "id": "ly3SN4Ulrbmw",
        "colab": {
          "base_uri": "https://localhost:8080/"
        },
        "outputId": "1f495742-b4ae-418c-efb5-878cae565591"
      },
      "source": [
        "# 토큰화 되어 데이터를 출력해 봅니다.\n",
        "print(sequences[:5])"
      ],
      "execution_count": 54,
      "outputs": [
        {
          "output_type": "stream",
          "text": [
            "[[50, 469, 4410, 841, 751, 657, 64, 8, 1324, 89, 121, 349, 1325, 147, 2987, 1326, 67, 58, 4411, 144], [46, 336, 1495, 470, 6, 1929], [47, 486, 8, 19, 4, 796, 899, 2, 178, 1930, 1199, 658, 1931, 2320, 267, 2321, 71, 1930, 2, 1932, 2, 337, 486, 554, 955, 73, 388, 179, 659, 389, 2988], [6, 245, 152, 23, 379, 2989, 6, 140, 154, 57, 152], [1018, 1, 98, 107, 69, 487, 2, 956, 69, 1933, 218, 111, 471]]\n"
          ],
          "name": "stdout"
        }
      ]
    },
    {
      "cell_type": "code",
      "metadata": {
        "id": "DYt3IO2FEYO4",
        "colab": {
          "base_uri": "https://localhost:8080/"
        },
        "outputId": "453fdb28-3fce-4467-cdd1-1cbacdcca03b"
      },
      "source": [
        "# 각각의 단어들에 해당하는 인덱스를 찾습니다.\n",
        "word_to_index = tokenizer.word_index\n",
        "# print(word_to_index)\n",
        "print(\"전체 단어의 개수:\", len(word_to_index)) # 전체 단어 목록(Vocabulary)의 크기를 출력합니다."
      ],
      "execution_count": 55,
      "outputs": [
        {
          "output_type": "stream",
          "text": [
            "전체 단어의 개수: 8920\n"
          ],
          "name": "stdout"
        }
      ]
    },
    {
      "cell_type": "code",
      "metadata": {
        "id": "X0JZoX1BE2MR",
        "colab": {
          "base_uri": "https://localhost:8080/",
          "height": 279
        },
        "outputId": "664df4de-32d4-4f55-f10b-405ac7a79bce"
      },
      "source": [
        "import matplotlib.pyplot as plt\n",
        "\n",
        "# 입력 데이터로 변형된 단어 시퀀스를 넣습니다.\n",
        "X_data = sequences\n",
        "\n",
        "# 각 문자 메시지에 담긴 단어의 개수 통계를 확인합니다.\n",
        "plt.hist([len(s) for s in X_data], bins=50)\n",
        "plt.xlabel('length of samples')\n",
        "plt.ylabel('number of samples')\n",
        "plt.show()"
      ],
      "execution_count": 56,
      "outputs": [
        {
          "output_type": "display_data",
          "data": {
            "image/png": "[encoded data removed]",
            "text/plain": [
              "<Figure size 432x288 with 1 Axes>"
            ]
          },
          "metadata": {
            "tags": [],
            "needs_background": "light"
          }
        }
      ]
    },
    {
      "cell_type": "markdown",
      "metadata": {
        "id": "phKoj-LGFBCr"
      },
      "source": [
        "<h6><b>RNN을 이용해 학습 진행하기</b></h6>"
      ]
    },
    {
      "cell_type": "markdown",
      "metadata": {
        "id": "KqNggmiVsMJW"
      },
      "source": [
        "* 전체 데이터를 학습 데이터와 테스트 데이터로 나눕니다.\n"
      ]
    },
    {
      "cell_type": "code",
      "metadata": {
        "id": "2NbJvbe1FTWQ"
      },
      "source": [
        "train_ratio = int(len(sequences) * 0.8)\n",
        "test_ratio = int(len(sequences) - train_ratio)"
      ],
      "execution_count": 57,
      "outputs": []
    },
    {
      "cell_type": "code",
      "metadata": {
        "id": "hA2kBcfhsSOj",
        "colab": {
          "base_uri": "https://localhost:8080/"
        },
        "outputId": "4a754279-2b4d-4b64-a01d-688db198d810"
      },
      "source": [
        "# 학습 데이터의 개수\n",
        "print(train_ratio)\n",
        "# 테스트 데이터의 개수\n",
        "print(test_ratio)"
      ],
      "execution_count": 58,
      "outputs": [
        {
          "output_type": "stream",
          "text": [
            "4457\n",
            "1115\n"
          ],
          "name": "stdout"
        }
      ]
    },
    {
      "cell_type": "code",
      "metadata": {
        "id": "HADE26xosbY-",
        "colab": {
          "base_uri": "https://localhost:8080/"
        },
        "outputId": "b7bd50f7-f8e5-4b85-de30-3ce476c3e512"
      },
      "source": [
        "# 가장 많은 단어를 포함하고 있는 문장을 찾습니다.\n",
        "max_length = 0\n",
        "for words in X_data:\n",
        "    max_length = max(max_length, len(words))\n",
        "\n",
        "print(max_length)"
      ],
      "execution_count": 59,
      "outputs": [
        {
          "output_type": "stream",
          "text": [
            "189\n"
          ],
          "name": "stdout"
        }
      ]
    },
    {
      "cell_type": "code",
      "metadata": {
        "id": "UT4eNcECFCYj",
        "colab": {
          "base_uri": "https://localhost:8080/"
        },
        "outputId": "a86fc58b-0bf3-457c-d3dd-3d4f812c18e4"
      },
      "source": [
        "from tensorflow.keras.preprocessing.sequence import pad_sequences\n",
        "import numpy as np\n",
        "\n",
        "# 모든 데이터 셋의 크기는 가장 긴 데이터를 기준으로 맞춥니다. (길이: 189)\n",
        "dataset = pad_sequences(X_data, maxlen=max_length)\n",
        "print(\"훈련 데이터의 크기(shape): \", dataset.shape)"
      ],
      "execution_count": 60,
      "outputs": [
        {
          "output_type": "stream",
          "text": [
            "훈련 데이터의 크기(shape):  (5572, 189)\n"
          ],
          "name": "stdout"
        }
      ]
    },
    {
      "cell_type": "code",
      "metadata": {
        "id": "m4PsFn8_FZSW",
        "colab": {
          "base_uri": "https://localhost:8080/"
        },
        "outputId": "cb9357a1-11a3-4976-dd87-07626752ba89"
      },
      "source": [
        "# 첫 번째 데이터는 어떻게 바뀌었을까요?\n",
        "print(dataset[0])"
      ],
      "execution_count": 61,
      "outputs": [
        {
          "output_type": "stream",
          "text": [
            "[   0    0    0    0    0    0    0    0    0    0    0    0    0    0\n",
            "    0    0    0    0    0    0    0    0    0    0    0    0    0    0\n",
            "    0    0    0    0    0    0    0    0    0    0    0    0    0    0\n",
            "    0    0    0    0    0    0    0    0    0    0    0    0    0    0\n",
            "    0    0    0    0    0    0    0    0    0    0    0    0    0    0\n",
            "    0    0    0    0    0    0    0    0    0    0    0    0    0    0\n",
            "    0    0    0    0    0    0    0    0    0    0    0    0    0    0\n",
            "    0    0    0    0    0    0    0    0    0    0    0    0    0    0\n",
            "    0    0    0    0    0    0    0    0    0    0    0    0    0    0\n",
            "    0    0    0    0    0    0    0    0    0    0    0    0    0    0\n",
            "    0    0    0    0    0    0    0    0    0    0    0    0    0    0\n",
            "    0    0    0    0    0    0    0    0    0    0    0    0    0    0\n",
            "    0   50  469 4410  841  751  657   64    8 1324   89  121  349 1325\n",
            "  147 2987 1326   67   58 4411  144]\n"
          ],
          "name": "stdout"
        }
      ]
    },
    {
      "cell_type": "code",
      "metadata": {
        "id": "eMODqUlMFK_n"
      },
      "source": [
        "# 기존 데이터셋에서 뒷부분의 데이터를 테스트 데이터로 사용\n",
        "X_test = dataset[train_ratio:]\n",
        "y_test = np.array(y_data[train_ratio:])\n",
        "# 기존 데이터셋에서 앞부분의 데이터를 학습 데이터로 사용\n",
        "X_train = dataset[:train_ratio]\n",
        "y_train = np.array(y_data[:train_ratio])"
      ],
      "execution_count": 62,
      "outputs": []
    },
    {
      "cell_type": "code",
      "metadata": {
        "id": "H_e9kyIXFsiI"
      },
      "source": [
        "# RNN 아키텍처를 위한 라이브러리 불러오기\n",
        "from tensorflow.keras.models import Sequential\n",
        "from tensorflow.keras.layers import SimpleRNN, Embedding, Dense"
      ],
      "execution_count": 63,
      "outputs": []
    },
    {
      "cell_type": "code",
      "metadata": {
        "id": "uxVIkfh_Fx6j",
        "colab": {
          "base_uri": "https://localhost:8080/"
        },
        "outputId": "a8632bf0-1d37-4b15-9a57-486960f9e744"
      },
      "source": [
        "# 기본적으로 단어 인덱스가 0(패딩)부터 시작하므로, 전체 단어 사이즈에는 1을 더합니다.\n",
        "voca_size = len(word_to_index) + 1\n",
        "print('단어 집합의 크기: {}'.format((voca_size)))"
      ],
      "execution_count": 64,
      "outputs": [
        {
          "output_type": "stream",
          "text": [
            "단어 집합의 크기: 8921\n"
          ],
          "name": "stdout"
        }
      ]
    },
    {
      "cell_type": "code",
      "metadata": {
        "id": "RMdN8PimFt7e",
        "colab": {
          "base_uri": "https://localhost:8080/"
        },
        "outputId": "9807f665-2aa7-424d-e35e-ccb59f9f31cc"
      },
      "source": [
        "# Hidden Size로 64를 설정합니다.\n",
        "hidden_size = 64\n",
        "\n",
        "# Keras를 이용해 전체 모델을 정의합니다.\n",
        "model = Sequential()\n",
        "model.add(Embedding(voca_size, hidden_size))\n",
        "model.add(SimpleRNN(hidden_size))\n",
        "model.add(Dense(1, activation='sigmoid'))\n",
        "\n",
        "# 스팸/햄 구분이 목적이므로 Binary Cross Entropy Loss를 사용합니다. \n",
        "model.compile(optimizer='rmsprop', loss='binary_crossentropy', metrics=['acc'])\n",
        "\n",
        "# 오버피팅을 방지하기 위하여, Epoch를 5 정도만 돌립니다. (Early Stopping)\n",
        "history = model.fit(X_train, y_train, epochs=5, batch_size=64, validation_split=0.2)"
      ],
      "execution_count": 67,
      "outputs": [
        {
          "output_type": "stream",
          "text": [
            "Epoch 1/5\n",
            "56/56 [==============================] - 7s 123ms/step - loss: 0.3429 - acc: 0.8755 - val_loss: 0.1525 - val_acc: 0.9451\n",
            "Epoch 2/5\n",
            "56/56 [==============================] - 7s 119ms/step - loss: 0.0919 - acc: 0.9767 - val_loss: 0.0886 - val_acc: 0.9697\n",
            "Epoch 3/5\n",
            "56/56 [==============================] - 7s 121ms/step - loss: 0.0392 - acc: 0.9896 - val_loss: 0.0760 - val_acc: 0.9776\n",
            "Epoch 4/5\n",
            "56/56 [==============================] - 7s 118ms/step - loss: 0.0224 - acc: 0.9935 - val_loss: 0.0620 - val_acc: 0.9809\n",
            "Epoch 5/5\n",
            "56/56 [==============================] - 7s 121ms/step - loss: 0.0107 - acc: 0.9969 - val_loss: 0.0612 - val_acc: 0.9854\n"
          ],
          "name": "stdout"
        }
      ]
    },
    {
      "cell_type": "code",
      "metadata": {
        "id": "I7J13_bLF3ti",
        "colab": {
          "base_uri": "https://localhost:8080/",
          "height": 295
        },
        "outputId": "b58bda4d-cd30-4a63-ce6e-073ec7e72945"
      },
      "source": [
        "# 학습 결과를 시각화하여 출력합니다.\n",
        "epochs = range(1, len(history.history['acc']) + 1)\n",
        "\n",
        "# 학습이 잘 되었는지를 확인하기 위해 오버피팅 그래프를 그립니다.\n",
        "plt.plot(epochs, history.history['loss'])\n",
        "plt.plot(epochs, history.history['val_loss'])\n",
        "plt.title('model loss')\n",
        "plt.ylabel('loss')\n",
        "plt.xlabel('epoch')\n",
        "plt.legend(['train', 'val'], loc='upper left')\n",
        "plt.show()"
      ],
      "execution_count": 68,
      "outputs": [
        {
          "output_type": "display_data",
          "data": {
            "image/png": "[encoded data removed]",
            "text/plain": [
              "<Figure size 432x288 with 1 Axes>"
            ]
          },
          "metadata": {
            "tags": [],
            "needs_background": "light"
          }
        }
      ]
    }
  ]
}