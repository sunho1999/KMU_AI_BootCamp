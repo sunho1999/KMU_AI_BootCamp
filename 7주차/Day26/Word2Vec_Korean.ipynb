{
  "nbformat": 4,
  "nbformat_minor": 0,
  "metadata": {
    "colab": {
      "name": "Word2Vec_Korean",
      "provenance": [],
      "collapsed_sections": []
    },
    "kernelspec": {
      "name": "python3",
      "display_name": "Python 3"
    }
  },
  "cells": [
    {
      "cell_type": "markdown",
      "metadata": {
        "id": "aNnzR9PMojSg"
      },
      "source": [
        "<h2><b>한국어 Word2Vec 실습</b></h2>"
      ]
    },
    {
      "cell_type": "markdown",
      "metadata": {
        "id": "FIBxpmzExLAa"
      },
      "source": [
        "<h5><b>KoNLPy 라이브러리 설치</b></h5>"
      ]
    },
    {
      "cell_type": "code",
      "metadata": {
        "id": "UuiCE1fAneJO",
        "colab": {
          "base_uri": "https://localhost:8080/"
        },
        "outputId": "3f004d18-e5ca-4281-c939-5120078e0d90"
      },
      "source": [
        "!apt-get update\n",
        "!apt-get install g++ openjdk-8-jdk python-dev python3-dev\n",
        "!pip3 install JPype1-py3\n",
        "!pip3 install konlpy"
      ],
      "execution_count": 2,
      "outputs": [
        {
          "output_type": "stream",
          "text": [
            "\r0% [Working]\r            \rHit:1 http://security.ubuntu.com/ubuntu bionic-security InRelease\n",
            "\r0% [Connecting to archive.ubuntu.com (91.189.88.142)] [Connected to cloud.r-pro\r0% [1 InRelease gpgv 88.7 kB] [Connecting to archive.ubuntu.com (91.189.88.142)\r                                                                               \rIgn:2 https://developer.download.nvidia.com/compute/cuda/repos/ubuntu1804/x86_64  InRelease\n",
            "\r0% [1 InRelease gpgv 88.7 kB] [Waiting for headers] [Waiting for headers] [Wait\r                                                                               \rHit:3 https://cloud.r-project.org/bin/linux/ubuntu bionic-cran40/ InRelease\n",
            "\r0% [1 InRelease gpgv 88.7 kB] [Waiting for headers] [Waiting for headers] [Wait\r                                                                               \rIgn:4 https://developer.download.nvidia.com/compute/machine-learning/repos/ubuntu1804/x86_64  InRelease\n",
            "\r                                                                               \r0% [1 InRelease gpgv 88.7 kB] [Waiting for headers] [Waiting for headers]\r                                                                         \rHit:5 http://ppa.launchpad.net/c2d4u.team/c2d4u4.0+/ubuntu bionic InRelease\n",
            "\r0% [1 InRelease gpgv 88.7 kB] [Waiting for headers] [Connecting to ppa.launchpa\r                                                                               \rHit:6 http://archive.ubuntu.com/ubuntu bionic InRelease\n",
            "Hit:7 https://developer.download.nvidia.com/compute/cuda/repos/ubuntu1804/x86_64  Release\n",
            "Hit:8 https://developer.download.nvidia.com/compute/machine-learning/repos/ubuntu1804/x86_64  Release\n",
            "Get:9 http://archive.ubuntu.com/ubuntu bionic-updates InRelease [88.7 kB]\n",
            "Hit:10 http://ppa.launchpad.net/graphics-drivers/ppa/ubuntu bionic InRelease\n",
            "Get:11 http://archive.ubuntu.com/ubuntu bionic-backports InRelease [74.6 kB]\n",
            "Get:14 http://archive.ubuntu.com/ubuntu bionic-updates/main amd64 Packages [2,208 kB]\n",
            "Fetched 2,372 kB in 2s (967 kB/s)\n",
            "Reading package lists... Done\n",
            "Reading package lists... Done\n",
            "Building dependency tree       \n",
            "Reading state information... Done\n",
            "python-dev is already the newest version (2.7.15~rc1-1).\n",
            "g++ is already the newest version (4:7.4.0-1ubuntu2.3).\n",
            "python3-dev is already the newest version (3.6.7-1~18.04).\n",
            "openjdk-8-jdk is already the newest version (8u275-b01-0ubuntu1~18.04).\n",
            "0 upgraded, 0 newly installed, 0 to remove and 60 not upgraded.\n",
            "Requirement already satisfied: JPype1-py3 in /usr/local/lib/python3.6/dist-packages (0.5.5.4)\n",
            "Requirement already satisfied: konlpy in /usr/local/lib/python3.6/dist-packages (0.5.2)\n",
            "Requirement already satisfied: lxml>=4.1.0 in /usr/local/lib/python3.6/dist-packages (from konlpy) (4.2.6)\n",
            "Requirement already satisfied: colorama in /usr/local/lib/python3.6/dist-packages (from konlpy) (0.4.4)\n",
            "Requirement already satisfied: tweepy>=3.7.0 in /usr/local/lib/python3.6/dist-packages (from konlpy) (3.9.0)\n",
            "Requirement already satisfied: JPype1>=0.7.0 in /usr/local/lib/python3.6/dist-packages (from konlpy) (1.1.2)\n",
            "Requirement already satisfied: numpy>=1.6 in /usr/local/lib/python3.6/dist-packages (from konlpy) (1.18.5)\n",
            "Requirement already satisfied: beautifulsoup4==4.6.0 in /usr/local/lib/python3.6/dist-packages (from konlpy) (4.6.0)\n",
            "Requirement already satisfied: six>=1.10.0 in /usr/local/lib/python3.6/dist-packages (from tweepy>=3.7.0->konlpy) (1.15.0)\n",
            "Requirement already satisfied: requests[socks]>=2.11.1 in /usr/local/lib/python3.6/dist-packages (from tweepy>=3.7.0->konlpy) (2.23.0)\n",
            "Requirement already satisfied: requests-oauthlib>=0.7.0 in /usr/local/lib/python3.6/dist-packages (from tweepy>=3.7.0->konlpy) (1.3.0)\n",
            "Requirement already satisfied: typing-extensions; python_version < \"3.8\" in /usr/local/lib/python3.6/dist-packages (from JPype1>=0.7.0->konlpy) (3.7.4.3)\n",
            "Requirement already satisfied: chardet<4,>=3.0.2 in /usr/local/lib/python3.6/dist-packages (from requests[socks]>=2.11.1->tweepy>=3.7.0->konlpy) (3.0.4)\n",
            "Requirement already satisfied: certifi>=2017.4.17 in /usr/local/lib/python3.6/dist-packages (from requests[socks]>=2.11.1->tweepy>=3.7.0->konlpy) (2020.11.8)\n",
            "Requirement already satisfied: urllib3!=1.25.0,!=1.25.1,<1.26,>=1.21.1 in /usr/local/lib/python3.6/dist-packages (from requests[socks]>=2.11.1->tweepy>=3.7.0->konlpy) (1.24.3)\n",
            "Requirement already satisfied: idna<3,>=2.5 in /usr/local/lib/python3.6/dist-packages (from requests[socks]>=2.11.1->tweepy>=3.7.0->konlpy) (2.10)\n",
            "Requirement already satisfied: PySocks!=1.5.7,>=1.5.6; extra == \"socks\" in /usr/local/lib/python3.6/dist-packages (from requests[socks]>=2.11.1->tweepy>=3.7.0->konlpy) (1.7.1)\n",
            "Requirement already satisfied: oauthlib>=3.0.0 in /usr/local/lib/python3.6/dist-packages (from requests-oauthlib>=0.7.0->tweepy>=3.7.0->konlpy) (3.1.0)\n"
          ],
          "name": "stdout"
        }
      ]
    },
    {
      "cell_type": "markdown",
      "metadata": {
        "id": "RbQjwl57xTGA"
      },
      "source": [
        "<h5><b>데이터셋 불러오기</b></h5>"
      ]
    },
    {
      "cell_type": "code",
      "metadata": {
        "id": "rSOcm4dHm018",
        "colab": {
          "base_uri": "https://localhost:8080/"
        },
        "outputId": "14a48b50-13cf-4e22-b53d-bfc573be92d0"
      },
      "source": [
        "# 네이버 리뷰 문장 데이터셋을 불러옵니다.\n",
        "!wget https://raw.githubusercontent.com/e9t/nsmc/master/ratings.txt -O ratings.txt"
      ],
      "execution_count": 3,
      "outputs": [
        {
          "output_type": "stream",
          "text": [
            "--2020-11-25 07:20:14--  https://raw.githubusercontent.com/e9t/nsmc/master/ratings.txt\n",
            "Resolving raw.githubusercontent.com (raw.githubusercontent.com)... 151.101.0.133, 151.101.64.133, 151.101.128.133, ...\n",
            "Connecting to raw.githubusercontent.com (raw.githubusercontent.com)|151.101.0.133|:443... connected.\n",
            "HTTP request sent, awaiting response... 200 OK\n",
            "Length: 19515078 (19M) [text/plain]\n",
            "Saving to: ‘ratings.txt’\n",
            "\n",
            "ratings.txt         100%[===================>]  18.61M  43.7MB/s    in 0.4s    \n",
            "\n",
            "2020-11-25 07:20:14 (43.7 MB/s) - ‘ratings.txt’ saved [19515078/19515078]\n",
            "\n"
          ],
          "name": "stdout"
        }
      ]
    },
    {
      "cell_type": "code",
      "metadata": {
        "id": "lOkyyLs_n74H"
      },
      "source": [
        "# 필요한 라이브러리를 불러옵니다.\n",
        "import pandas as pd\n",
        "\n",
        "# 학습용 데이터를 초기화합니다.\n",
        "train_data = pd.read_table('ratings.txt')"
      ],
      "execution_count": 4,
      "outputs": []
    },
    {
      "cell_type": "code",
      "metadata": {
        "id": "VP4tZT9dn9KH",
        "colab": {
          "base_uri": "https://localhost:8080/",
          "height": 402
        },
        "outputId": "a0d38d88-2e2c-4da7-d233-bd5e704c940e"
      },
      "source": [
        "train_data"
      ],
      "execution_count": 5,
      "outputs": [
        {
          "output_type": "execute_result",
          "data": {
            "text/html": [
              "<div>\n",
              "<style scoped>\n",
              "    .dataframe tbody tr th:only-of-type {\n",
              "        vertical-align: middle;\n",
              "    }\n",
              "\n",
              "    .dataframe tbody tr th {\n",
              "        vertical-align: top;\n",
              "    }\n",
              "\n",
              "    .dataframe thead th {\n",
              "        text-align: right;\n",
              "    }\n",
              "</style>\n",
              "<table border=\"1\" class=\"dataframe\">\n",
              "  <thead>\n",
              "    <tr style=\"text-align: right;\">\n",
              "      <th></th>\n",
              "      <th>id</th>\n",
              "      <th>document</th>\n",
              "      <th>label</th>\n",
              "    </tr>\n",
              "  </thead>\n",
              "  <tbody>\n",
              "    <tr>\n",
              "      <th>0</th>\n",
              "      <td>8112052</td>\n",
              "      <td>어릴때보고 지금다시봐도 재밌어요ㅋㅋ</td>\n",
              "      <td>1</td>\n",
              "    </tr>\n",
              "    <tr>\n",
              "      <th>1</th>\n",
              "      <td>8132799</td>\n",
              "      <td>디자인을 배우는 학생으로, 외국디자이너와 그들이 일군 전통을 통해 발전해가는 문화산...</td>\n",
              "      <td>1</td>\n",
              "    </tr>\n",
              "    <tr>\n",
              "      <th>2</th>\n",
              "      <td>4655635</td>\n",
              "      <td>폴리스스토리 시리즈는 1부터 뉴까지 버릴께 하나도 없음.. 최고.</td>\n",
              "      <td>1</td>\n",
              "    </tr>\n",
              "    <tr>\n",
              "      <th>3</th>\n",
              "      <td>9251303</td>\n",
              "      <td>와.. 연기가 진짜 개쩔구나.. 지루할거라고 생각했는데 몰입해서 봤다.. 그래 이런...</td>\n",
              "      <td>1</td>\n",
              "    </tr>\n",
              "    <tr>\n",
              "      <th>4</th>\n",
              "      <td>10067386</td>\n",
              "      <td>안개 자욱한 밤하늘에 떠 있는 초승달 같은 영화.</td>\n",
              "      <td>1</td>\n",
              "    </tr>\n",
              "    <tr>\n",
              "      <th>...</th>\n",
              "      <td>...</td>\n",
              "      <td>...</td>\n",
              "      <td>...</td>\n",
              "    </tr>\n",
              "    <tr>\n",
              "      <th>199995</th>\n",
              "      <td>8963373</td>\n",
              "      <td>포켓 몬스터 짜가 ㅡㅡ;;</td>\n",
              "      <td>0</td>\n",
              "    </tr>\n",
              "    <tr>\n",
              "      <th>199996</th>\n",
              "      <td>3302770</td>\n",
              "      <td>쓰.레.기</td>\n",
              "      <td>0</td>\n",
              "    </tr>\n",
              "    <tr>\n",
              "      <th>199997</th>\n",
              "      <td>5458175</td>\n",
              "      <td>완전 사이코영화. 마지막은 더욱더 이 영화의질을 떨어트린다.</td>\n",
              "      <td>0</td>\n",
              "    </tr>\n",
              "    <tr>\n",
              "      <th>199998</th>\n",
              "      <td>6908648</td>\n",
              "      <td>왜난 재미없었지 ㅠㅠ 라따뚜이 보고나서 스머프 봐서 그런가 ㅋㅋ</td>\n",
              "      <td>0</td>\n",
              "    </tr>\n",
              "    <tr>\n",
              "      <th>199999</th>\n",
              "      <td>8548411</td>\n",
              "      <td>포풍저그가나가신다영차영차영차</td>\n",
              "      <td>0</td>\n",
              "    </tr>\n",
              "  </tbody>\n",
              "</table>\n",
              "<p>200000 rows × 3 columns</p>\n",
              "</div>"
            ],
            "text/plain": [
              "              id                                           document  label\n",
              "0        8112052                                어릴때보고 지금다시봐도 재밌어요ㅋㅋ      1\n",
              "1        8132799  디자인을 배우는 학생으로, 외국디자이너와 그들이 일군 전통을 통해 발전해가는 문화산...      1\n",
              "2        4655635               폴리스스토리 시리즈는 1부터 뉴까지 버릴께 하나도 없음.. 최고.      1\n",
              "3        9251303  와.. 연기가 진짜 개쩔구나.. 지루할거라고 생각했는데 몰입해서 봤다.. 그래 이런...      1\n",
              "4       10067386                        안개 자욱한 밤하늘에 떠 있는 초승달 같은 영화.      1\n",
              "...          ...                                                ...    ...\n",
              "199995   8963373                                     포켓 몬스터 짜가 ㅡㅡ;;      0\n",
              "199996   3302770                                              쓰.레.기      0\n",
              "199997   5458175                  완전 사이코영화. 마지막은 더욱더 이 영화의질을 떨어트린다.      0\n",
              "199998   6908648                왜난 재미없었지 ㅠㅠ 라따뚜이 보고나서 스머프 봐서 그런가 ㅋㅋ      0\n",
              "199999   8548411                                    포풍저그가나가신다영차영차영차      0\n",
              "\n",
              "[200000 rows x 3 columns]"
            ]
          },
          "metadata": {
            "tags": []
          },
          "execution_count": 5
        }
      ]
    },
    {
      "cell_type": "markdown",
      "metadata": {
        "id": "RhMdz9fvo8FW"
      },
      "source": [
        "<h6><b>데이터 전처리</b></h6>"
      ]
    },
    {
      "cell_type": "markdown",
      "metadata": {
        "id": "_pYbQYYNxZ_5"
      },
      "source": [
        "* 기본적인 데이터 정제 작업을 진행합니다."
      ]
    },
    {
      "cell_type": "code",
      "metadata": {
        "id": "OUFsuWx7n-CU",
        "colab": {
          "base_uri": "https://localhost:8080/"
        },
        "outputId": "68ec33ab-8061-41c2-f7e0-d65f668d6fad"
      },
      "source": [
        "# 널(Null) 값이 존재하는 행을 제거합니다.\n",
        "train_data = train_data.dropna(how='any') \n",
        "# 리뷰 데이터의 개수를 출력합니다.\n",
        "print(len(train_data))"
      ],
      "execution_count": 6,
      "outputs": [
        {
          "output_type": "stream",
          "text": [
            "199992\n"
          ],
          "name": "stdout"
        }
      ]
    },
    {
      "cell_type": "code",
      "metadata": {
        "id": "McJJOqcipC14",
        "colab": {
          "base_uri": "https://localhost:8080/"
        },
        "outputId": "ee9a4ca3-04a3-4b95-fd14-2faeb67bf564"
      },
      "source": [
        "# 정규 표현식(Regular Expression)을 이용해 한글 데이터만 남기기\n",
        "train_data['document'] = train_data['document'].str.replace(\"[^ㄱ-ㅎㅏ-ㅣ가-힣 ]\",\"\")"
      ],
      "execution_count": 7,
      "outputs": [
        {
          "output_type": "stream",
          "text": [
            "/usr/local/lib/python3.6/dist-packages/ipykernel_launcher.py:2: SettingWithCopyWarning: \n",
            "A value is trying to be set on a copy of a slice from a DataFrame.\n",
            "Try using .loc[row_indexer,col_indexer] = value instead\n",
            "\n",
            "See the caveats in the documentation: https://pandas.pydata.org/pandas-docs/stable/user_guide/indexing.html#returning-a-view-versus-a-copy\n",
            "  \n"
          ],
          "name": "stderr"
        }
      ]
    },
    {
      "cell_type": "markdown",
      "metadata": {
        "id": "HO-Jcc5qpREH"
      },
      "source": [
        "<h6><b>한글 형태소 분석 및 토큰화 수행</b></h6>"
      ]
    },
    {
      "cell_type": "code",
      "metadata": {
        "id": "a-2mH4WopUEL"
      },
      "source": [
        "# 한글 형태소 분석기를 이용해 토큰화 작업을 수행합니다. (15분가량 소요)\n",
        "from konlpy.tag import Okt\n",
        "\n",
        "tokenized_dataset = [] # 토큰화 완료된 학습 데이터\n",
        "stopwords = ['은', '는', '이', '가', '을', '를'] # 불용어 정의\n",
        "okt = Okt() # 한글 형태소 분석기 라이브러리 객체 선언\n",
        "\n",
        "for w in train_data['document']:\n",
        "    tokenized = okt.morphs(w, stem=True)\n",
        "    tokenized = [word for word in tokenized if not word in stopwords]\n",
        "    tokenized_dataset.append(tokenized)"
      ],
      "execution_count": 8,
      "outputs": []
    },
    {
      "cell_type": "code",
      "metadata": {
        "id": "ZF0WzI4ryWHy",
        "colab": {
          "base_uri": "https://localhost:8080/"
        },
        "outputId": "c67f4b8c-91e3-4352-f6a4-486cfff64218"
      },
      "source": [
        "# 토큰화 완료된 데이터의 개수 확인\n",
        "print(len(tokenized))"
      ],
      "execution_count": 9,
      "outputs": [
        {
          "output_type": "stream",
          "text": [
            "7\n"
          ],
          "name": "stdout"
        }
      ]
    },
    {
      "cell_type": "code",
      "metadata": {
        "id": "ZNskAEW606_V",
        "colab": {
          "base_uri": "https://localhost:8080/"
        },
        "outputId": "24234ad5-5383-4a1f-e9df-547b36915ff5"
      },
      "source": [
        "# 토큰화가 완료된 리뷰 데이터 확인\n",
        "print(tokenized_dataset[0])\n",
        "print(tokenized_dataset[1])\n",
        "print(tokenized_dataset[2])"
      ],
      "execution_count": 10,
      "outputs": [
        {
          "output_type": "stream",
          "text": [
            "['어리다', '때', '보고', '지금', '다시', '보다', '재밌다', 'ㅋㅋ']\n",
            "['디자인', '배우다', '학생', '으로', '외국', '디자이너', '와', '그', '들', '일군', '전통', '통해', '발전', '하다', '문화', '산업', '부럽다', '사실', '우리나라', '에서도', '그', '어렵다', '시절', '에', '끝', '까지', '열정', '지키다', '노라노', '같다', '전통', '있다', '저', '와', '같다', '사람', '들', '꿈', '꾸다', '이루다', '나가다', '수', '있다', '것', '에', '감사하다']\n",
            "['폴리스스토리', '시리즈', '부터', '뉴', '까지', '버리다', '하나', '도', '없다', '최고']\n"
          ],
          "name": "stdout"
        }
      ]
    },
    {
      "cell_type": "code",
      "metadata": {
        "id": "SsWJs1fkpNNF",
        "colab": {
          "base_uri": "https://localhost:8080/",
          "height": 279
        },
        "outputId": "70e12d49-7053-4024-f38d-f7a31b5f7170"
      },
      "source": [
        "import matplotlib.pyplot as plt\n",
        "\n",
        "# 리뷰에 포함된 토큰의 개수 분포\n",
        "plt.hist([len(s) for s in tokenized_dataset], bins=30)\n",
        "plt.xlabel('length of samples')\n",
        "plt.ylabel('number of samples')\n",
        "plt.show()"
      ],
      "execution_count": 11,
      "outputs": [
        {
          "output_type": "display_data",
          "data": {
            "image/png": "[encoded data removed]",
            "text/plain": [
              "<Figure size 432x288 with 1 Axes>"
            ]
          },
          "metadata": {
            "tags": [],
            "needs_background": "light"
          }
        }
      ]
    },
    {
      "cell_type": "markdown",
      "metadata": {
        "id": "te6__h-fxmND"
      },
      "source": [
        "<h6><b>Word2Vec 학습 진행 및 결과 확인</b></h6>"
      ]
    },
    {
      "cell_type": "markdown",
      "metadata": {
        "id": "FVcdvfvry41D"
      },
      "source": [
        "* <b>gensim</b>: Numpy, SciPy 등으로 구현된 오픈소스 자연어 처리 라이브러리로, Word2Vec 클래스를 지원합니다.\n",
        "  * size: 임베딩 벡터의 차원\n",
        "  * window: 윈도우 크기\n",
        "  * min_count: 단어 최소 빈도수\n",
        "  * workers: 학습을 위해 사용하는 프로세스 수\n",
        "  * sg: 0 = CBOW, 1 = Skip-gram"
      ]
    },
    {
      "cell_type": "code",
      "metadata": {
        "id": "d9xf8fGYvaiN"
      },
      "source": [
        "from gensim.models import Word2Vec\n",
        "\n",
        "model = Word2Vec(sentences=tokenized_dataset, size=100, window=5, workers=4, sg=1)"
      ],
      "execution_count": 12,
      "outputs": []
    },
    {
      "cell_type": "code",
      "metadata": {
        "id": "pqwIGYmszVQQ",
        "colab": {
          "base_uri": "https://localhost:8080/"
        },
        "outputId": "3f27f3e5-4dee-4764-aa14-f4296b844cd2"
      },
      "source": [
        "# 학습된 모델을 확인합니다.\n",
        "print(model)"
      ],
      "execution_count": 13,
      "outputs": [
        {
          "output_type": "stream",
          "text": [
            "Word2Vec(vocab=16489, size=100, alpha=0.025)\n"
          ],
          "name": "stdout"
        }
      ]
    },
    {
      "cell_type": "code",
      "metadata": {
        "id": "XMnrtGNByTw-",
        "colab": {
          "base_uri": "https://localhost:8080/"
        },
        "outputId": "f97c0473-ff15-440e-9a57-be018475bbab"
      },
      "source": [
        "print(model.wv.most_similar(\"공부\"))"
      ],
      "execution_count": 14,
      "outputs": [
        {
          "output_type": "stream",
          "text": [
            "[('연습', 0.6948530673980713), ('말좀', 0.6793253421783447), ('섭외', 0.6758575439453125), ('분발', 0.6709208488464355), ('자제', 0.6528387069702148), ('기부', 0.6509115695953369), ('반성', 0.6475428342819214), ('보강', 0.640225887298584), ('수정', 0.6386924982070923), ('자시다', 0.6363006234169006)]\n"
          ],
          "name": "stdout"
        },
        {
          "output_type": "stream",
          "text": [
            "/usr/local/lib/python3.6/dist-packages/gensim/matutils.py:737: FutureWarning: Conversion of the second argument of issubdtype from `int` to `np.signedinteger` is deprecated. In future, it will be treated as `np.int64 == np.dtype(int).type`.\n",
            "  if np.issubdtype(vec.dtype, np.int):\n"
          ],
          "name": "stderr"
        }
      ]
    },
    {
      "cell_type": "code",
      "metadata": {
        "id": "6kuF4z5vytDr",
        "colab": {
          "base_uri": "https://localhost:8080/"
        },
        "outputId": "c5b4c7d7-6613-4dff-b01c-347117141f7c"
      },
      "source": [
        "print(model.wv.most_similar(\"재미\"))"
      ],
      "execution_count": 15,
      "outputs": [
        {
          "output_type": "stream",
          "text": [
            "[('긴장도', 0.705292820930481), ('감흥', 0.6817975044250488), ('뭣', 0.6728790998458862), ('잼', 0.6710898876190186), ('쥐뿔', 0.6488694548606873), ('스릴', 0.6440681219100952), ('흥미', 0.6412235498428345), ('볼일', 0.636019229888916), ('없슴', 0.6359087824821472), ('재미없다', 0.6356900930404663)]\n"
          ],
          "name": "stdout"
        },
        {
          "output_type": "stream",
          "text": [
            "/usr/local/lib/python3.6/dist-packages/gensim/matutils.py:737: FutureWarning: Conversion of the second argument of issubdtype from `int` to `np.signedinteger` is deprecated. In future, it will be treated as `np.int64 == np.dtype(int).type`.\n",
            "  if np.issubdtype(vec.dtype, np.int):\n"
          ],
          "name": "stderr"
        }
      ]
    },
    {
      "cell_type": "code",
      "metadata": {
        "id": "lGXzgSYgyeyR",
        "colab": {
          "base_uri": "https://localhost:8080/"
        },
        "outputId": "1fb6cb6d-b8ee-4878-dffe-efc5a470e70e"
      },
      "source": [
        "print(model.wv.most_similar(\"프로그램\"))"
      ],
      "execution_count": 16,
      "outputs": [
        {
          "output_type": "stream",
          "text": [
            "[('프로', 0.8157880306243896), ('예능', 0.7007278203964233), ('방송', 0.6395124197006226), ('교체', 0.6388933062553406), ('공중파', 0.6333023309707642), ('폐지', 0.6324942111968994), ('오디션', 0.6305128335952759), ('우결', 0.6272046566009521), ('여군', 0.6238592863082886), ('종편', 0.6201320290565491)]\n"
          ],
          "name": "stdout"
        },
        {
          "output_type": "stream",
          "text": [
            "/usr/local/lib/python3.6/dist-packages/gensim/matutils.py:737: FutureWarning: Conversion of the second argument of issubdtype from `int` to `np.signedinteger` is deprecated. In future, it will be treated as `np.int64 == np.dtype(int).type`.\n",
            "  if np.issubdtype(vec.dtype, np.int):\n"
          ],
          "name": "stderr"
        }
      ]
    }
  ]
}