{
 "cells": [
  {
   "cell_type": "markdown",
   "id": "5e20f2b2",
   "metadata": {},
   "source": [
    "# Numpy 실습"
   ]
  },
  {
   "cell_type": "markdown",
   "id": "952ad346",
   "metadata": {},
   "source": [
    "## Numpy 배열 연산\n",
    "   "
   ]
  },
  {
   "cell_type": "markdown",
   "id": "f9a59feb",
   "metadata": {},
   "source": [
    "### 1. Numpy 패키지 불러오기"
   ]
  },
  {
   "cell_type": "code",
   "execution_count": 4,
   "id": "2560e5d2",
   "metadata": {},
   "outputs": [],
   "source": [
    "import numpy as np #보통 np를 붙여 numpy를 np로 대체한다."
   ]
  },
  {
   "cell_type": "markdown",
   "id": "3b6a2b38",
   "metadata": {},
   "source": [
    "### 2. Numpy 배열 만들기"
   ]
  },
  {
   "cell_type": "code",
   "execution_count": 5,
   "id": "ce93771e",
   "metadata": {},
   "outputs": [
    {
     "name": "stdout",
     "output_type": "stream",
     "text": [
      "[1, 2, 3, 4, 5] <class 'list'>\n"
     ]
    }
   ],
   "source": [
    "import numpy as np\n",
    "\n",
    "# list 타입의 배열을 생성합니다.\n",
    "arr = [1, 2, 3, 4, 5]\n",
    "print(arr, type(arr))"
   ]
  },
  {
   "cell_type": "code",
   "execution_count": 7,
   "id": "2601c5cb",
   "metadata": {},
   "outputs": [
    {
     "name": "stdout",
     "output_type": "stream",
     "text": [
      "[1 2 3 4 5] <class 'numpy.ndarray'>\n"
     ]
    }
   ],
   "source": [
    "# numpy.ndarray 타입의 배열을 생성합니다.\n",
    "np_arr = np.array(arr) \n",
    "print(np_arr, type(np_arr)) "
   ]
  },
  {
   "cell_type": "markdown",
   "id": "e401b5a5",
   "metadata": {},
   "source": [
    "### 3. Numpy 배열의 모양\n",
    "\n",
    "- numpy.ndarray타입을 가진 배열의 모양을 얻어오는 방법"
   ]
  },
  {
   "cell_type": "code",
   "execution_count": 11,
   "id": "bf625521",
   "metadata": {},
   "outputs": [
    {
     "name": "stdout",
     "output_type": "stream",
     "text": [
      "(2, 3)\n",
      "(2, 2, 3)\n"
     ]
    }
   ],
   "source": [
    "A = np.array([[1, 1, 1], [2, 3 ,4]])\n",
    "print(A.shape)\n",
    "\n",
    "B = np.array([\n",
    "    [[1, 2, 3], [1, 2, 3]],\n",
    "    [[2, 3, 4], [5, 6, 7]]])\n",
    "print(B.shape)"
   ]
  },
  {
   "cell_type": "markdown",
   "id": "6263a3bf",
   "metadata": {},
   "source": [
    "### 4. Numpy one, zero 배열 생성\n",
    "\n",
    "- list를 구현하여 numpy.ndarray타입의 배열로 바꿨습니다. 이번에는 Numpy의 함수를 사용하여 1로만 이루어진 배열 및 0으로만 이루어진 배열을 만들어보도록 하겠습니다."
   ]
  },
  {
   "cell_type": "code",
   "execution_count": 12,
   "id": "6369be87",
   "metadata": {},
   "outputs": [
    {
     "name": "stdout",
     "output_type": "stream",
     "text": [
      "[[1. 1. 1.]\n",
      " [1. 1. 1.]]\n",
      "[[0. 0. 0.]\n",
      " [0. 0. 0.]]\n"
     ]
    }
   ],
   "source": [
    "# 2 x 3의 모양을 가지고 1로 채워진 배열을 만들어줍니다.\n",
    "ones_arr = np.ones(shape=(2, 3))\n",
    "print(ones_arr) \n",
    "\n",
    "# 2 x 3의 모양을 가지고 0으로 채워진 배열을 만들어줍니다.\n",
    "zeros_arr = np.zeros(shape=(2, 3))\n",
    "print(zeros_arr) "
   ]
  },
  {
   "cell_type": "markdown",
   "id": "22f7ac9d",
   "metadata": {},
   "source": [
    "### 5. Numpy 랜덤 배열 만들기\n",
    "\n",
    "- 1. randn()에 모양을 인자로 주어 배열을 생성합니다. 이때, randn()에 들어간 인자의 순서대로 차원의 크기가 정해집니다. 예를 들어, randn(3, 2)는 3 x 2 모양을 가진 2차원 배열을 생성합니다.\n",
    "- 2. normal()은 정규 분포에 맞게 생성하는 함수로서 모양을 size 인자를 통해 전달하여 배열을 생성합니다. 이때 **평균(mean)**과 **표준편차(std)**값을 각각 **loc, scale** 인자를 통해 지정할 수 있습니다.\n",
    "- 3. randint(start, end, size)는 임의의 정수들로 채워진 배열을 만들어줍니다. 이때 정수 범위는 start 이상 end 미만으로, size에 모양을 인자로 전달합니다.\n",
    "\n",
    "#### Seed\n",
    "- 파이썬의 random패키지와 같이 seed를 고정하여 일정하게 랜덤 값을 유지할 수 있습니다.\n",
    "- ex) np.random.seed(42)"
   ]
  },
  {
   "cell_type": "code",
   "execution_count": 13,
   "id": "4f74c8f1",
   "metadata": {},
   "outputs": [
    {
     "name": "stdout",
     "output_type": "stream",
     "text": [
      "[[ 0.18712803 -0.57520176]\n",
      " [-0.59251761  0.39332892]\n",
      " [ 0.98645776  0.485095  ]]\n",
      "\n",
      "[[-0.52020431  0.32502522]\n",
      " [-0.88708161  1.07160966]\n",
      " [-1.99485528 -0.32043217]]\n",
      "\n",
      "[[3.05998909 2.6500203 ]\n",
      " [2.68844559 2.7498918 ]\n",
      " [3.07484768 3.25831177]]\n",
      "\n",
      "[[3.05998909 2.6500203 ]\n",
      " [2.68844559 2.7498918 ]\n",
      " [3.07484768 3.25831177]]\n"
     ]
    }
   ],
   "source": [
    "# 3 x 2의 모양을 가진 배열을 가우시안 분포에 따라 랜덤하게 만들어줍니다.\n",
    "randn_arr = np.random.randn(3,2)\n",
    "print(randn_arr)\n",
    "\n",
    "print()\n",
    "# 3 x 2의 모양을 가진 배열을 랜덤하게 만들어줍니다.\n",
    "rand_arr = np.random.normal(size=(3, 2))\n",
    "print(rand_arr) \n",
    "\n",
    "print()\n",
    "\n",
    "# 3 x 2의 모양을 가진 배열을 정규 분포에 따라 랜덤하게 만들어줍니다.\n",
    "rand_normal_arr = np.random.normal(loc = 3, scale = 0.25, size=(3, 2))\n",
    "print(rand_normal_arr) \n",
    "\n",
    "print()\n",
    "# 3 x 2의 모양을 가지고, 1부터 9까지 임의의 정수로만 이루어진 배열을 만들어줍니다.\n",
    "rand_int_arr = np.random.randint(1, 10, size=(3, 2))\n",
    "print(rand_normal_arr) \n"
   ]
  },
  {
   "cell_type": "markdown",
   "id": "6821c832",
   "metadata": {},
   "source": [
    "### 6. 특정 요소 읽어오기\n",
    "\n",
    "- numpy.ndarray 타입의 배열에 존재하는 요소들에 대해서 접근해봅시다.\n",
    "\n",
    "#### - 1. 1차원 배열\n",
    "\n",
    "```python\n",
    "import numpy as np\n",
    "arr = [1, 3, 10, 55, 31, 12, 15]\n",
    "A = np.array(arr)\n",
    "print(A[3])\n",
    "55\n",
    "```\n",
    "- Python의 list와 동일하게 1차원 배열에 대해서 인덱스를 가지고 요소에 접근할 수 있습니다. 그렇다면 2차원 배열에 대해서 어떻게 접근할까요?\n",
    "\n",
    "#### - 2. 2차원 배열\n",
    "\n",
    "```python\n",
    "import numpy as np\n",
    "\n",
    "arr = [[1, 2, 4], [12, 15, 17]]\n",
    "print(arr[1][2])\n",
    "17\n",
    "\n",
    "np_arr = np.array(arr)\n",
    "print(np_arr[1][2])\n",
    "17\n",
    "print(np_arr[1, 2])\n",
    "17\n",
    "```\n",
    "- Python의 list와 동일하게 인덱싱이 가능하지만 보편적으로 []안에 쉼표를 기준으로 구분하여 인덱싱하는 것을 권장합니다.\n"
   ]
  },
  {
   "cell_type": "markdown",
   "id": "da148c3b",
   "metadata": {},
   "source": [
    "### 7. 특정 요소 변경하기\n",
    "\n",
    "- 이제 numpy.ndarray 타입의 배열에 존재하는 요소들을 변경해보도록 합시다."
   ]
  },
  {
   "cell_type": "markdown",
   "id": "1dc32940",
   "metadata": {},
   "source": [
    "- 1차원 배열"
   ]
  },
  {
   "cell_type": "code",
   "execution_count": 15,
   "id": "76205c0e",
   "metadata": {},
   "outputs": [
    {
     "name": "stdout",
     "output_type": "stream",
     "text": [
      "[ 1  3 10 22 31 12 15]\n"
     ]
    }
   ],
   "source": [
    "arr = [1, 3, 10, 55, 31, 12, 15]\n",
    "A = np.array(arr)\n",
    "A[3] = 22\n",
    "print(A)"
   ]
  },
  {
   "cell_type": "markdown",
   "id": "0f9dfe74",
   "metadata": {},
   "source": [
    "- 2차원 배열"
   ]
  },
  {
   "cell_type": "code",
   "execution_count": 16,
   "id": "cdd97f18",
   "metadata": {},
   "outputs": [
    {
     "name": "stdout",
     "output_type": "stream",
     "text": [
      "[[  1   2   4]\n",
      " [ 12  15 100]]\n"
     ]
    }
   ],
   "source": [
    "arr = [[1, 2, 4], [12, 15, 17]]\n",
    "np_arr = np.array(arr)\n",
    "np_arr[1, 2] = 100\n",
    "print(np_arr)"
   ]
  },
  {
   "cell_type": "markdown",
   "id": "db5d4b83",
   "metadata": {},
   "source": [
    "### 8. Numpy 덧셈 연산"
   ]
  },
  {
   "cell_type": "markdown",
   "id": "f6f4a8b1",
   "metadata": {},
   "source": [
    "### - List 방식\n",
    "\n",
    "- list를 사용하여 1차원 배열 간의 요소별 덧셈 연산을 행할 때 다음과 같이 작성합니다."
   ]
  },
  {
   "cell_type": "code",
   "execution_count": 17,
   "id": "5deed4ff",
   "metadata": {},
   "outputs": [
    {
     "name": "stdout",
     "output_type": "stream",
     "text": [
      "[7, 9, 11, 13, 15]\n"
     ]
    }
   ],
   "source": [
    "li_A = [1, 2, 3, 4, 5]\n",
    "li_B = [6, 7, 8, 9, 10]\n",
    "result = [a + b for a, b in zip(li_A, li_B)]\n",
    "print(result)"
   ]
  },
  {
   "cell_type": "markdown",
   "id": "f891e890",
   "metadata": {},
   "source": [
    "### - Numpy 방식\n",
    "\n",
    "- Numpy를 이용하면 높은 차원의 배열일지라도 같은 모양을 가졌다면, 여러 개의 for문이 아닌 단 한 줄의 코드만으로 연산 코드를 작성할 수 있습니다.\n",
    "- numpy.ndarray 타입을 가진 배열 간 연산을 할 경우 Numpy 패키지 내부에서 for문과 동일한 방식으로 모든 요소를 탐색하며 연산하더라도 Python의 list 및 for문을 통해 연산하는 것보다 빠른 것입니다."
   ]
  },
  {
   "cell_type": "code",
   "execution_count": 18,
   "id": "08149bf9",
   "metadata": {},
   "outputs": [
    {
     "name": "stdout",
     "output_type": "stream",
     "text": [
      "[ 7  9 11 13 15]\n"
     ]
    }
   ],
   "source": [
    "arr_A = np.array([1, 2, 3, 4, 5])\n",
    "arr_B = np.array([6, 7, 8, 9, 10])\n",
    "result = arr_A + arr_B \n",
    "print(result)"
   ]
  },
  {
   "cell_type": "markdown",
   "id": "dd35828a",
   "metadata": {},
   "source": [
    "### 9. Numpy 곱셈, 뺄셈, 나눗셈, 나머지 연산"
   ]
  },
  {
   "cell_type": "markdown",
   "id": "f9065552",
   "metadata": {},
   "source": [
    "- 곱셈 연산\n",
    "\n",
    "    -연산자가 행렬 곱을 의미하는 것이 아닌 같은 위치의 요소끼리 곱했다는 점을 명심하세요."
   ]
  },
  {
   "cell_type": "code",
   "execution_count": 20,
   "id": "9139cfad",
   "metadata": {},
   "outputs": [
    {
     "name": "stdout",
     "output_type": "stream",
     "text": [
      "[ 6 14 24 36 50]\n"
     ]
    }
   ],
   "source": [
    "arr_A = np.array([1, 2, 3, 4, 5])\n",
    "arr_B = np.array([6, 7, 8, 9, 10])\n",
    "result = arr_A * arr_B \n",
    "print(result)"
   ]
  },
  {
   "cell_type": "markdown",
   "id": "7eaa9c64",
   "metadata": {},
   "source": [
    "- 뺄셈 연산"
   ]
  },
  {
   "cell_type": "code",
   "execution_count": 21,
   "id": "239dbf38",
   "metadata": {},
   "outputs": [
    {
     "name": "stdout",
     "output_type": "stream",
     "text": [
      "[ 3  3 -1  1 -1]\n"
     ]
    }
   ],
   "source": [
    "arr_A = np.array([6, 4, 2, 5, 9])\n",
    "arr_B = np.array([3, 1, 3, 4, 10])\n",
    "result = arr_A - arr_B \n",
    "print(result)"
   ]
  },
  {
   "cell_type": "markdown",
   "id": "4bc46209",
   "metadata": {},
   "source": [
    "- 나눗셈 연산"
   ]
  },
  {
   "cell_type": "code",
   "execution_count": 22,
   "id": "6f32800e",
   "metadata": {},
   "outputs": [
    {
     "name": "stdout",
     "output_type": "stream",
     "text": [
      "[0.5  2.   0.75]\n"
     ]
    }
   ],
   "source": [
    "arr_A = np.array([2, 6, 6])\n",
    "arr_B = np.array([4, 3, 8])\n",
    "result = arr_A / arr_B \n",
    "print(result)"
   ]
  },
  {
   "cell_type": "markdown",
   "id": "f492cd6a",
   "metadata": {},
   "source": [
    "- 나머지 연산"
   ]
  },
  {
   "cell_type": "code",
   "execution_count": 23,
   "id": "282c059a",
   "metadata": {},
   "outputs": [
    {
     "name": "stdout",
     "output_type": "stream",
     "text": [
      "[1 1 2]\n"
     ]
    }
   ],
   "source": [
    "arr_A = np.array([5, 3, 6])\n",
    "arr_B = np.array([2, 2, 4])\n",
    "result = arr_A % arr_B \n",
    "print(result)\n"
   ]
  },
  {
   "cell_type": "markdown",
   "id": "10da5fbb",
   "metadata": {},
   "source": [
    "### 10. Numpy 배열 연산 - 브로드캐스팅\n",
    "\n",
    "- Numpy에서는 같은 모양의 배열이 아니더라도 <br> (1)상수를 배열에 더하거나, <br>(2)모양이 다른 배열끼리 덧셈 연산이 가능합니다<br>(단, 특정 조건을 갖춘 배열이여야 합니다). 이와 같이 Numpy에서 배열의 모양이 다르더라도 자동으로 맞춰 연산하는 것을 브로드캐스팅이라고 합니다"
   ]
  },
  {
   "cell_type": "code",
   "execution_count": 26,
   "id": "54ae6220",
   "metadata": {},
   "outputs": [
    {
     "name": "stdout",
     "output_type": "stream",
     "text": [
      "[[ 23  23  23  33  33]\n",
      " [ 34 100  44  38  77]\n",
      " [ 29  52  23  36  43]\n",
      " [101  26  65  25  60]\n",
      " [ 66  36  54  29  86]]\n",
      "\n",
      "[[11 12 13 24 25]\n",
      " [22 89 34 29 69]\n",
      " [17 41 13 27 35]\n",
      " [89 15 55 16 52]\n",
      " [54 25 44 20 78]]\n"
     ]
    }
   ],
   "source": [
    "A = [\n",
    "   [10, 10, 10, 20, 20],\n",
    "   [21, 87, 31, 25, 64],\n",
    "   [16, 39, 10, 23, 30],\n",
    "   [88, 13, 52, 12, 47],\n",
    "   [53, 23, 41, 16, 73]]\n",
    "A = np.array(A)\n",
    "result1 = A + 13\n",
    "print(result1)\n",
    "print()\n",
    "B = np.array([1, 2, 3, 4, 5])\n",
    "result2 = A + B\n",
    "print(result2)"
   ]
  },
  {
   "cell_type": "markdown",
   "id": "09013390",
   "metadata": {},
   "source": [
    "### 11. Numpy dot \n",
    "\n",
    "- *연산자를 사용하여 행렬 간 같은 위치(인덱스)의 요소별로 곱셈 연산과 행렬 곱 연산은 아래 그림과 같이 다르게 연산합니다.\n",
    "- dot 연산은 다음과 같이 구현할 수 있습니다.\n",
    "\n",
    "```\n",
    "1. A.dot(B)\n",
    "2. np.dot(A, B)\n",
    "```"
   ]
  },
  {
   "cell_type": "code",
   "execution_count": 27,
   "id": "4fe563e1",
   "metadata": {},
   "outputs": [
    {
     "name": "stdout",
     "output_type": "stream",
     "text": [
      "[[ 4  2]\n",
      " [12 21]]\n",
      "\n",
      "[[16 15]\n",
      " [26 23]]\n",
      "\n",
      "[[16 15]\n",
      " [26 23]]\n"
     ]
    }
   ],
   "source": [
    "A = np.array([[1, 2], [2, 3]])\n",
    "B = np.array([[4, 1], [6, 7]])\n",
    "\n",
    "print(A * B)  \n",
    "print()\n",
    "print(A.dot(B))\n",
    "print()\n",
    "print(np.dot(A, B))"
   ]
  },
  {
   "cell_type": "markdown",
   "id": "a107c943",
   "metadata": {},
   "source": [
    "### 12. Numpy 배열 슬라이싱\n",
    "\n",
    "-  list의 리스트와 달리 numpy.ndarray의 배열을 슬라이싱하여 값을 변경할 때, 크기 또는 모양이 맞지 않으면 에러를 발생합니다. 즉, 슬라이싱을 이용하여 값을 변경할 때는 대입할 배열의 모양이 슬라이싱을 한 구간과 일치해야 합니다.\n",
    "\n",
    "- 위처럼 동일한 모양의 배열을 대입함으로써 값을 변경하는 방법도 있지만, 브로드캐스팅을 이용하여 슬라이싱 구간에 자동으로 모양을 맞춰 변경하는 방법도 있습니다.\n"
   ]
  },
  {
   "cell_type": "markdown",
   "id": "70561ab0",
   "metadata": {},
   "source": [
    "### - 1차원 배열의 슬라이싱을 이용한 값 변경"
   ]
  },
  {
   "cell_type": "code",
   "execution_count": 29,
   "id": "9952a748",
   "metadata": {},
   "outputs": [
    {
     "name": "stdout",
     "output_type": "stream",
     "text": [
      "[  1   2   3 100 100 100 100   8   9  10]\n"
     ]
    }
   ],
   "source": [
    "arr = np.array([1, 2, 3, 4, 5, 6, 7, 8, 9, 10])\n",
    "arr[3:7] = 100\n",
    "print(arr)"
   ]
  },
  {
   "cell_type": "markdown",
   "id": "eab424a9",
   "metadata": {},
   "source": [
    "### - 2차원 배열의 슬라이싱을 이용한 값 변경"
   ]
  },
  {
   "cell_type": "code",
   "execution_count": 36,
   "id": "2cdd4d95",
   "metadata": {},
   "outputs": [
    {
     "name": "stdout",
     "output_type": "stream",
     "text": [
      "바뀌기전 : [[ 1  2  3  4  5]\n",
      " [ 4  5  6  7  8]\n",
      " [ 5  6  7  8  9]\n",
      " [10 11 14 15 17]]\n",
      "바뀐 후 : [[ 1  2  3  4  5]\n",
      " [ 4 10 20  7  8]\n",
      " [ 5 30 40  8  9]\n",
      " [10 11 14 15 17]]\n"
     ]
    }
   ],
   "source": [
    "arr = np.array([\n",
    "    [1, 2, 3, 4, 5], \n",
    "    [4, 5, 6, 7, 8], \n",
    "    [5, 6, 7, 8, 9], \n",
    "    [10, 11, 14, 15, 17]\n",
    "])\n",
    "print(\"바뀌기전 :\",\n",
    "      arr)\n",
    "arr[1:3, 1:3] = np.array([[10, 20], [30, 40]])\n",
    "print(\"바뀐 후 :\",arr)"
   ]
  }
 ],
 "metadata": {
  "kernelspec": {
   "display_name": "Python 3 (ipykernel)",
   "language": "python",
   "name": "python3"
  },
  "language_info": {
   "codemirror_mode": {
    "name": "ipython",
    "version": 3
   },
   "file_extension": ".py",
   "mimetype": "text/x-python",
   "name": "python",
   "nbconvert_exporter": "python",
   "pygments_lexer": "ipython3",
   "version": "3.9.1"
  }
 },
 "nbformat": 4,
 "nbformat_minor": 5
}
