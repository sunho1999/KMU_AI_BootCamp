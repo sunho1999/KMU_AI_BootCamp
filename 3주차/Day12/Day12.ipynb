{
 "cells": [
  {
   "cell_type": "markdown",
   "id": "7b8ccb6a",
   "metadata": {},
   "source": [
    "# Numpy 실습"
   ]
  },
  {
   "cell_type": "markdown",
   "id": "4b7124f3",
   "metadata": {},
   "source": [
    "## - 기초문제1 "
   ]
  },
  {
   "cell_type": "markdown",
   "id": "687e9a2f",
   "metadata": {},
   "source": [
    "### 문제 설명\n",
    "임의의 모양을 가진 numpy.ndarray 타입의 2차원 행렬 arr가 주어집니다. Numpy를 사용하여 (y1, x1)에서 (y2, x2)까지 구간에 해당하는 모든 요소의 값에 2를 곱하여 반환하는 함수를 구현하세요.\n",
    "\n",
    "### 제한 사항\n",
    "- y1, x1, y2, x2는 arr의 인덱스를 초과하지 않습니다.\n",
    "- y2는 y1 이상의 정수입니다.\n",
    "- x2는 x1 이상의 정수입니다.\n",
    "\n",
    "### 예시\n",
    "다음과 같이 arr와 y1, x1, y2, x2가 주어졌다고 가정하겠습니다.\n",
    "\n",
    "```\n",
    ">>> arr\n",
    "[[ 1  5  3  4  5  5  4  2 10  9]\n",
    " [ 7  3  2  5  2  7  8  2  5  3]\n",
    " [ 3  2  5  6  7  8  2 10  6  5]\n",
    " [ 4  7  6  6  5  5  6  7  1  2]]\n",
    "\n",
    ">>> y1, x1, y2, x2\n",
    "(0, 1, 2, 4)\n",
    "```\n",
    "\n",
    "그럼 함수가 반환하는 배열은 다음과 같습니다.\n",
    "\n",
    "```\n",
    "[[ 1 10  6  8 10  5  4  2 10  9]\n",
    " [ 7  6  4 10  4  7  8  2  5  3]\n",
    " [ 3  4 10 12 14  8  2 10  6  5]\n",
    " [ 4  7  6  6  5  5  6  7  1  2]]\n",
    "```\n",
    "위 예시를 그림으로 나타내면 다음과 같습니다.\n"
   ]
  },
  {
   "cell_type": "markdown",
   "id": "fe510aaa",
   "metadata": {},
   "source": [
    "### 풀이"
   ]
  },
  {
   "cell_type": "code",
   "execution_count": 7,
   "id": "2fb304ea",
   "metadata": {},
   "outputs": [],
   "source": [
    "import numpy as np\n",
    "\n",
    "def solution(arr, y1, x1, y2, x2):\n",
    "    arr[y1:y2+1,x1:x2+1] = arr[y1:y2+1,x1:x2+1]*2\n",
    "    answer = arr\n",
    "    return answer"
   ]
  },
  {
   "cell_type": "markdown",
   "id": "6149c685",
   "metadata": {},
   "source": [
    "## - 기초문제 2"
   ]
  },
  {
   "cell_type": "markdown",
   "id": "3fc6b2c0",
   "metadata": {},
   "source": [
    "### 문제 설명\n",
    "요소 aₙ로 이루어진 1차원 배열 A와 요소 bₙ로 이루어진 1차원 배열 B에 대하여 내적 연산을 해보겠습니다.\n",
    "\n",
    "### 내적 연산\n",
    "앞선 강의를 통해 다음과 같은 내용을 배웠습니다.\n",
    "\n",
    "- Numpy dot 메소드에서 np.dot() 함수를 통해 2차원 배열(행렬)간 행렬 곱 연산을 할 수 있다.\n",
    "1차원 배열(Vector)들을 np.dot()을 통해 연산할 경우 행 벡터와 열 벡터 간의 내적 연산을 합니다. 이 경우 내적 연산의 결과는 두 배열 간 요소 별 곱셈 연산 후 모든 요소를 더한 것과 동일합니다.\n",
    "\n",
    "이번 문제에서는 1차원 배열 x와 w, 그리고 상수 b가 다음과 같이 주어집니다.\n",
    "\n",
    "- x₁, x₂, x₃, ..., xₙ 원소들로 이루어진 1차원 배열 x\n",
    "- w₁, w₂, w₃, ..., wₙ 원소들로 이루어진 1차원 배열 w\n",
    "- b는 상수\n",
    "그리고 다음과 같은 식을 통해 y를 얻으려고 합니다.\n",
    "\n",
    "> y = x · wT + b <br>\n",
    "> ·는 행렬 곱을 의미한다.\n",
    "\n",
    "x와 w는 list로, b는 상수로 주어질 때, 행 벡터와 열 벡터 간 내적 연산과 위 식을 참고하여 y를 반환하는 함수를 구현하세요.\n",
    "\n",
    "### 제한 사항\n",
    "- x와 w는 같은 길이를 가진다.\n",
    "\n",
    "### 입출력 예\n",
    "x|\tw|\tb|\treturn\n",
    ":---:|:---:|:---:|:---:\n",
    "[1, 2, 3]|\t[3, 4, 5]|\t7|\t33\n",
    "\n",
    "### 입출력 예 설명\n",
    "\n",
    "입출력 예의 계산 과정을 그림으로 나타내면 다음과 같습니다.\n",
    "스크린샷 2021-11-16 오전 9.20.41.png\n",
    "이를 계산하면 (3 + 8 + 15) + 7 = 33이므로 33을 반환합니다."
   ]
  },
  {
   "cell_type": "markdown",
   "id": "4e482797",
   "metadata": {},
   "source": [
    "### 풀이"
   ]
  },
  {
   "cell_type": "code",
   "execution_count": null,
   "id": "d0da8ea4",
   "metadata": {},
   "outputs": [],
   "source": [
    "import numpy as np\n",
    "\n",
    "def solution(x, w, b):\n",
    "    answer = 0\n",
    "    x = np.array(x)\n",
    "    w = np.array(w)\n",
    "    answer = x.dot(w) + b\n",
    "    return answer"
   ]
  }
 ],
 "metadata": {
  "kernelspec": {
   "display_name": "Python 3 (ipykernel)",
   "language": "python",
   "name": "python3"
  },
  "language_info": {
   "codemirror_mode": {
    "name": "ipython",
    "version": 3
   },
   "file_extension": ".py",
   "mimetype": "text/x-python",
   "name": "python",
   "nbconvert_exporter": "python",
   "pygments_lexer": "ipython3",
   "version": "3.9.1"
  }
 },
 "nbformat": 4,
 "nbformat_minor": 5
}
