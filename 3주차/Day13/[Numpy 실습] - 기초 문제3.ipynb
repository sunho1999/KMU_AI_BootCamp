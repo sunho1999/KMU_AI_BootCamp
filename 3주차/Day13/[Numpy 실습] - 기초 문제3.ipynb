{
 "cells": [
  {
   "cell_type": "markdown",
   "id": "bb5ba557",
   "metadata": {},
   "source": [
    "# Numpy 실습 -기초 문제 3\n",
    "\n",
    "## 롤러코스터\n",
    "\n",
    "## 문제 설명\n",
    "그렙월드의 T익스플로러는 몸무게와 키에 대하여 다음과 같은 이용 제한을 두고 있습니다.\n",
    "\n",
    "- 키는 150cm 이상 195cm 이하\n",
    "- 몸무게는 140kg 미만\n",
    "\n",
    "그러나 관광객의 대다수는 이용 제한을 읽지 않고 줄을 기다리다 타기 직전, 탑승 불가 통보를 받아 불만을 제기하고 있습니다. 이를 방지하고자 줄 서 있는 사람들을 조사하여 탑승 불가한 손님들에게 미리 정보를 전달하려 합니다. 줄 서 있는 사람들의 순서에 맞춰 그들의 키와 몸무게는 info에 다음과 같이 담겨있습니다.\n",
    "\n",
    "- info 첫 번째 행에는 사람들의 키 정보가 담겨있다.\n",
    "- info 두 번째 행에는 사람들의 몸무게 정보가 담겨있다.\n",
    "\n",
    "info가 numpy.ndarray타입의 2차원 배열로 주어질 때, 이용 제한에 걸리는 손님들의 인덱스를 list에 담아 반환하는 함수를 구현하세요.\n",
    "\n",
    "## 제한 사항\n",
    "info에는 np.float64 타입의 원소들이 담겨있다.\n",
    "## 입출력 예\n",
    "info\t|return|\n",
    ":---:|:---:|\n",
    "[[151.4 172.45 138.65 177.63 207.46] [ 44.64 163.5 112.35 73.55 97.83]]|\t[1, 2, 4]\n",
    "\n",
    "### 입출력 예 설명\n",
    "인덱스 1 손님은 몸무게가 140 이상인 163.50이므로 탑승 불가합니다.\n",
    "인덱스 2 손님은 키가 150 미만인 138.65이므로 탑승 불가합니다.\n",
    "인덱스 4 손님은 키가 195 초과인 207.46이므로 탑승 불가합니다.\n",
    "위와 같이 인덱스 1, 2, 4 의 손님들은 이용 제한에 걸리고, 그 외의 손님들은 모두 걸리지 않으므로 [1, 2, 4]를 반환합니다."
   ]
  },
  {
   "cell_type": "markdown",
   "id": "96ae2303",
   "metadata": {},
   "source": [
    "### 문제 풀이"
   ]
  },
  {
   "cell_type": "code",
   "execution_count": 1,
   "id": "2b05ae75",
   "metadata": {},
   "outputs": [],
   "source": [
    "import numpy as np\n",
    "\n",
    "def solution(info):\n",
    "    answer = []\n",
    "    for i in range(len(info[0])):\n",
    "        if info[0][i] < 150 or info[0][i] > 195 or info[1][i] >= 140:\n",
    "            answer.append(i)\n",
    "    \n",
    "    return answer"
   ]
  },
  {
   "cell_type": "markdown",
   "id": "0dda74ff",
   "metadata": {},
   "source": [
    "## 문제 해석"
   ]
  },
  {
   "cell_type": "markdown",
   "id": "bdc65fbb",
   "metadata": {},
   "source": [
    "해당 info가 2차원배열로 되어있으므로 index 탐색을 통해 해당 조건에 맞는 값들의 index를 answer 리스트에 추가해줬다."
   ]
  }
 ],
 "metadata": {
  "kernelspec": {
   "display_name": "Python 3 (ipykernel)",
   "language": "python",
   "name": "python3"
  },
  "language_info": {
   "codemirror_mode": {
    "name": "ipython",
    "version": 3
   },
   "file_extension": ".py",
   "mimetype": "text/x-python",
   "name": "python",
   "nbconvert_exporter": "python",
   "pygments_lexer": "ipython3",
   "version": "3.9.1"
  }
 },
 "nbformat": 4,
 "nbformat_minor": 5
}
