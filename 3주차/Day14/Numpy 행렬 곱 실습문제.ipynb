{
 "cells": [
  {
   "cell_type": "markdown",
   "id": "3f34c578",
   "metadata": {},
   "source": [
    "## 문제 설명\n"
   ]
  },
  {
   "cell_type": "markdown",
   "id": "dfa3e781",
   "metadata": {},
   "source": [
    "numpy.ndarray타입의 임의의 모양을 가진 2차원 배열(행렬)들이 담긴 리스트가 arr_list로 주어집니다. arr_list에 담긴 배열들을 순서대로 사용하여 A를 다음과 같이 처리합니다.\n",
    "\n",
    "1. 초기 A의 상태는 [[0]]입니다.\n",
    "2. arr_list에서 앞에서부터 순서대로 배열을 꺼내며, 해당 배열을 arr이라 칭하고 다음 두 가지 경우에 대하여 처리합니다.\n",
    "a. A와 arr를 행렬 곱 연산이 불가할 때, arr를 버리고 다음 배열을 꺼냅니다.\n",
    "b. A와 arr를 행렬 곱 연산이 불가할 때, 다음과 같이 연산하고 다음 배열을 꺼냅니다.\n",
    "```A = (A + 1) · (arr * 2)```\n",
    "\n",
    "이때 ```+```와 ```*```는 요소 별로 더하고 곱하는 연산, ```·```은 행렬 곱 연산을 의미합니다.\n",
    "\n",
    "위 과정을 통해 ```arr_list```에 있는 모든 배열들을 처리하고 난 뒤, 최종 A를 반환하는 함수를 구하세요."
   ]
  },
  {
   "cell_type": "markdown",
   "id": "34577f5b",
   "metadata": {},
   "source": [
    "## 입출력 예"
   ]
  },
  {
   "cell_type": "markdown",
   "id": "adb7dafd",
   "metadata": {},
   "source": [
    "arr_list|\treturn\n",
    ":---:|:---:\n",
    "[[[ -9 -14]] [[ 14 -2 0] [-14 -5 1] [-11 3 -6]] [[-2 -6] [18 0]]]\t|[[-904. 204.]]"
   ]
  },
  {
   "cell_type": "markdown",
   "id": "e875c574",
   "metadata": {},
   "source": [
    "## 입출력 예 설명"
   ]
  },
  {
   "cell_type": "markdown",
   "id": "e5153139",
   "metadata": {},
   "source": [
    "```arr_list```에 있는 arr들의 모양을 살펴보면 다음과 같습니다.\n",
    "\n",
    "- [[ -9 -14]] 는 1 x 2 모양의 배열(행렬)이다.\n",
    "- [[ 14 -2 0] [-14 -5 1] [-11 3 -6]] 는 3 x 3 모양의 배열(행렬)이다.\n",
    "- [[-2 -6] [18 0]] 는 2 x 2 모양의 배열(행렬)이다.\n",
    "초기 A는 [[0]]이고, 처리하는 과정은 다음과 같습니다."
   ]
  },
  {
   "cell_type": "markdown",
   "id": "9b59e028",
   "metadata": {},
   "source": [
    "초기 A는 [[0]]이고, 처리하는 과정은 다음과 같습니다.\n",
    "\n",
    "A|arr|\t처리 결과\n",
    ":---:|:---:|:---:|\n",
    "[[0]]\t|[[ -9 -14]]|\t[[-18. -28.]]\n",
    "[[-18. -28.]]|\t[[ 14 -2 0] [-14 -5 1] [-11 3 -6]]|\t[[-18. -28.]]\n",
    "[[-18. -28.]]|\t[[-2 -6] [18 0]]|\t[[-904. 204.]]"
   ]
  },
  {
   "cell_type": "markdown",
   "id": "07081114",
   "metadata": {},
   "source": [
    "두 번째의 경우 1 x 2 모양을 가진 A의 열과 3 x 3 모양을 가진 arr의 행이 맞지 않으므로 처리하지 않고 넘어갑니다."
   ]
  },
  {
   "cell_type": "markdown",
   "id": "4059f95d",
   "metadata": {},
   "source": [
    "## 문제 풀이"
   ]
  },
  {
   "cell_type": "code",
   "execution_count": 33,
   "id": "bdb43b6d",
   "metadata": {},
   "outputs": [],
   "source": [
    "import numpy as np\n",
    "\n",
    "def solution(arr_list):\n",
    "    A = np.array([[0]])\n",
    "    for i in arr_list:\n",
    "        try:\n",
    "            A = (A+1).dot(i*2)\n",
    "        except ValueError:\n",
    "            pass\n",
    "    answer = A\n",
    "    return answer"
   ]
  },
  {
   "cell_type": "markdown",
   "id": "c10e8ca1",
   "metadata": {},
   "source": [
    "## 문제 해석"
   ]
  },
  {
   "cell_type": "markdown",
   "id": "5a352c5e",
   "metadata": {},
   "source": [
    "행렬곱의 각 차원의 끝과 시작이 같아야 한다. 이때 같지 않으면 ValueError가 발생하는데 이때 예외처리를 해주면서 코드를 작성했다."
   ]
  }
 ],
 "metadata": {
  "kernelspec": {
   "display_name": "Python 3 (ipykernel)",
   "language": "python",
   "name": "python3"
  },
  "language_info": {
   "codemirror_mode": {
    "name": "ipython",
    "version": 3
   },
   "file_extension": ".py",
   "mimetype": "text/x-python",
   "name": "python",
   "nbconvert_exporter": "python",
   "pygments_lexer": "ipython3",
   "version": "3.9.1"
  }
 },
 "nbformat": 4,
 "nbformat_minor": 5
}
