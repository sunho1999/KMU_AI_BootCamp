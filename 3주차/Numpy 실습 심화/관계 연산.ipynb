{
 "cells": [
  {
   "cell_type": "markdown",
   "id": "ee85958e",
   "metadata": {},
   "source": [
    "### 문제 설명\n",
    "\n",
    "## 목표\n",
    "**Numpy의 특별한 관계 연산을 배워봅시다.**\n",
    "\n",
    "## Numpy의 특별한 관계 연산\n",
    "파이썬 객체 사이에 ```>```, ```<```, ```==```등 관계 연산자들을 사용하면 연산 결과로 ```True```, ```False```가 나옵니다. 그러나 ```numpy.ndarray```타입의 배열에 관계 연산자를 사용하면 관계 연산의 결과가 하나의 ```bool```타입의 값이 아닌 배열로 나옵니다.\n",
    "```numpy.ndarray``` 배열에 관계 연산자를 사용하면 어떻게 출력하는지 살펴봅시다."
   ]
  },
  {
   "cell_type": "code",
   "execution_count": 1,
   "id": "8a46715b",
   "metadata": {},
   "outputs": [
    {
     "name": "stdout",
     "output_type": "stream",
     "text": [
      "[False False False  True  True  True False False False]\n"
     ]
    }
   ],
   "source": [
    "import numpy as np\n",
    "\n",
    "A = np.array([1, 2, 3, 4, 5, 4, 3, 2, 1])\n",
    "B = (A >= 4)\n",
    "print(B)"
   ]
  },
  {
   "cell_type": "markdown",
   "id": "8501f944",
   "metadata": {},
   "source": [
    "```A```에 관계 연산자 ```>=```를 사용하여 연산한 결과를 B에 넣어주었습니다. 그리고 출력한 결과, ```A```에서 4 이상의 값을 가진 요소는 ```True```, 4 미만의 값을 가진 요소는 ```False```를 가지는 배열 B가 생성된 것을 알 수 있습니다.\n",
    "즉, 배열에 관계 연산자를 사용하면 배열에서 조건을 만족하는 요소는 ```True```, 만족하지 않다면 ```False```인 ```numpy.ndarray``` 타입의 배열로 연산 결과가 나옵니다."
   ]
  },
  {
   "cell_type": "markdown",
   "id": "c99bcc37",
   "metadata": {},
   "source": [
    "## 2개 이상의 조건식\n",
    "Numpy에서 논리 연산자를 사용하여 여러 조건식을 결합할 때, ```and``` 및 ```or```가 아닌 ```&``` 및 ```|```를 사용합니다. 2개의 조건식을 사용한 다음 코드를 살펴봅시다."
   ]
  },
  {
   "cell_type": "code",
   "execution_count": 2,
   "id": "9aeaa78e",
   "metadata": {},
   "outputs": [
    {
     "name": "stdout",
     "output_type": "stream",
     "text": [
      "[False  True  True False False False  True  True False]\n",
      "[ True False False  True  True  True False False  True]\n"
     ]
    }
   ],
   "source": [
    " A = np.array([1, 2, 3, 4, 5, 4, 3, 2, 1])\n",
    "print((A > 1) & (A <= 3))\n",
    "print((A > 3) | (A < 2))"
   ]
  },
  {
   "cell_type": "markdown",
   "id": "fac5f5e4",
   "metadata": {},
   "source": [
    "1. 첫 번째 print에서 1 초과 및 3 이하의 수를 가진 요소는 True, 1 이하 또는 3 초과의 수를 가진 요소는 False인 배열을 출력합니다.\n",
    "2. 두 번째 print에서 3 초과 또는 2 미만의 수를 가진 요소는 True, 3 이하 및 2 이상의 수를 가진 요소는 False인 배열을 출력합니다.\n",
    "그럼 오른쪽 코드의 주석을 참고하여 빈칸을 채운 후 Numpy의 관계 연산을 연습해봅시다."
   ]
  },
  {
   "cell_type": "markdown",
   "id": "2229451f",
   "metadata": {},
   "source": [
    "### TIP\n",
    "\n",
    "여러 개의 조건식을 작성할 때 and와 or로 넣어주면 에러가 발생합니다."
   ]
  },
  {
   "cell_type": "code",
   "execution_count": 4,
   "id": "7ca724c3",
   "metadata": {},
   "outputs": [
    {
     "ename": "ValueError",
     "evalue": "The truth value of an array with more than one element is ambiguous. Use a.any() or a.all()",
     "output_type": "error",
     "traceback": [
      "\u001b[0;31m---------------------------------------------------------------------------\u001b[0m",
      "\u001b[0;31mValueError\u001b[0m                                Traceback (most recent call last)",
      "\u001b[0;32m/var/folders/yz/pbmrbcx947s847jw36l2_14r0000gn/T/ipykernel_20144/571118387.py\u001b[0m in \u001b[0;36m<module>\u001b[0;34m\u001b[0m\n\u001b[1;32m      1\u001b[0m \u001b[0mA\u001b[0m \u001b[0;34m=\u001b[0m \u001b[0mnp\u001b[0m\u001b[0;34m.\u001b[0m\u001b[0marray\u001b[0m\u001b[0;34m(\u001b[0m\u001b[0;34m[\u001b[0m\u001b[0;36m1\u001b[0m\u001b[0;34m,\u001b[0m \u001b[0;36m2\u001b[0m\u001b[0;34m,\u001b[0m \u001b[0;36m3\u001b[0m\u001b[0;34m,\u001b[0m \u001b[0;36m4\u001b[0m\u001b[0;34m,\u001b[0m \u001b[0;36m5\u001b[0m\u001b[0;34m,\u001b[0m \u001b[0;36m4\u001b[0m\u001b[0;34m,\u001b[0m \u001b[0;36m3\u001b[0m\u001b[0;34m,\u001b[0m \u001b[0;36m2\u001b[0m\u001b[0;34m,\u001b[0m \u001b[0;36m1\u001b[0m\u001b[0;34m]\u001b[0m\u001b[0;34m)\u001b[0m\u001b[0;34m\u001b[0m\u001b[0;34m\u001b[0m\u001b[0m\n\u001b[0;32m----> 2\u001b[0;31m \u001b[0mprint\u001b[0m\u001b[0;34m(\u001b[0m\u001b[0;34m(\u001b[0m\u001b[0mA\u001b[0m \u001b[0;34m>\u001b[0m \u001b[0;36m1\u001b[0m\u001b[0;34m)\u001b[0m \u001b[0;32mand\u001b[0m \u001b[0;34m(\u001b[0m\u001b[0mA\u001b[0m \u001b[0;34m<=\u001b[0m \u001b[0;36m3\u001b[0m\u001b[0;34m)\u001b[0m\u001b[0;34m)\u001b[0m\u001b[0;34m\u001b[0m\u001b[0;34m\u001b[0m\u001b[0m\n\u001b[0m",
      "\u001b[0;31mValueError\u001b[0m: The truth value of an array with more than one element is ambiguous. Use a.any() or a.all()"
     ]
    }
   ],
   "source": [
    "A = np.array([1, 2, 3, 4, 5, 4, 3, 2, 1])\n",
    "print((A > 1) and (A <= 3))"
   ]
  },
  {
   "cell_type": "markdown",
   "id": "8cd30d43",
   "metadata": {},
   "source": [
    "and는 Python의 예약어입니다. and의 피연산자에는 numpy.ndarray가 아닌 bool 타입의 값이 와야 됩니다. 그러나 위 코드에서는 numpy.ndarray 타입의 값이 and의 피연산자입니다. 따라서 Numpy에서는 위와 같이 any() 또는 all()메소드를 사용하여 bool 값으로 변경하라고 에러가 발생한 것입니다\n"
   ]
  },
  {
   "cell_type": "code",
   "execution_count": 6,
   "id": "17c43ec3",
   "metadata": {},
   "outputs": [
    {
     "name": "stdout",
     "output_type": "stream",
     "text": [
      "[[[False False False]\n",
      "  [False False False]\n",
      "  [False False False]]\n",
      "\n",
      " [[False False False]\n",
      "  [False False False]\n",
      "  [ True  True False]]\n",
      "\n",
      " [[False False  True]\n",
      "  [False False False]\n",
      "  [False False False]]]\n"
     ]
    }
   ],
   "source": [
    "np.random.seed(42)\n",
    "\n",
    "A = np.random.randint(0, 100, size=(3, 3, 3))\n",
    "\n",
    "# A안에 52 또는 1인 요소와 같은 위치에는 True, 다른 곳에는 False인 배열을 result에 넣어주세요.\n",
    "result = (A == 52)|(A==1)\n",
    "\n",
    "print(result)"
   ]
  }
 ],
 "metadata": {
  "kernelspec": {
   "display_name": "Python 3 (ipykernel)",
   "language": "python",
   "name": "python3"
  },
  "language_info": {
   "codemirror_mode": {
    "name": "ipython",
    "version": 3
   },
   "file_extension": ".py",
   "mimetype": "text/x-python",
   "name": "python",
   "nbconvert_exporter": "python",
   "pygments_lexer": "ipython3",
   "version": "3.9.1"
  }
 },
 "nbformat": 4,
 "nbformat_minor": 5
}
