{
 "cells": [
  {
   "cell_type": "markdown",
   "id": "ce97fad6",
   "metadata": {},
   "source": [
    "# bool 인덱싱"
   ]
  },
  {
   "cell_type": "markdown",
   "id": "8c7985af",
   "metadata": {},
   "source": [
    "## 목표\n",
    "관계 연산자를 통해 얻은 bool 요소로 이루어진 배열을 인덱스로 사용하여 배열에서 특정값들을 추출해보겠습니다.\n",
    "\n"
   ]
  },
  {
   "cell_type": "markdown",
   "id": "0807d28d",
   "metadata": {},
   "source": [
    "## bool 인덱싱\n",
    "\n",
    "우리는 Numpy의 특별한 관계 연산을 이용하여 다음과 같이 ```bool 요소```로 이루어진 배열을 만들 수 있습니다.\n",
    "\n"
   ]
  },
  {
   "cell_type": "code",
   "execution_count": 1,
   "id": "942f01ff",
   "metadata": {},
   "outputs": [
    {
     "name": "stdout",
     "output_type": "stream",
     "text": [
      "[False False False  True  True  True False False False]\n"
     ]
    }
   ],
   "source": [
    "import numpy as np\n",
    "A = np.array([1, 2, 3, 4, 5, 4, 3, 2, 1])\n",
    "print(A >= 4)"
   ]
  },
  {
   "cell_type": "markdown",
   "id": "36fda913",
   "metadata": {},
   "source": [
    "이제 해당 bool 배열을 인덱스로 사용하여 특정 요소들을 추출해봅시다."
   ]
  },
  {
   "cell_type": "code",
   "execution_count": 4,
   "id": "caf78044",
   "metadata": {},
   "outputs": [
    {
     "name": "stdout",
     "output_type": "stream",
     "text": [
      "[False False False  True  True  True False False False]\n",
      "[4 5 4]\n"
     ]
    }
   ],
   "source": [
    "A = np.array([1, 2, 3, 4, 5, 4, 3, 2, 1])\n",
    "B = (A >= 4)\n",
    "print(B)\n",
    "print(A[B])"
   ]
  },
  {
   "cell_type": "markdown",
   "id": "210b9e93",
   "metadata": {},
   "source": [
    "A에서 관계 연산자를 통해 4 이상의 요소는 **True**, 4 미만의 요소는 **False**인 bool 배열 B를 생성합니다. 그리고 B를 A의 인덱스로 넣어준다면 **True**인 요소들(4, 5, 4)만 추출합니다.\n",
    "\n",
    "만약 여러분들이 특정 구간의 해당하는 요소 값들을 변경하고 싶다면 다음과 같이 작성할 수도 있습니다."
   ]
  },
  {
   "cell_type": "code",
   "execution_count": 5,
   "id": "7bd62e9a",
   "metadata": {},
   "outputs": [
    {
     "name": "stdout",
     "output_type": "stream",
     "text": [
      "[1 0 0 4 5 4 0 0 1]\n"
     ]
    }
   ],
   "source": [
    "A = np.array([1, 2, 3, 4, 5, 4, 3, 2, 1])\n",
    "A[(A > 1) & (A <= 3)] = 0\n",
    "print(A)"
   ]
  },
  {
   "cell_type": "markdown",
   "id": "67fccc04",
   "metadata": {},
   "source": [
    "관계 연산자를 통해 1 초과 및 3 이하의 요소는 True, 1 이하 또는 3 초과의 요소는 False인 bool 배열을 A에 인덱스로 넣어주었습니다. 그리고 bool 배열 내 True 요소와 동일한 위치에 있는 A 내 요소의 값들을 0으로 변경했습니다.\n"
   ]
  },
  {
   "cell_type": "code",
   "execution_count": 7,
   "id": "07003ef4",
   "metadata": {},
   "outputs": [
    {
     "name": "stdout",
     "output_type": "stream",
     "text": [
      "[14 20 20 14 20 17 13 17 13 14]\n"
     ]
    }
   ],
   "source": [
    "import numpy as np\n",
    "\n",
    "np.random.seed(42)\n",
    "\n",
    "arr = np.random.randint(0, 100, size=(5, 6, 3))\n",
    "\n",
    "# arr에서 10보다 크고 20보다 작거나 같은 요소들만 추출해봅시다.\n",
    "result = arr[(arr>10)&(arr <= 20)]\n",
    "\n",
    "print(result)"
   ]
  }
 ],
 "metadata": {
  "kernelspec": {
   "display_name": "Python 3 (ipykernel)",
   "language": "python",
   "name": "python3"
  },
  "language_info": {
   "codemirror_mode": {
    "name": "ipython",
    "version": 3
   },
   "file_extension": ".py",
   "mimetype": "text/x-python",
   "name": "python",
   "nbconvert_exporter": "python",
   "pygments_lexer": "ipython3",
   "version": "3.9.1"
  }
 },
 "nbformat": 4,
 "nbformat_minor": 5
}
