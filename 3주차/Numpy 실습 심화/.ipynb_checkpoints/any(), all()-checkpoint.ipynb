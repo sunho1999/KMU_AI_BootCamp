{
 "cells": [
  {
   "cell_type": "markdown",
   "id": "522a4fcf",
   "metadata": {},
   "source": [
    "## 목표\n",
    "배열을 검사해주는 ```any()```와 ```all()```메소드에 대해 살펴봅시다.\n",
    "\n",
    "## any() 메소드\n",
    "```any()```메소드는 주어진 배열에 ```True```가 하나라도 있으면 ```True```를 반환하고, ```True```가 하나도 없다면 ```False```를 반환합니다. 예시로 배열에 4 이상의 수가 있는지 검사하는 코드를 살펴봅시다.\n",
    "\n"
   ]
  },
  {
   "cell_type": "code",
   "execution_count": 1,
   "id": "fe1a6b47",
   "metadata": {},
   "outputs": [
    {
     "name": "stdout",
     "output_type": "stream",
     "text": [
      "[False False False  True  True  True False False False]\n",
      "\n",
      "True\n"
     ]
    }
   ],
   "source": [
    "import numpy as np\n",
    "\n",
    "A = np.array([1, 2, 3, 4, 5, 4, 3, 2, 1])\n",
    "print(A >= 4)\n",
    "print()\n",
    "print((A >= 4).any())"
   ]
  },
  {
   "cell_type": "markdown",
   "id": "50840438",
   "metadata": {},
   "source": [
    "배열 A에는 4 이상의 수가 4, 5, 4로 총 3개가 존재합니다. 배열에 관계 연산자를 사용하여 4 이상의 수는 ```True```, 4 미만의 수는 ```False```인 배열을 얻습니다. 그 후 ```any()```메소드를 통해서 하나라도 ```True```가 있는지 검사합니다. 위 A에서 관계 연산을 통해 얻은 배열에는 1개 이상(3개)의 ```True```가 존재하므로 ```any()```메소드의 결과는 True로 나옵니다.\n",
    "\n"
   ]
  },
  {
   "cell_type": "markdown",
   "id": "7ea9227b",
   "metadata": {},
   "source": [
    "## all() 메소드\n",
    "all()메소드는 주어진 배열의 모든 요소가 True라면 True를 반환하고, 하나라도 False가 있다면 False를 반환합니다. 위에서 살펴본 코드에 any() 대신 all()을 넣어보겠습니다.\n",
    "\n"
   ]
  },
  {
   "cell_type": "code",
   "execution_count": 2,
   "id": "12fbfad1",
   "metadata": {},
   "outputs": [
    {
     "name": "stdout",
     "output_type": "stream",
     "text": [
      "[False False False  True  True  True False False False]\n",
      "\n",
      "False\n"
     ]
    }
   ],
   "source": [
    "import numpy as np\n",
    "A = np.array([1, 2, 3, 4, 5, 4, 3, 2, 1])\n",
    "print(A >= 4)\n",
    "print()\n",
    "print((A >= 4).all())"
   ]
  },
  {
   "cell_type": "markdown",
   "id": "59a0c07a",
   "metadata": {},
   "source": [
    "```any()```를 사용했을 때와 다르게 ```False```가 출력된 것을 확인할 수 있습니다. 즉, ```any()```는 관계 연산자로 연산한 배열에 ```True```가 존재하기 때문에 ```True```를 반환했습니다. 그러나 ```all()```는 모든 요소가 ```True```가 아니고 ```False```인 요소들도 존재하기 때문에 ```False```를 반환합니다.\n",
    "\n",
    "그럼 오른쪽 코드의 주석으로 참고하여 빈칸을 채우며 ```any(), all()```메소드를 연습해봅시다."
   ]
  },
  {
   "cell_type": "code",
   "execution_count": 3,
   "id": "735fc287",
   "metadata": {},
   "outputs": [
    {
     "name": "stdout",
     "output_type": "stream",
     "text": [
      "[[[51 92 14]\n",
      "  [71 60 20]\n",
      "  [82 86 74]]\n",
      "\n",
      " [[74 87 99]\n",
      "  [23  2 21]\n",
      "  [52  1 87]]\n",
      "\n",
      " [[29 37  1]\n",
      "  [63 59 20]\n",
      "  [32 75 57]]]\n",
      "True\n",
      "False\n"
     ]
    }
   ],
   "source": [
    "import numpy as np\n",
    "\n",
    "np.random.seed(42)\n",
    "arr = np.random.randint(0, 100, size=(3, 3, 3))\n",
    "print(arr)\n",
    "\n",
    "# arr에 52 또는 1이 있는지 확인해봅시다.\n",
    "result1 = ((arr==52) | (arr==1)).any()\n",
    "\n",
    "print(result1)\n",
    "\n",
    "# arr[0, :, :]에 요소들이 모두 20 이상의 수를 가지고 있는지 확인해봅시다.\n",
    "result2 = (arr[0,:,:] >= 20).all()\n",
    "\n",
    "print(result2)"
   ]
  }
 ],
 "metadata": {
  "kernelspec": {
   "display_name": "Python 3 (ipykernel)",
   "language": "python",
   "name": "python3"
  },
  "language_info": {
   "codemirror_mode": {
    "name": "ipython",
    "version": 3
   },
   "file_extension": ".py",
   "mimetype": "text/x-python",
   "name": "python",
   "nbconvert_exporter": "python",
   "pygments_lexer": "ipython3",
   "version": "3.9.1"
  }
 },
 "nbformat": 4,
 "nbformat_minor": 5
}
