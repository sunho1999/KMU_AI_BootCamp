{
 "cells": [
  {
   "cell_type": "markdown",
   "id": "a6b1f47a",
   "metadata": {},
   "source": [
    "### 영벡터\n",
    "\n",
    "- 원소가 모두 0인 벡터(행렬)\n",
    "- `np.zeros(dim)`을 통해 생성, dim은 값, 혹은 튜플(,)\n"
   ]
  },
  {
   "cell_type": "code",
   "execution_count": 1,
   "id": "09e315db",
   "metadata": {},
   "outputs": [],
   "source": [
    "import numpy as np"
   ]
  },
  {
   "cell_type": "code",
   "execution_count": 2,
   "id": "480851ab",
   "metadata": {},
   "outputs": [
    {
     "data": {
      "text/plain": [
       "array([0., 0., 0.])"
      ]
     },
     "execution_count": 2,
     "metadata": {},
     "output_type": "execute_result"
    }
   ],
   "source": [
    "np.zeros(3)"
   ]
  },
  {
   "cell_type": "code",
   "execution_count": 4,
   "id": "9ef9ce6e",
   "metadata": {},
   "outputs": [
    {
     "data": {
      "text/plain": [
       "array([[0., 0., 0.],\n",
       "       [0., 0., 0.],\n",
       "       [0., 0., 0.]])"
      ]
     },
     "execution_count": 4,
     "metadata": {},
     "output_type": "execute_result"
    }
   ],
   "source": [
    "np.zeros((3,3))"
   ]
  },
  {
   "cell_type": "markdown",
   "id": "ac62e943",
   "metadata": {},
   "source": [
    "### 일벡터(행렬)\n",
    "* 원소가 모두 1인 벡터(행렬)\n",
    "* `np.ones(dim)` 을 통해 생성"
   ]
  },
  {
   "cell_type": "code",
   "execution_count": 6,
   "id": "dafa3900",
   "metadata": {},
   "outputs": [
    {
     "data": {
      "text/plain": [
       "array([1., 1.])"
      ]
     },
     "execution_count": 6,
     "metadata": {},
     "output_type": "execute_result"
    }
   ],
   "source": [
    "np.ones(2)"
   ]
  },
  {
   "cell_type": "code",
   "execution_count": 7,
   "id": "9c5a9c5c",
   "metadata": {},
   "outputs": [
    {
     "data": {
      "text/plain": [
       "array([[1., 1., 1.],\n",
       "       [1., 1., 1.],\n",
       "       [1., 1., 1.]])"
      ]
     },
     "execution_count": 7,
     "metadata": {},
     "output_type": "execute_result"
    }
   ],
   "source": [
    "np.ones((3,3))"
   ]
  },
  {
   "cell_type": "markdown",
   "id": "a10f816f",
   "metadata": {},
   "source": [
    "### 대각행렬(diagonal matrix)\n",
    "* Main diagonal을 제외한 성분이 0인 행렬<br>\n",
    "ex)[0,0], [1,1], [2,2] 대각선 축을 중심으로 그외는 전부 값이 0임\n",
    "\n",
    "* `np.diag(main_diagonal)`을 통해 생성"
   ]
  },
  {
   "cell_type": "code",
   "execution_count": 10,
   "id": "cd53ebee",
   "metadata": {},
   "outputs": [
    {
     "data": {
      "text/plain": [
       "array([[2, 0],\n",
       "       [0, 4]])"
      ]
     },
     "execution_count": 10,
     "metadata": {},
     "output_type": "execute_result"
    }
   ],
   "source": [
    "np.diag((2,4))\n"
   ]
  },
  {
   "cell_type": "code",
   "execution_count": 12,
   "id": "4f1e683a",
   "metadata": {},
   "outputs": [
    {
     "data": {
      "text/plain": [
       "array([[1, 0, 0],\n",
       "       [0, 3, 0],\n",
       "       [0, 0, 5]])"
      ]
     },
     "execution_count": 12,
     "metadata": {},
     "output_type": "execute_result"
    }
   ],
   "source": [
    "np.diag((1,3,5))"
   ]
  },
  {
   "cell_type": "markdown",
   "id": "8fc8843f",
   "metadata": {},
   "source": [
    "### 항등 행렬(identity matrix)\n",
    "* Main diagonal이 1인 대각행렬\n",
    "* `np.eye()` 를 사용 \n",
    "* 원소의 데이터 타입을 지정해줄수도 있음"
   ]
  },
  {
   "cell_type": "code",
   "execution_count": 13,
   "id": "fc2706cf",
   "metadata": {},
   "outputs": [
    {
     "data": {
      "text/plain": [
       "array([[1, 0],\n",
       "       [0, 1]])"
      ]
     },
     "execution_count": 13,
     "metadata": {},
     "output_type": "execute_result"
    }
   ],
   "source": [
    "np.eye(2,dtype =int)"
   ]
  },
  {
   "cell_type": "code",
   "execution_count": 15,
   "id": "1ba15423",
   "metadata": {},
   "outputs": [
    {
     "data": {
      "text/plain": [
       "array([[1., 0., 0.],\n",
       "       [0., 1., 0.],\n",
       "       [0., 0., 1.]])"
      ]
     },
     "execution_count": 15,
     "metadata": {},
     "output_type": "execute_result"
    }
   ],
   "source": [
    "np.eye(3,dtype = float)"
   ]
  },
  {
   "cell_type": "markdown",
   "id": "2a2499cc",
   "metadata": {},
   "source": [
    "### 행렬곱(dot product)\n",
    "행렬간의 곱연산\n",
    "* `np.dot() or @ `을 사용"
   ]
  },
  {
   "cell_type": "code",
   "execution_count": 18,
   "id": "1196e273",
   "metadata": {},
   "outputs": [
    {
     "data": {
      "text/plain": [
       "array([[ 7, 33],\n",
       "       [14, 36]])"
      ]
     },
     "execution_count": 18,
     "metadata": {},
     "output_type": "execute_result"
    }
   ],
   "source": [
    "mat_1 = np.array([[1,4],[2,3]])\n",
    "mat_2 = np.array([[7,9],[0,6]])\n",
    "mat_1.dot(mat_2)"
   ]
  },
  {
   "cell_type": "code",
   "execution_count": 19,
   "id": "313d2806",
   "metadata": {},
   "outputs": [
    {
     "data": {
      "text/plain": [
       "array([[ 7, 33],\n",
       "       [14, 36]])"
      ]
     },
     "execution_count": 19,
     "metadata": {},
     "output_type": "execute_result"
    }
   ],
   "source": [
    "mat_1 @ mat_2"
   ]
  },
  {
   "cell_type": "markdown",
   "id": "aa424d92",
   "metadata": {},
   "source": [
    "### 트레이스(trace)\n",
    "* Main diagonal의 합\n",
    "* `np.trace()` 를 사용"
   ]
  },
  {
   "cell_type": "code",
   "execution_count": 21,
   "id": "71a0a4b7",
   "metadata": {},
   "outputs": [
    {
     "data": {
      "text/plain": [
       "array([[1, 2, 3],\n",
       "       [4, 5, 6],\n",
       "       [7, 8, 9]])"
      ]
     },
     "execution_count": 21,
     "metadata": {},
     "output_type": "execute_result"
    }
   ],
   "source": [
    "arr = np.array([[1,2,3],[4,5,6],[7,8,9]])\n",
    "arr"
   ]
  },
  {
   "cell_type": "code",
   "execution_count": 23,
   "id": "1bd5fca5",
   "metadata": {},
   "outputs": [
    {
     "data": {
      "text/plain": [
       "15"
      ]
     },
     "execution_count": 23,
     "metadata": {},
     "output_type": "execute_result"
    }
   ],
   "source": [
    "arr.trace() # 1 + 5 + 9"
   ]
  },
  {
   "cell_type": "code",
   "execution_count": 28,
   "id": "459ae2bc",
   "metadata": {},
   "outputs": [
    {
     "data": {
      "text/plain": [
       "2"
      ]
     },
     "execution_count": 28,
     "metadata": {},
     "output_type": "execute_result"
    }
   ],
   "source": [
    "np.eye(2,dtype =int).trace()"
   ]
  },
  {
   "cell_type": "markdown",
   "id": "a7eb7db0",
   "metadata": {},
   "source": [
    "### 행렬식(determinant)\n",
    "* 행렬을 대표하는 값들 중 하나 -> 선형변환\n",
    "* `np.linalg.det()`으로 계산\n",
    "*  선형변환 과정에서 Vector의 Saclling 척도"
   ]
  },
  {
   "cell_type": "code",
   "execution_count": 31,
   "id": "206580c0",
   "metadata": {},
   "outputs": [
    {
     "data": {
      "text/plain": [
       "array([[2, 3],\n",
       "       [1, 6]])"
      ]
     },
     "execution_count": 31,
     "metadata": {},
     "output_type": "execute_result"
    }
   ],
   "source": [
    "arr_2 = np.array([[2,3],[1,6]])\n",
    "arr_2"
   ]
  },
  {
   "cell_type": "code",
   "execution_count": 33,
   "id": "840e5318",
   "metadata": {},
   "outputs": [
    {
     "data": {
      "text/plain": [
       "9.000000000000002"
      ]
     },
     "execution_count": 33,
     "metadata": {},
     "output_type": "execute_result"
    }
   ],
   "source": [
    "np.linalg.det(arr_2)"
   ]
  },
  {
   "cell_type": "code",
   "execution_count": 35,
   "id": "214aaa26",
   "metadata": {},
   "outputs": [
    {
     "data": {
      "text/plain": [
       "array([[1, 4, 7],\n",
       "       [2, 5, 8],\n",
       "       [3, 6, 9]])"
      ]
     },
     "execution_count": 35,
     "metadata": {},
     "output_type": "execute_result"
    }
   ],
   "source": [
    "arr_3 = np.array([[1,4,7],[2,5,8],[3,6,9]])\n",
    "arr_3"
   ]
  },
  {
   "cell_type": "code",
   "execution_count": 36,
   "id": "8c25d90e",
   "metadata": {},
   "outputs": [
    {
     "data": {
      "text/plain": [
       "0.0"
      ]
     },
     "execution_count": 36,
     "metadata": {},
     "output_type": "execute_result"
    }
   ],
   "source": [
    "np.linalg.det(arr_3)"
   ]
  },
  {
   "cell_type": "markdown",
   "id": "d1ed7b65",
   "metadata": {},
   "source": [
    "### 역행렬\n",
    "* 행렬 A에 대해 AB = BA = I를 만족하는 행렬 B = A^-1\n",
    "* `np.linalg.inv()`으로 계산"
   ]
  },
  {
   "cell_type": "code",
   "execution_count": 37,
   "id": "58ee43e9",
   "metadata": {},
   "outputs": [
    {
     "data": {
      "text/plain": [
       "array([[1, 4],\n",
       "       [2, 3]])"
      ]
     },
     "execution_count": 37,
     "metadata": {},
     "output_type": "execute_result"
    }
   ],
   "source": [
    "mat = np.array([[1,4],[2,3]])\n",
    "mat"
   ]
  },
  {
   "cell_type": "code",
   "execution_count": 39,
   "id": "7747587b",
   "metadata": {},
   "outputs": [
    {
     "data": {
      "text/plain": [
       "array([[-0.6,  0.8],\n",
       "       [ 0.4, -0.2]])"
      ]
     },
     "execution_count": 39,
     "metadata": {},
     "output_type": "execute_result"
    }
   ],
   "source": [
    "mat_inv = np.linalg.inv(mat)\n",
    "mat_inv"
   ]
  },
  {
   "cell_type": "code",
   "execution_count": 41,
   "id": "5a4259e5",
   "metadata": {},
   "outputs": [
    {
     "data": {
      "text/plain": [
       "array([[ 1.00000000e+00,  0.00000000e+00],\n",
       "       [-1.11022302e-16,  1.00000000e+00]])"
      ]
     },
     "execution_count": 41,
     "metadata": {},
     "output_type": "execute_result"
    }
   ],
   "source": [
    "mat.dot(mat_inv)"
   ]
  },
  {
   "cell_type": "markdown",
   "id": "d76001d8",
   "metadata": {},
   "source": [
    "### 고유값과 고유 백터\n",
    "\n",
    "* 정방행렬 (nxn) A에 대해서  $Ax  = \\lambda x$ 을 만족하는 $\\lambda$와 x를 각각 고유값과 고유벡터라 한다.\n",
    "* `np.linalg.eig()` 로 계산\n",
    "* 나온 값들을 column을 기준으로 본다."
   ]
  },
  {
   "cell_type": "code",
   "execution_count": 43,
   "id": "bea488af",
   "metadata": {},
   "outputs": [
    {
     "data": {
      "text/plain": [
       "array([[ 2,  0, -2],\n",
       "       [ 1,  1, -2],\n",
       "       [ 0,  0,  1]])"
      ]
     },
     "execution_count": 43,
     "metadata": {},
     "output_type": "execute_result"
    }
   ],
   "source": [
    "mat = np.array([[2,0,-2],[1,1,-2],[0,0,1]])\n",
    "mat"
   ]
  },
  {
   "cell_type": "code",
   "execution_count": 44,
   "id": "07c95f08",
   "metadata": {},
   "outputs": [
    {
     "data": {
      "text/plain": [
       "(array([1., 2., 1.]),\n",
       " array([[0.        , 0.70710678, 0.89442719],\n",
       "        [1.        , 0.70710678, 0.        ],\n",
       "        [0.        , 0.        , 0.4472136 ]]))"
      ]
     },
     "execution_count": 44,
     "metadata": {},
     "output_type": "execute_result"
    }
   ],
   "source": [
    "np.linalg.eig(mat)"
   ]
  },
  {
   "cell_type": "markdown",
   "id": "60f83493",
   "metadata": {},
   "source": [
    "### Validation"
   ]
  },
  {
   "cell_type": "code",
   "execution_count": 48,
   "id": "76c374b5",
   "metadata": {},
   "outputs": [
    {
     "data": {
      "text/plain": [
       "array([1., 2., 1.])"
      ]
     },
     "execution_count": 48,
     "metadata": {},
     "output_type": "execute_result"
    }
   ],
   "source": [
    "eig_val, eig_vec = np.linalg.eig(mat)\n",
    "eig_val"
   ]
  },
  {
   "cell_type": "code",
   "execution_count": 50,
   "id": "73598efb",
   "metadata": {},
   "outputs": [
    {
     "data": {
      "text/plain": [
       "array([[0.        , 0.70710678, 0.89442719],\n",
       "       [1.        , 0.70710678, 0.        ],\n",
       "       [0.        , 0.        , 0.4472136 ]])"
      ]
     },
     "execution_count": 50,
     "metadata": {},
     "output_type": "execute_result"
    }
   ],
   "source": [
    "eig_vec"
   ]
  },
  {
   "cell_type": "code",
   "execution_count": 53,
   "id": "24c6e503",
   "metadata": {},
   "outputs": [
    {
     "data": {
      "text/plain": [
       "array([0., 1., 0.])"
      ]
     },
     "execution_count": 53,
     "metadata": {},
     "output_type": "execute_result"
    }
   ],
   "source": [
    "mat @ eig_vec[:,0]"
   ]
  },
  {
   "cell_type": "markdown",
   "id": "cd690b59",
   "metadata": {},
   "source": [
    "eig_val[0] * eig_vec[:,0] # (lambda)x"
   ]
  }
 ],
 "metadata": {
  "kernelspec": {
   "display_name": "Python 3 (ipykernel)",
   "language": "python",
   "name": "python3"
  },
  "language_info": {
   "codemirror_mode": {
    "name": "ipython",
    "version": 3
   },
   "file_extension": ".py",
   "mimetype": "text/x-python",
   "name": "python",
   "nbconvert_exporter": "python",
   "pygments_lexer": "ipython3",
   "version": "3.9.1"
  }
 },
 "nbformat": 4,
 "nbformat_minor": 5
}
