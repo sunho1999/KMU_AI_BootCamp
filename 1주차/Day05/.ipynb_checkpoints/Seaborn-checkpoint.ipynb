{
 "cells": [
  {
   "cell_type": "markdown",
   "id": "32619602",
   "metadata": {},
   "source": [
    "## 4. Seaborn"
   ]
  },
  {
   "cell_type": "markdown",
   "id": "5c9b3b97",
   "metadata": {},
   "source": [
    "### Matplotlib를 기반으로 더 다양한 시각화 방법을 제공하는 라이브러리\n",
    "\n",
    "- 커널밀도그림\n",
    "- 카운트그림\n",
    "- 캣그림\n",
    "- 스트립그림\n",
    "- 히트맵\n"
   ]
  },
  {
   "cell_type": "markdown",
   "id": "a425a71c",
   "metadata": {},
   "source": [
    "### Seaborn Import 하기\n"
   ]
  },
  {
   "cell_type": "code",
   "execution_count": 2,
   "id": "56593795",
   "metadata": {},
   "outputs": [],
   "source": [
    "import seaborn as sns"
   ]
  },
  {
   "cell_type": "markdown",
   "id": "92c880f8",
   "metadata": {},
   "source": [
    "### 커널밀도그림( Kernel Density Plot)\n",
    "- 히스토그램과 같은 연속적인 분포를 곡선화해서 그린 그림\n",
    "- `sns.kdeplot()`\n"
   ]
  },
  {
   "cell_type": "code",
   "execution_count": null,
   "id": "3f24294e",
   "metadata": {},
   "outputs": [],
   "source": [
    "# in Histrogram\n",
    "\n",
    "x = np.arange(0,22,2)\n",
    "y = np.random.randint(0,20,20)"
   ]
  },
  {
   "cell_type": "code",
   "execution_count": null,
   "id": "d9fca2cf",
   "metadata": {},
   "outputs": [],
   "source": []
  }
 ],
 "metadata": {
  "kernelspec": {
   "display_name": "Python 3 (ipykernel)",
   "language": "python",
   "name": "python3"
  },
  "language_info": {
   "codemirror_mode": {
    "name": "ipython",
    "version": 3
   },
   "file_extension": ".py",
   "mimetype": "text/x-python",
   "name": "python",
   "nbconvert_exporter": "python",
   "pygments_lexer": "ipython3",
   "version": "3.9.1"
  }
 },
 "nbformat": 4,
 "nbformat_minor": 5
}
