{
 "cells": [
  {
   "cell_type": "markdown",
   "id": "582adb4d",
   "metadata": {},
   "source": [
    "## Mission: It's Your Turn!"
   ]
  },
  {
   "cell_type": "markdown",
   "id": "cd34dadd",
   "metadata": {},
   "source": [
    "### 1. 본문에서 언급된 Featurn를 제외하고 유의미한 Feature를 1개 이상 찾아봅시다.\n",
    "- Hint: Fare? Sibsp? Parch?\n"
   ]
  },
  {
   "cell_type": "code",
   "execution_count": null,
   "id": "e4e649c2",
   "metadata": {},
   "outputs": [],
   "source": []
  },
  {
   "cell_type": "markdown",
   "id": "421a700a",
   "metadata": {},
   "source": [
    "### 2. Kaggle에서 Dataset을 찾고, 이 Dataset에서 유의미한 Feature를 3개이상 찾고 이를 시각화 해봅시다."
   ]
  },
  {
   "cell_type": "code",
   "execution_count": null,
   "id": "5a103661",
   "metadata": {},
   "outputs": [],
   "source": []
  },
  {
   "cell_type": "markdown",
   "id": "0df85e30",
   "metadata": {},
   "source": [
    "#### 무대뽀로 하기 힘들다면? 다음 Hint와 함께 시도해봅시다:\n",
    "\n",
    "1. 데이터를 뽑아 봅시다.\n",
    "    - 각 데이터는 어떤 자료형을 가지고 있나요?\n",
    "    - 데이터에는 **결측치**는 없나요? -> 있다면 이를 어떻게 메꿔줄까요?\n",
    "    - 데이터의 자료형을 바꿔줄 필요가 있나요? -> 범주형의 One-hot encoding\n",
    "2. 데이터에 대한 가설을 세워봅시다.\n",
    "    - 가설은 개인의 경험에 의해서 도출되어도 상관이 없습니다.\n",
    "    - 가설은 명확할수록 좋습니다 ex) Titanic Data에서 Survival 여부와 성별에는 상관관계가 있다!\n",
    "3. 가설을 검증하기 위한 증거를 찾아봅시다.\n",
    "    - 이 증거는 한눈에 보이지 않을 수도 있습니다. 우리가 다룬 여러 Technique를 써줘야합니다.\n",
    "    - `.groupby()`를 통해서 그룹화된 정보에 통계량을 도입하면 어떨까요?\n",
    "    - `.merge()`를 통해서 두개 이상의 dataFrame을 합치면 어떨까요?\n",
    "    - 시각화를 통해 일목요연하게 보여주면 더욱 좋겠죠?\n",
    "    "
   ]
  },
  {
   "cell_type": "code",
   "execution_count": null,
   "id": "379551e9",
   "metadata": {},
   "outputs": [],
   "source": []
  }
 ],
 "metadata": {
  "kernelspec": {
   "display_name": "Python 3 (ipykernel)",
   "language": "python",
   "name": "python3"
  },
  "language_info": {
   "codemirror_mode": {
    "name": "ipython",
    "version": 3
   },
   "file_extension": ".py",
   "mimetype": "text/x-python",
   "name": "python",
   "nbconvert_exporter": "python",
   "pygments_lexer": "ipython3",
   "version": "3.9.1"
  }
 },
 "nbformat": 4,
 "nbformat_minor": 5
}
