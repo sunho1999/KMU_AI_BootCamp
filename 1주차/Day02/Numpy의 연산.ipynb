{
 "cells": [
  {
   "cell_type": "code",
   "execution_count": 1,
   "id": "01686fc1",
   "metadata": {},
   "outputs": [],
   "source": [
    "import numpy as np"
   ]
  },
  {
   "cell_type": "markdown",
   "id": "f31f5625",
   "metadata": {},
   "source": [
    "### Numpy로 연산하기"
   ]
  },
  {
   "cell_type": "markdown",
   "id": "d6612dca",
   "metadata": {},
   "source": [
    "### Vector와 Saclar 사이의 연산\n",
    "\n",
    "벡터의 각 원소에 대해서 연산을 진행\n",
    "$$ x = \\left( \\begin{matrix} 1\\\\ 2\\\\ 3 \\end{matrix} \\right) \\quad c = 5  $$"
   ]
  },
  {
   "cell_type": "code",
   "execution_count": 4,
   "id": "d59aa279",
   "metadata": {},
   "outputs": [
    {
     "name": "stdout",
     "output_type": "stream",
     "text": [
      "더하기 : [6 7 8]\n",
      "빼기 : [-4 -3 -2]\n",
      "곱하기 : [ 5 10 15]\n",
      "나누기 : [0.2 0.4 0.6]\n"
     ]
    }
   ],
   "source": [
    "x = np.array([1,2,3])\n",
    "c = 5\n",
    "\n",
    "print(\"더하기 : {}\".format(x + c))\n",
    "print(\"빼기 : {}\".format(x - c))\n",
    "print(\"곱하기 : {}\".format(x * c))\n",
    "print(\"나누기 : {}\".format(x / c))"
   ]
  },
  {
   "cell_type": "markdown",
   "id": "5ef8b0ca",
   "metadata": {},
   "source": [
    "### Vector와 Vector사이의 연산\n",
    "\n",
    "벡터의 **같은 인덱스**끼리 연산이 진행!!\n",
    "\n",
    "$$ y = \\left( \\begin{matrix} 1\\\\ 3\\\\ 5 \\end{matrix} \\right) \\quad z = \\left( \\begin{matrix} 2\\\\ 9 \\\\20 \\end{matrix} \\right) $$\n"
   ]
  },
  {
   "cell_type": "code",
   "execution_count": 12,
   "id": "6a681cf2",
   "metadata": {},
   "outputs": [
    {
     "name": "stdout",
     "output_type": "stream",
     "text": [
      "더하기 : [ 3 12 25]\n",
      "빼기 : [ -1  -6 -15]\n",
      "곱하기 : [  2  27 100]\n",
      "나누기 : [0.5        0.33333333 0.25      ]\n"
     ]
    }
   ],
   "source": [
    "y = np.array([1,3,5])\n",
    "z = np.array([2,9,20])\n",
    "print(\"더하기 : {}\".format(y + z))\n",
    "print(\"빼기 : {}\".format(y - z))\n",
    "print(\"곱하기 : {}\".format(y * z))\n",
    "print(\"나누기 : {}\".format(y / z))"
   ]
  },
  {
   "cell_type": "markdown",
   "id": "3b0a65b6",
   "metadata": {},
   "source": [
    "### Array의 Indexing \n",
    "Array에서 특정 위치를 원하는 원소를 가지고 오고 싶다면?\n",
    "\n",
    "$$ W = \\left(\\begin{matrix} 1 & 2 & 3 & 4 \\\\ 5 &6 & 7 & 8 \\\\ 9 & 10 & 11 & 12 \\end{matrix} \\right)$$"
   ]
  },
  {
   "cell_type": "markdown",
   "id": "aa9680da",
   "metadata": {},
   "source": [
    "2차원의 기준으로 했을 때 array indexing은 [(row),(column)]으로 들어간다"
   ]
  },
  {
   "cell_type": "code",
   "execution_count": 25,
   "id": "cbe8efb6",
   "metadata": {},
   "outputs": [
    {
     "name": "stdout",
     "output_type": "stream",
     "text": [
      "1\n",
      "12\n"
     ]
    }
   ],
   "source": [
    "W = np.array([[1,2,3,4],[5,6,7,8],[9,10,11,12]])\n",
    "\n",
    "print(W[0,0]) # 1\n",
    "print(W[2,3]) # 12"
   ]
  },
  {
   "cell_type": "code",
   "execution_count": 28,
   "id": "1f554b16",
   "metadata": {},
   "outputs": [
    {
     "data": {
      "text/plain": [
       "7"
      ]
     },
     "execution_count": 28,
     "metadata": {},
     "output_type": "execute_result"
    }
   ],
   "source": [
    "# 7을 가져오려면\n",
    "W[1,2]\n"
   ]
  },
  {
   "cell_type": "markdown",
   "id": "71f178b6",
   "metadata": {},
   "source": [
    "### Array의 Slicing\n",
    "Array에서 특정 범위의 원하는 원소를 가지고 오고 싶다면?\n",
    "python의 list와 유사하게 진행"
   ]
  },
  {
   "cell_type": "code",
   "execution_count": null,
   "id": "e1a899e6",
   "metadata": {},
   "outputs": [],
   "source": [
    "W = np.array([[1,2,3,4],[5,6,7,8],[9,10,11,12]])"
   ]
  },
  {
   "cell_type": "code",
   "execution_count": 37,
   "id": "c2943573",
   "metadata": {},
   "outputs": [
    {
     "data": {
      "text/plain": [
       "array([[2, 3],\n",
       "       [6, 7]])"
      ]
     },
     "execution_count": 37,
     "metadata": {},
     "output_type": "execute_result"
    }
   ],
   "source": [
    "W[0:2,1:3]"
   ]
  },
  {
   "cell_type": "code",
   "execution_count": 40,
   "id": "89a53920",
   "metadata": {},
   "outputs": [
    {
     "data": {
      "text/plain": [
       "array([[1, 2, 3, 4],\n",
       "       [5, 6, 7, 8]])"
      ]
     },
     "execution_count": 40,
     "metadata": {},
     "output_type": "execute_result"
    }
   ],
   "source": [
    "W[0:2,:] #W[0:2,0:4]와 같음"
   ]
  },
  {
   "cell_type": "markdown",
   "id": "48ea9952",
   "metadata": {},
   "source": [
    "### Array의 Broadcasting\n",
    "Numpy가 연산을 진행하는 특수한 방법!\n",
    "\n",
    "기본적으로 같은 Type의 data에 대해서만 연산이 적용 가능\n",
    "하지만 만약에 피연산자가 연산 가능하도록 변환이 가능하다면 연산이 가능합니다.\n",
    "이를 **Broadcasting** 이라고 합니다.\n",
    "#### 1. M by N, M by 1"
   ]
  },
  {
   "cell_type": "code",
   "execution_count": 47,
   "id": "891ab780",
   "metadata": {},
   "outputs": [
    {
     "name": "stdout",
     "output_type": "stream",
     "text": [
      "[[0]\n",
      " [1]\n",
      " [0]]\n",
      "[[1 2 3]\n",
      " [5 6 7]\n",
      " [7 8 9]]\n"
     ]
    }
   ],
   "source": [
    "a = np.array([[1,2,3],[4,5,6],[7,8,9]])\n",
    "x = np.array([0,1,0])\n",
    "x = x[:,None] # x 전치\n",
    "print(x)\n",
    "print(a+x)"
   ]
  },
  {
   "cell_type": "markdown",
   "id": "12b5e5ef",
   "metadata": {},
   "source": [
    "#### 2. M by N, 1 by N"
   ]
  },
  {
   "cell_type": "code",
   "execution_count": 49,
   "id": "bfcf63f5",
   "metadata": {},
   "outputs": [
    {
     "name": "stdout",
     "output_type": "stream",
     "text": [
      "[array([[ 0,  2, -3],\n",
      "       [ 0,  5, -6],\n",
      "       [ 0,  8, -9]])]\n"
     ]
    }
   ],
   "source": [
    "y = np.array([0,1,-1])\n",
    "\n",
    "print([a*y])"
   ]
  },
  {
   "cell_type": "markdown",
   "id": "74be3f23",
   "metadata": {},
   "source": [
    "#### 3. M by 1, 1 by N\n"
   ]
  },
  {
   "cell_type": "code",
   "execution_count": 56,
   "id": "e6333f96",
   "metadata": {},
   "outputs": [
    {
     "name": "stdout",
     "output_type": "stream",
     "text": [
      "[[ 3  1 -1]\n",
      " [ 4  2  0]\n",
      " [ 5  3  1]]\n"
     ]
    }
   ],
   "source": [
    "t = np.array([1,2,3]) # 열벡터로 바꿔줘야함\n",
    "t = t[:,None] # Transpose\n",
    "u = np.array([2,0,-2])\n",
    "\n",
    "print(t+u)"
   ]
  }
 ],
 "metadata": {
  "kernelspec": {
   "display_name": "Python 3 (ipykernel)",
   "language": "python",
   "name": "python3"
  },
  "language_info": {
   "codemirror_mode": {
    "name": "ipython",
    "version": 3
   },
   "file_extension": ".py",
   "mimetype": "text/x-python",
   "name": "python",
   "nbconvert_exporter": "python",
   "pygments_lexer": "ipython3",
   "version": "3.9.1"
  }
 },
 "nbformat": 4,
 "nbformat_minor": 5
}
