{
 "cells": [
  {
   "cell_type": "markdown",
   "id": "58c6e473",
   "metadata": {},
   "source": [
    "## 1. Numpy 시작하기"
   ]
  },
  {
   "cell_type": "markdown",
   "id": "3c68cd93",
   "metadata": {},
   "source": [
    "### Remind: 리스트"
   ]
  },
  {
   "cell_type": "code",
   "execution_count": 12,
   "id": "af4db5dc",
   "metadata": {},
   "outputs": [
    {
     "name": "stdout",
     "output_type": "stream",
     "text": [
      "[1, 'two', 3.0]\n"
     ]
    }
   ],
   "source": [
    "arr = [1,\"two\",3.0]\n",
    "print(arr)"
   ]
  },
  {
   "cell_type": "markdown",
   "id": "7769b264",
   "metadata": {},
   "source": [
    "### numpy 모듈 불러오기\n"
   ]
  },
  {
   "cell_type": "code",
   "execution_count": 13,
   "id": "9fff69da",
   "metadata": {},
   "outputs": [],
   "source": [
    "import numpy as np"
   ]
  },
  {
   "cell_type": "markdown",
   "id": "a1988266",
   "metadata": {},
   "source": [
    "### 왜 numpy를 사용해야 할까요?( List와 numpy의 시간차이 구해보기)\n"
   ]
  },
  {
   "cell_type": "markdown",
   "id": "1910577e",
   "metadata": {},
   "source": [
    "#### List\n"
   ]
  },
  {
   "cell_type": "code",
   "execution_count": 17,
   "id": "2eac0c17",
   "metadata": {},
   "outputs": [
    {
     "name": "stdout",
     "output_type": "stream",
     "text": [
      "382 µs ± 8.32 µs per loop (mean ± std. dev. of 7 runs, 1000 loops each)\n"
     ]
    }
   ],
   "source": [
    "L = range(1000)\n",
    "\n",
    "%timeit [i**2 for i in L]"
   ]
  },
  {
   "cell_type": "markdown",
   "id": "9baf118b",
   "metadata": {},
   "source": [
    "#### numpy.array"
   ]
  },
  {
   "cell_type": "code",
   "execution_count": 18,
   "id": "3565fa91",
   "metadata": {},
   "outputs": [],
   "source": [
    "N = np.arange(1000) #np.arange는 range와 똑같은 기능을 합니다."
   ]
  },
  {
   "cell_type": "code",
   "execution_count": 19,
   "id": "34438f6b",
   "metadata": {},
   "outputs": [
    {
     "name": "stdout",
     "output_type": "stream",
     "text": [
      "1.11 µs ± 7.47 ns per loop (mean ± std. dev. of 7 runs, 1000000 loops each)\n"
     ]
    }
   ],
   "source": [
    "%timeit N**2  "
   ]
  },
  {
   "cell_type": "markdown",
   "id": "28d70c8c",
   "metadata": {},
   "source": [
    "## numpy.array\n",
    "numpy의 Container, array"
   ]
  },
  {
   "cell_type": "code",
   "execution_count": 20,
   "id": "c0299d9a",
   "metadata": {},
   "outputs": [
    {
     "data": {
      "text/plain": [
       "array([1, 2, 3])"
      ]
     },
     "execution_count": 20,
     "metadata": {},
     "output_type": "execute_result"
    }
   ],
   "source": [
    "arr = np.array([1,2,3])\n",
    "arr"
   ]
  },
  {
   "cell_type": "code",
   "execution_count": 26,
   "id": "36d6d720",
   "metadata": {},
   "outputs": [
    {
     "data": {
      "text/plain": [
       "array([[1, 2, 3],\n",
       "       [4, 5, 6],\n",
       "       [7, 8, 9]])"
      ]
     },
     "execution_count": 26,
     "metadata": {},
     "output_type": "execute_result"
    }
   ],
   "source": [
    "arr_2d = np.array([[1,2,3],[4,5,6],[7,8,9]])\n",
    "arr_2d"
   ]
  },
  {
   "cell_type": "markdown",
   "id": "93683e1d",
   "metadata": {},
   "source": [
    "### numpy array의 차원 알아보기\n"
   ]
  },
  {
   "cell_type": "code",
   "execution_count": 27,
   "id": "399b081c",
   "metadata": {},
   "outputs": [
    {
     "data": {
      "text/plain": [
       "(3,)"
      ]
     },
     "execution_count": 27,
     "metadata": {},
     "output_type": "execute_result"
    }
   ],
   "source": [
    "arr.shape"
   ]
  },
  {
   "cell_type": "code",
   "execution_count": 28,
   "id": "227bc83a",
   "metadata": {},
   "outputs": [
    {
     "data": {
      "text/plain": [
       "(3, 3)"
      ]
     },
     "execution_count": 28,
     "metadata": {},
     "output_type": "execute_result"
    }
   ],
   "source": [
    "arr_2d.shape"
   ]
  }
 ],
 "metadata": {
  "kernelspec": {
   "display_name": "Python 3 (ipykernel)",
   "language": "python",
   "name": "python3"
  },
  "language_info": {
   "codemirror_mode": {
    "name": "ipython",
    "version": 3
   },
   "file_extension": ".py",
   "mimetype": "text/x-python",
   "name": "python",
   "nbconvert_exporter": "python",
   "pygments_lexer": "ipython3",
   "version": "3.9.1"
  }
 },
 "nbformat": 4,
 "nbformat_minor": 5
}
