{
 "cells": [
  {
   "cell_type": "markdown",
   "id": "17fd675f",
   "metadata": {},
   "source": [
    "#### 1. 어떤 벡터가 주어졌을 때 L2 norm을 구하는 함수 `get_L2_norm()`을 작성하세요\n",
    "* **매개변수** : 1차원 벡터(`np.array`)\n",
    "* **반환값** : 인자로 주어진 벡터의 L2 Norm 값(`number`)"
   ]
  },
  {
   "cell_type": "code",
   "execution_count": 16,
   "id": "a3f517fc",
   "metadata": {},
   "outputs": [
    {
     "name": "stdout",
     "output_type": "stream",
     "text": [
      "방법1 : 3.7416573867739413\n",
      "방법2 : 3.7416573867739413\n"
     ]
    }
   ],
   "source": [
    "import numpy as np\n",
    "\n",
    "# 방법 1\n",
    "def get_L2_norm(x):\n",
    "    x_norm = x * x\n",
    "    x_norm = np.sum(x_norm)\n",
    "    x_norm = np.sqrt(x_norm)\n",
    "    return x_norm\n",
    "\n",
    "#방법 2\n",
    "def get_L2_norm(x):\n",
    "      return np.linalg.norm(x, 2)\n",
    "\n",
    "arr1 = np.array([1,2,3])\n",
    "aa = get_L2_norm(arr1)\n",
    "answer = get_L2_norm(arr1)\n",
    "\n",
    "\n",
    "print(\"방법1 :\",answer)\n",
    "print(\"방법2 :\",aa)"
   ]
  },
  {
   "cell_type": "markdown",
   "id": "bc9ea5fd",
   "metadata": {},
   "source": [
    "#### 2. 어떤 행렬이 sigular matrix인지 확인하는 함수 `is_singular()`를 작성하세요\n",
    "* 매개변수: 2차원 벡터(`np.array`)\n",
    "* 반환값: 인자로 주어진 벡터가 singular하면 True, not-singular하면 False를 반환"
   ]
  },
  {
   "cell_type": "code",
   "execution_count": 22,
   "id": "ac492075",
   "metadata": {},
   "outputs": [
    {
     "data": {
      "text/plain": [
       "True"
      ]
     },
     "execution_count": 22,
     "metadata": {},
     "output_type": "execute_result"
    }
   ],
   "source": [
    "def is_singular(x):\n",
    "    answer = np.linalg.det(x)\n",
    "    if answer == 0:\n",
    "        return True\n",
    "    else:\n",
    "        return False\n",
    "\n",
    "arr2 = np.array([[1,2],[1,2]])\n",
    "is_singular(arr2)"
   ]
  }
 ],
 "metadata": {
  "kernelspec": {
   "display_name": "Python 3 (ipykernel)",
   "language": "python",
   "name": "python3"
  },
  "language_info": {
   "codemirror_mode": {
    "name": "ipython",
    "version": 3
   },
   "file_extension": ".py",
   "mimetype": "text/x-python",
   "name": "python",
   "nbconvert_exporter": "python",
   "pygments_lexer": "ipython3",
   "version": "3.9.1"
  }
 },
 "nbformat": 4,
 "nbformat_minor": 5
}
