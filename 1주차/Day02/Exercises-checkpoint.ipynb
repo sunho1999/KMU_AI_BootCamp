{
 "cells": [
  {
   "cell_type": "markdown",
   "id": "17fd675f",
   "metadata": {},
   "source": [
    "#### 1. 어떤 벡터가 주어졌을 때 L2 norm을 구하는 함수 `get_L2_norm()`을 작성하세요\n",
    "* **매개변수** : 1차원 벡터(`np.array`)\n",
    "* **반환값** : 인자로 주어진 벡터의 L2 Norm 값(`number`)"
   ]
  },
  {
   "cell_type": "code",
   "execution_count": null,
   "id": "a3f517fc",
   "metadata": {},
   "outputs": [],
   "source": []
  },
  {
   "cell_type": "markdown",
   "id": "bc9ea5fd",
   "metadata": {},
   "source": [
    "#### 2. 어떤 행렬이 sigular matrix인지 확인하는 함수 `is_singular()`를 작성하세요\n",
    "* 매개변수: 2차원 벡터(`np.array`)\n",
    "* 반환값: 인자로 주어진 벡터가 singular하면 True, not-singular하면 False를 반환"
   ]
  },
  {
   "cell_type": "code",
   "execution_count": null,
   "id": "ac492075",
   "metadata": {},
   "outputs": [],
   "source": []
  }
 ],
 "metadata": {
  "kernelspec": {
   "display_name": "Python 3 (ipykernel)",
   "language": "python",
   "name": "python3"
  },
  "language_info": {
   "codemirror_mode": {
    "name": "ipython",
    "version": 3
   },
   "file_extension": ".py",
   "mimetype": "text/x-python",
   "name": "python",
   "nbconvert_exporter": "python",
   "pygments_lexer": "ipython3",
   "version": "3.9.1"
  }
 },
 "nbformat": 4,
 "nbformat_minor": 5
}
