{
 "cells": [
  {
   "cell_type": "markdown",
   "id": "c318ecdd",
   "metadata": {},
   "source": [
    "# 파이썬으로 데이터 주무르기,  pandas"
   ]
  },
  {
   "cell_type": "markdown",
   "id": "d4c2e699",
   "metadata": {},
   "source": [
    "### I.  pandas  시작하기"
   ]
  },
  {
   "cell_type": "markdown",
   "id": "910a23e8",
   "metadata": {},
   "source": [
    "### Prerequisite: Table\n",
    "\n",
    "- 행과 열을 이용해서 데이터를 저장하고 관리하는 자료구조(컨테이너)\n",
    "- 주로 행은 개체, 열은 속성을 나타냄\n"
   ]
  },
  {
   "cell_type": "markdown",
   "id": "f6d4c219",
   "metadata": {},
   "source": [
    "### Pandas 시작하기\n",
    "`import pandas`를 통해서 진행"
   ]
  },
  {
   "cell_type": "code",
   "execution_count": null,
   "id": "e5e1e328",
   "metadata": {},
   "outputs": [],
   "source": [
    "import pandas as pd"
   ]
  },
  {
   "cell_type": "markdown",
   "id": "be6837dd",
   "metadata": {},
   "source": [
    "### II. pandas로 1차원 데이터 다루기 - Series"
   ]
  },
  {
   "cell_type": "markdown",
   "id": "e54537fa",
   "metadata": {},
   "source": [
    "### Series?\n",
    "- 1-D labeled **array**\n",
    "- 인덱스를 지정해줄 수 있음"
   ]
  },
  {
   "cell_type": "code",
   "execution_count": 7,
   "id": "75ad543e",
   "metadata": {},
   "outputs": [
    {
     "data": {
      "text/plain": [
       "0     1\n",
       "1     4\n",
       "2     9\n",
       "3    16\n",
       "4    25\n",
       "dtype: int64"
      ]
     },
     "execution_count": 7,
     "metadata": {},
     "output_type": "execute_result"
    }
   ],
   "source": [
    "s= pd.Series\n",
    "([1,4,9,16,25])\n",
    "s"
   ]
  },
  {
   "cell_type": "code",
   "execution_count": 9,
   "id": "0ce92797",
   "metadata": {},
   "outputs": [
    {
     "data": {
      "text/plain": [
       "one      1\n",
       "two      2\n",
       "three    3\n",
       "four     4\n",
       "five     5\n",
       "dtype: int64"
      ]
     },
     "execution_count": 9,
     "metadata": {},
     "output_type": "execute_result"
    }
   ],
   "source": [
    "t = pd.Series({\"one\":1,\"two\":2,\"three\":3,\"four\":4,\"five\":5})\n",
    "t"
   ]
  },
  {
   "cell_type": "markdown",
   "id": "21037342",
   "metadata": {},
   "source": [
    "### Series + Numpy\n",
    "- Series는 ndarray와 유사하다!"
   ]
  },
  {
   "cell_type": "code",
   "execution_count": 10,
   "id": "2a462433",
   "metadata": {},
   "outputs": [
    {
     "data": {
      "text/plain": [
       "4"
      ]
     },
     "execution_count": 10,
     "metadata": {},
     "output_type": "execute_result"
    }
   ],
   "source": [
    "s[1]"
   ]
  },
  {
   "cell_type": "code",
   "execution_count": 12,
   "id": "b247dee9",
   "metadata": {},
   "outputs": [
    {
     "data": {
      "text/plain": [
       "2"
      ]
     },
     "execution_count": 12,
     "metadata": {},
     "output_type": "execute_result"
    }
   ],
   "source": [
    "t[1]"
   ]
  },
  {
   "cell_type": "code",
   "execution_count": 13,
   "id": "33cfda62",
   "metadata": {},
   "outputs": [
    {
     "data": {
      "text/plain": [
       "two      2\n",
       "three    3\n",
       "dtype: int64"
      ]
     },
     "execution_count": 13,
     "metadata": {},
     "output_type": "execute_result"
    }
   ],
   "source": [
    "t[1:3]"
   ]
  },
  {
   "cell_type": "code",
   "execution_count": 14,
   "id": "7f32da9f",
   "metadata": {},
   "outputs": [
    {
     "data": {
      "text/plain": [
       "3    16\n",
       "4    25\n",
       "dtype: int64"
      ]
     },
     "execution_count": 14,
     "metadata": {},
     "output_type": "execute_result"
    }
   ],
   "source": [
    "s[s > s.median()] # 자기 자신의 median(중앙값)보다 큰 값들만 가지고 오기"
   ]
  },
  {
   "cell_type": "code",
   "execution_count": 16,
   "id": "8e7d90e9",
   "metadata": {},
   "outputs": [
    {
     "data": {
      "text/plain": [
       "3    16\n",
       "1     4\n",
       "4    25\n",
       "dtype: int64"
      ]
     },
     "execution_count": 16,
     "metadata": {},
     "output_type": "execute_result"
    }
   ],
   "source": [
    "s[[3, 1, 4]]"
   ]
  },
  {
   "cell_type": "code",
   "execution_count": 17,
   "id": "35198cea",
   "metadata": {},
   "outputs": [
    {
     "data": {
      "text/plain": [
       "0    2.718282e+00\n",
       "1    5.459815e+01\n",
       "2    8.103084e+03\n",
       "3    8.886111e+06\n",
       "4    7.200490e+10\n",
       "dtype: float64"
      ]
     },
     "execution_count": 17,
     "metadata": {},
     "output_type": "execute_result"
    }
   ],
   "source": [
    "import numpy as np\n",
    "\n",
    "np.exp(s) #지수함수"
   ]
  },
  {
   "cell_type": "code",
   "execution_count": 18,
   "id": "8315f245",
   "metadata": {},
   "outputs": [
    {
     "data": {
      "text/plain": [
       "dtype('int64')"
      ]
     },
     "execution_count": 18,
     "metadata": {},
     "output_type": "execute_result"
    }
   ],
   "source": [
    "s.dtype # 타입형 확인 하고 싶을때 사용"
   ]
  },
  {
   "cell_type": "markdown",
   "id": "f7a38a5b",
   "metadata": {},
   "source": [
    "### Series + dict\n",
    "- series는 dict과 유사하다."
   ]
  },
  {
   "cell_type": "code",
   "execution_count": 19,
   "id": "b0bf28a0",
   "metadata": {},
   "outputs": [
    {
     "data": {
      "text/plain": [
       "one      1\n",
       "two      2\n",
       "three    3\n",
       "four     4\n",
       "five     5\n",
       "dtype: int64"
      ]
     },
     "execution_count": 19,
     "metadata": {},
     "output_type": "execute_result"
    }
   ],
   "source": [
    "t"
   ]
  },
  {
   "cell_type": "code",
   "execution_count": 20,
   "id": "ac9bf2a2",
   "metadata": {},
   "outputs": [
    {
     "data": {
      "text/plain": [
       "1"
      ]
     },
     "execution_count": 20,
     "metadata": {},
     "output_type": "execute_result"
    }
   ],
   "source": [
    "t['one']"
   ]
  },
  {
   "cell_type": "code",
   "execution_count": 22,
   "id": "52bfc07b",
   "metadata": {},
   "outputs": [
    {
     "data": {
      "text/plain": [
       "one      1\n",
       "two      2\n",
       "three    3\n",
       "four     4\n",
       "five     5\n",
       "six      0\n",
       "dtype: int64"
      ]
     },
     "execution_count": 22,
     "metadata": {},
     "output_type": "execute_result"
    }
   ],
   "source": [
    "# Series에 값 추가\n",
    "\n",
    "t['six'] = 0\n",
    "t"
   ]
  },
  {
   "cell_type": "code",
   "execution_count": 23,
   "id": "8bbca455",
   "metadata": {},
   "outputs": [
    {
     "data": {
      "text/plain": [
       "True"
      ]
     },
     "execution_count": 23,
     "metadata": {},
     "output_type": "execute_result"
    }
   ],
   "source": [
    "'six' in t"
   ]
  },
  {
   "cell_type": "code",
   "execution_count": 24,
   "id": "094cfca5",
   "metadata": {},
   "outputs": [
    {
     "data": {
      "text/plain": [
       "False"
      ]
     },
     "execution_count": 24,
     "metadata": {},
     "output_type": "execute_result"
    }
   ],
   "source": [
    "'seven' in t"
   ]
  },
  {
   "cell_type": "code",
   "execution_count": 30,
   "id": "339e2cd9",
   "metadata": {},
   "outputs": [
    {
     "data": {
      "text/plain": [
       "one      1\n",
       "two      2\n",
       "three    3\n",
       "four     4\n",
       "five     5\n",
       "six      0\n",
       "dtype: int64"
      ]
     },
     "execution_count": 30,
     "metadata": {},
     "output_type": "execute_result"
    }
   ],
   "source": [
    "t.get('seven',0) \n",
    "#t.get(\"@\")@을 찾고 없으면 아무것도 반환 안함.\n",
    "#t.get(\"@\",0) @을 찾고 없으면 0을 반환\n",
    "t"
   ]
  },
  {
   "cell_type": "markdown",
   "id": "34dbda5e",
   "metadata": {},
   "source": [
    "### Series에 이름 붙이기\n",
    "- `name`속성을 가지고 있다.\n",
    "- 처음 Series를 만들 때 이름을 붙일 수 있습니다."
   ]
  },
  {
   "cell_type": "code",
   "execution_count": 34,
   "id": "6175d2ca",
   "metadata": {
    "scrolled": true
   },
   "outputs": [
    {
     "data": {
      "text/plain": [
       "0    2.410900\n",
       "1    0.453558\n",
       "2   -0.217535\n",
       "3    1.037281\n",
       "4    0.365736\n",
       "Name: random_nums, dtype: float64"
      ]
     },
     "execution_count": 34,
     "metadata": {},
     "output_type": "execute_result"
    }
   ],
   "source": [
    "s = pd.Series(np.random.randn(5),name = \"random_nums\")\n",
    " \n",
    "s"
   ]
  },
  {
   "cell_type": "code",
   "execution_count": 36,
   "id": "fab77b26",
   "metadata": {},
   "outputs": [
    {
     "data": {
      "text/plain": [
       "0    2.410900\n",
       "1    0.453558\n",
       "2   -0.217535\n",
       "3    1.037281\n",
       "4    0.365736\n",
       "Name: 임의의 난수, dtype: float64"
      ]
     },
     "execution_count": 36,
     "metadata": {},
     "output_type": "execute_result"
    }
   ],
   "source": [
    "s.name = \"임의의 난수\" #이름 붙이기\n",
    "s"
   ]
  }
 ],
 "metadata": {
  "kernelspec": {
   "display_name": "Python 3 (ipykernel)",
   "language": "python",
   "name": "python3"
  },
  "language_info": {
   "codemirror_mode": {
    "name": "ipython",
    "version": 3
   },
   "file_extension": ".py",
   "mimetype": "text/x-python",
   "name": "python",
   "nbconvert_exporter": "python",
   "pygments_lexer": "ipython3",
   "version": "3.9.1"
  }
 },
 "nbformat": 4,
 "nbformat_minor": 5
}
