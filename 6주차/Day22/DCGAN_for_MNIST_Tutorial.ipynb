{
  "nbformat": 4,
  "nbformat_minor": 0,
  "metadata": {
    "colab": {
      "name": "DCGAN for MNIST Tutorial",
      "provenance": [],
      "collapsed_sections": []
    },
    "kernelspec": {
      "name": "python3",
      "display_name": "Python 3"
    },
    "accelerator": "GPU"
  },
  "cells": [
    {
      "cell_type": "markdown",
      "metadata": {
        "id": "Jg9lQZIb_cfL"
      },
      "source": [
        "#### <b>DCGAN 실습</b>\r\n",
        "\r\n",
        "* Deep Convolutional Generative Adversarial Networks <b>(ICLR 2016)</b>\r\n",
        "* Convoluational Layer를 활용하여 이미지 생성에 높은 성능을 보이는 DCGAN 모델을 학습해 봅시다.\r\n",
        "* 학습 데이터셋: <b>MNIST</b> (1 X 28 X 28)"
      ]
    },
    {
      "cell_type": "markdown",
      "metadata": {
        "id": "52A6A9pPGfOC"
      },
      "source": [
        "#### <b>필요한 라이브러리 불러오기</b>\r\n",
        "\r\n",
        "* 실습을 위한 PyTorch 라이브러리를 불러옵니다."
      ]
    },
    {
      "cell_type": "code",
      "metadata": {
        "id": "4IWqGiNhhcTY"
      },
      "source": [
        "import torch\r\n",
        "import torch.nn as nn\r\n",
        "\r\n",
        "from torchvision import datasets\r\n",
        "import torchvision.transforms as transforms\r\n",
        "from torchvision.utils import save_image"
      ],
      "execution_count": null,
      "outputs": []
    },
    {
      "cell_type": "markdown",
      "metadata": {
        "id": "A-qmrwE6GiZj"
      },
      "source": [
        "#### <b>생성자(Generator) 및 판별자(Discriminator) 모델 정의</b>\r\n",
        "\r\n",
        "* CNN 연산을 위하여 이미지의 크기를 1 X 32 X 32 형태로 변경하여 사용합니다. (2의 거듭제곱수)"
      ]
    },
    {
      "cell_type": "code",
      "metadata": {
        "id": "C8Pkz8y8Ghq4"
      },
      "source": [
        "latent_dim = 100\r\n",
        "\r\n",
        "\r\n",
        "# 생성자(Generator) 클래스 정의\r\n",
        "class Generator(nn.Module):\r\n",
        "    def __init__(self):\r\n",
        "        super(Generator, self).__init__()\r\n",
        "\r\n",
        "        self.init_size = 8 # 원본 크기보다 4배 작은 값으로 초기화\r\n",
        "        self.layer1 = nn.Sequential(nn.Linear(latent_dim, 128 * self.init_size * self.init_size)) # 초기 채널의 크기는 128 \r\n",
        "\r\n",
        "        self.conv_blocks = nn.Sequential(\r\n",
        "            nn.BatchNorm2d(128), # 채널의 크기와 동일\r\n",
        "            nn.Upsample(scale_factor=2), # 너비와 높이 2배씩 증가\r\n",
        "            nn.Conv2d(128, 128, kernel_size=3, stride=1, padding=1), # 너비와 높이 유지\r\n",
        "            nn.BatchNorm2d(128, 0.8),\r\n",
        "            nn.LeakyReLU(0.2, inplace=True),\r\n",
        "            nn.Upsample(scale_factor=2), # 너비와 높이 2배씩 증가\r\n",
        "            nn.Conv2d(128, 64, kernel_size=3, stride=1, padding=1), # 너비와 높이 유지, 채널의 크기는 64로\r\n",
        "            nn.BatchNorm2d(64, 0.8),\r\n",
        "            nn.LeakyReLU(0.2, inplace=True),\r\n",
        "            nn.Conv2d(64, 1, kernel_size=3, stride=1, padding=1), # 너비와 높이 유지, 채널의 크기는 1로\r\n",
        "            nn.Tanh(),\r\n",
        "        )\r\n",
        "\r\n",
        "    def forward(self, z):\r\n",
        "        output = self.layer1(z)\r\n",
        "        output = output.view(output.size(0), 128, self.init_size, self.init_size)\r\n",
        "        output = self.conv_blocks(output)\r\n",
        "        return output"
      ],
      "execution_count": null,
      "outputs": []
    },
    {
      "cell_type": "code",
      "metadata": {
        "id": "FaOWHQDpIKIu"
      },
      "source": [
        "# 판별자(Discriminator) 클래스 정의\r\n",
        "class Discriminator(nn.Module):\r\n",
        "    def __init__(self):\r\n",
        "        super(Discriminator, self).__init__()\r\n",
        "\r\n",
        "        def make_block(in_channels, out_channels, bn=True):\r\n",
        "            # 하나의 블록(block)을 반복할 때마다 너비와 높이는 2배씩 감소\r\n",
        "            block = [nn.Conv2d(in_channels, out_channels, kernel_size=3, stride=2, padding=1)]\r\n",
        "            block.append(nn.LeakyReLU(0.2, inplace=True))\r\n",
        "            block.append(nn.Dropout2d(0.25))\r\n",
        "            if bn:\r\n",
        "                block.append(nn.BatchNorm2d(out_channels, 0.8))\r\n",
        "            return block\r\n",
        "\r\n",
        "        self.conv_blocks = nn.Sequential(\r\n",
        "            *make_block(1, 16, bn=False),\r\n",
        "            *make_block(16, 32),\r\n",
        "            *make_block(32, 64),\r\n",
        "            *make_block(64, 128),\r\n",
        "        )\r\n",
        "\r\n",
        "        self.classifier = nn.Sequential(\r\n",
        "            nn.Linear(128 * 2 * 2, 1),\r\n",
        "            nn.Sigmoid()\r\n",
        "        )\r\n",
        "\r\n",
        "    # 이미지에 대한 판별 결과를 반환\r\n",
        "    def forward(self, img):\r\n",
        "        output = self.conv_blocks(img)\r\n",
        "        output = output.view(output.size(0), -1)\r\n",
        "        output = self.classifier(output)\r\n",
        "        return output"
      ],
      "execution_count": null,
      "outputs": []
    },
    {
      "cell_type": "markdown",
      "metadata": {
        "id": "FSnNqO3xKTK_"
      },
      "source": [
        "#### <b>학습 데이터셋 불러오기</b>\r\n",
        "\r\n",
        "* 학습을 위해 MNIST 데이터셋을 불러옵니다."
      ]
    },
    {
      "cell_type": "code",
      "metadata": {
        "id": "_dNFV5N9Uxtq"
      },
      "source": [
        "transforms_train = transforms.Compose([\r\n",
        "    transforms.Resize(32),\r\n",
        "    transforms.ToTensor(),\r\n",
        "    transforms.Normalize([0.5], [0.5])\r\n",
        "])\r\n",
        "\r\n",
        "train_dataset = datasets.MNIST(root=\"./dataset\", train=True, download=True, transform=transforms_train)\r\n",
        "dataloader = torch.utils.data.DataLoader(train_dataset, batch_size=128, shuffle=True, num_workers=4)"
      ],
      "execution_count": null,
      "outputs": []
    },
    {
      "cell_type": "markdown",
      "metadata": {
        "id": "Poiduj7lKZuf"
      },
      "source": [
        "#### <b>모델 학습 및 샘플링</b>\r\n",
        "\r\n",
        "* 학습을 위해 생성자와 판별자 모델을 초기화합니다.\r\n",
        "* 적절한 하이퍼 파라미터를 설정합니다."
      ]
    },
    {
      "cell_type": "code",
      "metadata": {
        "id": "x8Zmc3HpU0xp"
      },
      "source": [
        "def weights_init_normal(m):\r\n",
        "    classname = m.__class__.__name__\r\n",
        "    if classname.find(\"Conv\") != -1:\r\n",
        "        torch.nn.init.normal_(m.weight.data, 0.0, 0.02)\r\n",
        "    elif classname.find(\"BatchNorm2d\") != -1:\r\n",
        "        torch.nn.init.normal_(m.weight.data, 1.0, 0.02)\r\n",
        "        torch.nn.init.constant_(m.bias.data, 0.0)\r\n",
        "\r\n",
        "\r\n",
        "# 생성자(generator)와 판별자(discriminator) 초기화\r\n",
        "generator = Generator()\r\n",
        "discriminator = Discriminator()\r\n",
        "\r\n",
        "generator.cuda()\r\n",
        "discriminator.cuda()\r\n",
        "\r\n",
        "# 가중치(weights) 초기화\r\n",
        "generator.apply(weights_init_normal)\r\n",
        "discriminator.apply(weights_init_normal)\r\n",
        "\r\n",
        "# 손실 함수(loss function)\r\n",
        "adversarial_loss = nn.BCELoss()\r\n",
        "adversarial_loss.cuda()\r\n",
        "\r\n",
        "# 학습률(learning rate) 설정\r\n",
        "lr = 0.0002\r\n",
        "\r\n",
        "# 생성자와 판별자를 위한 최적화 함수\r\n",
        "optimizer_G = torch.optim.Adam(generator.parameters(), lr=lr, betas=(0.5, 0.999))\r\n",
        "optimizer_D = torch.optim.Adam(discriminator.parameters(), lr=lr, betas=(0.5, 0.999))"
      ],
      "execution_count": null,
      "outputs": []
    },
    {
      "cell_type": "markdown",
      "metadata": {
        "id": "ifb94cv-K0XF"
      },
      "source": [
        "* 모델을 학습하면서 주기적으로 샘플링하여 결과를 확인할 수 있습니다."
      ]
    },
    {
      "cell_type": "code",
      "metadata": {
        "colab": {
          "base_uri": "https://localhost:8080/"
        },
        "id": "35sQj_NnKtve",
        "outputId": "c5d49535-3e77-4431-d073-1a5dbeee7d4e"
      },
      "source": [
        "import time\r\n",
        "\r\n",
        "n_epochs = 200 # 학습의 횟수(epoch) 설정\r\n",
        "sample_interval = 2000 # 몇 번의 배치(batch)마다 결과를 출력할 것인지 설정\r\n",
        "start_time = time.time()\r\n",
        "\r\n",
        "for epoch in range(n_epochs):\r\n",
        "    for i, (imgs, _) in enumerate(dataloader):\r\n",
        "\r\n",
        "        # 진짜(real) 이미지와 가짜(fake) 이미지에 대한 정답 레이블 생성\r\n",
        "        real = torch.cuda.FloatTensor(imgs.size(0), 1).fill_(1.0) # 진짜(real): 1\r\n",
        "        fake = torch.cuda.FloatTensor(imgs.size(0), 1).fill_(0.0) # 가짜(fake): 0\r\n",
        "\r\n",
        "        real_imgs = imgs.cuda()\r\n",
        "\r\n",
        "        \"\"\" 생성자(generator)를 학습합니다. \"\"\"\r\n",
        "        optimizer_G.zero_grad()\r\n",
        "\r\n",
        "        # 랜덤 노이즈(noise) 샘플링\r\n",
        "        z = torch.normal(mean=0, std=1, size=(imgs.shape[0], latent_dim)).cuda()\r\n",
        "\r\n",
        "        # 이미지 생성\r\n",
        "        generated_imgs = generator(z)\r\n",
        "\r\n",
        "        # 생성자(generator)의 손실(loss) 값 계산\r\n",
        "        g_loss = adversarial_loss(discriminator(generated_imgs), real)\r\n",
        "\r\n",
        "        # 생성자(generator) 업데이트\r\n",
        "        g_loss.backward()\r\n",
        "        optimizer_G.step()\r\n",
        "\r\n",
        "        \"\"\" 판별자(discriminator)를 학습합니다. \"\"\"\r\n",
        "        optimizer_D.zero_grad()\r\n",
        "\r\n",
        "        # 판별자(discriminator)의 손실(loss) 값 계산\r\n",
        "        real_loss = adversarial_loss(discriminator(real_imgs), real)\r\n",
        "        fake_loss = adversarial_loss(discriminator(generated_imgs.detach()), fake)\r\n",
        "        d_loss = (real_loss + fake_loss) / 2\r\n",
        "\r\n",
        "        # 판별자(discriminator) 업데이트\r\n",
        "        d_loss.backward()\r\n",
        "        optimizer_D.step()\r\n",
        "\r\n",
        "        done = epoch * len(dataloader) + i\r\n",
        "        if done % sample_interval == 0:\r\n",
        "            # 생성된 이미지 중에서 25개만 선택하여 5 X 5 격자 이미지에 출력\r\n",
        "            save_image(generated_imgs.data[:25], f\"{done}.png\", nrow=5, normalize=True)\r\n",
        "\r\n",
        "    # 하나의 epoch이 끝날 때마다 로그(log) 출력\r\n",
        "    print(f\"[Epoch {epoch}/{n_epochs}] [D loss: {d_loss.item():.6f}] [G loss: {g_loss.item():.6f}] [Elapsed time: {time.time() - start_time:.2f}s]\")"
      ],
      "execution_count": null,
      "outputs": [
        {
          "output_type": "stream",
          "text": [
            "[Epoch 0/200] [D loss: 0.694897] [G loss: 0.690864] [Elapsed time: 20.87s]\n",
            "[Epoch 1/200] [D loss: 0.698747] [G loss: 0.685665] [Elapsed time: 41.91s]\n",
            "[Epoch 2/200] [D loss: 0.654233] [G loss: 0.821698] [Elapsed time: 63.17s]\n",
            "[Epoch 3/200] [D loss: 0.610936] [G loss: 0.705884] [Elapsed time: 84.94s]\n",
            "[Epoch 4/200] [D loss: 0.671104] [G loss: 0.932624] [Elapsed time: 107.27s]\n",
            "[Epoch 5/200] [D loss: 0.609094] [G loss: 0.923977] [Elapsed time: 129.13s]\n",
            "[Epoch 6/200] [D loss: 0.599244] [G loss: 1.010253] [Elapsed time: 150.83s]\n",
            "[Epoch 7/200] [D loss: 0.490334] [G loss: 0.888359] [Elapsed time: 172.66s]\n",
            "[Epoch 8/200] [D loss: 0.608828] [G loss: 0.994761] [Elapsed time: 194.60s]\n",
            "[Epoch 9/200] [D loss: 0.557712] [G loss: 0.993231] [Elapsed time: 216.46s]\n",
            "[Epoch 10/200] [D loss: 0.589897] [G loss: 0.940161] [Elapsed time: 238.29s]\n",
            "[Epoch 11/200] [D loss: 0.635128] [G loss: 0.602069] [Elapsed time: 260.14s]\n",
            "[Epoch 12/200] [D loss: 0.677250] [G loss: 0.701887] [Elapsed time: 281.99s]\n",
            "[Epoch 13/200] [D loss: 0.604399] [G loss: 0.921635] [Elapsed time: 303.85s]\n",
            "[Epoch 14/200] [D loss: 0.642839] [G loss: 0.593635] [Elapsed time: 325.73s]\n",
            "[Epoch 15/200] [D loss: 0.531592] [G loss: 1.004818] [Elapsed time: 347.66s]\n",
            "[Epoch 16/200] [D loss: 0.425972] [G loss: 0.926602] [Elapsed time: 369.56s]\n",
            "[Epoch 17/200] [D loss: 0.645403] [G loss: 1.047372] [Elapsed time: 391.51s]\n",
            "[Epoch 18/200] [D loss: 0.514292] [G loss: 0.913358] [Elapsed time: 413.43s]\n",
            "[Epoch 19/200] [D loss: 0.541741] [G loss: 0.963887] [Elapsed time: 435.32s]\n",
            "[Epoch 20/200] [D loss: 0.545604] [G loss: 1.265706] [Elapsed time: 457.19s]\n",
            "[Epoch 21/200] [D loss: 0.572814] [G loss: 1.334682] [Elapsed time: 479.07s]\n",
            "[Epoch 22/200] [D loss: 0.615180] [G loss: 1.028533] [Elapsed time: 500.92s]\n",
            "[Epoch 23/200] [D loss: 0.724772] [G loss: 0.798390] [Elapsed time: 522.76s]\n",
            "[Epoch 24/200] [D loss: 0.551100] [G loss: 1.128873] [Elapsed time: 544.61s]\n",
            "[Epoch 25/200] [D loss: 0.662380] [G loss: 0.548334] [Elapsed time: 566.51s]\n",
            "[Epoch 26/200] [D loss: 0.651480] [G loss: 0.938735] [Elapsed time: 588.41s]\n",
            "[Epoch 27/200] [D loss: 0.446907] [G loss: 0.811131] [Elapsed time: 610.24s]\n",
            "[Epoch 28/200] [D loss: 0.580621] [G loss: 0.568536] [Elapsed time: 632.06s]\n",
            "[Epoch 29/200] [D loss: 0.523101] [G loss: 0.926329] [Elapsed time: 653.94s]\n",
            "[Epoch 30/200] [D loss: 0.584345] [G loss: 1.817476] [Elapsed time: 675.85s]\n",
            "[Epoch 31/200] [D loss: 0.552539] [G loss: 1.101037] [Elapsed time: 697.75s]\n",
            "[Epoch 32/200] [D loss: 0.595643] [G loss: 0.401642] [Elapsed time: 719.62s]\n",
            "[Epoch 33/200] [D loss: 0.590394] [G loss: 0.702419] [Elapsed time: 741.44s]\n",
            "[Epoch 34/200] [D loss: 0.350451] [G loss: 0.564958] [Elapsed time: 763.32s]\n",
            "[Epoch 35/200] [D loss: 0.517084] [G loss: 0.885293] [Elapsed time: 785.20s]\n",
            "[Epoch 36/200] [D loss: 0.705152] [G loss: 0.676557] [Elapsed time: 807.06s]\n",
            "[Epoch 37/200] [D loss: 0.667497] [G loss: 0.823429] [Elapsed time: 828.92s]\n",
            "[Epoch 38/200] [D loss: 0.597404] [G loss: 1.585204] [Elapsed time: 850.80s]\n",
            "[Epoch 39/200] [D loss: 0.500267] [G loss: 1.047587] [Elapsed time: 872.66s]\n",
            "[Epoch 40/200] [D loss: 0.762292] [G loss: 1.425452] [Elapsed time: 894.49s]\n",
            "[Epoch 41/200] [D loss: 0.608758] [G loss: 1.128365] [Elapsed time: 916.32s]\n",
            "[Epoch 42/200] [D loss: 0.469867] [G loss: 0.971613] [Elapsed time: 938.18s]\n",
            "[Epoch 43/200] [D loss: 0.497094] [G loss: 0.927253] [Elapsed time: 960.01s]\n",
            "[Epoch 44/200] [D loss: 0.630138] [G loss: 1.533884] [Elapsed time: 981.84s]\n",
            "[Epoch 45/200] [D loss: 0.587062] [G loss: 1.089235] [Elapsed time: 1003.65s]\n",
            "[Epoch 46/200] [D loss: 0.532694] [G loss: 2.067444] [Elapsed time: 1025.47s]\n",
            "[Epoch 47/200] [D loss: 0.489854] [G loss: 0.910999] [Elapsed time: 1047.27s]\n",
            "[Epoch 48/200] [D loss: 0.538660] [G loss: 0.999354] [Elapsed time: 1069.09s]\n",
            "[Epoch 49/200] [D loss: 0.572459] [G loss: 0.758106] [Elapsed time: 1090.92s]\n",
            "[Epoch 50/200] [D loss: 0.514027] [G loss: 1.074187] [Elapsed time: 1112.74s]\n",
            "[Epoch 51/200] [D loss: 0.393927] [G loss: 0.976461] [Elapsed time: 1134.57s]\n",
            "[Epoch 52/200] [D loss: 0.512428] [G loss: 0.784026] [Elapsed time: 1156.39s]\n",
            "[Epoch 53/200] [D loss: 0.429422] [G loss: 0.636541] [Elapsed time: 1178.26s]\n",
            "[Epoch 54/200] [D loss: 0.440318] [G loss: 1.404607] [Elapsed time: 1200.10s]\n",
            "[Epoch 55/200] [D loss: 0.551871] [G loss: 0.699164] [Elapsed time: 1221.87s]\n",
            "[Epoch 56/200] [D loss: 0.544088] [G loss: 2.198252] [Elapsed time: 1243.62s]\n",
            "[Epoch 57/200] [D loss: 0.828203] [G loss: 1.403103] [Elapsed time: 1265.36s]\n",
            "[Epoch 58/200] [D loss: 0.471018] [G loss: 1.156810] [Elapsed time: 1287.13s]\n",
            "[Epoch 59/200] [D loss: 0.671754] [G loss: 1.642395] [Elapsed time: 1308.93s]\n",
            "[Epoch 60/200] [D loss: 0.389328] [G loss: 2.235032] [Elapsed time: 1330.75s]\n",
            "[Epoch 61/200] [D loss: 0.324320] [G loss: 0.892989] [Elapsed time: 1352.59s]\n",
            "[Epoch 62/200] [D loss: 0.670433] [G loss: 1.457993] [Elapsed time: 1374.43s]\n",
            "[Epoch 63/200] [D loss: 0.330557] [G loss: 1.157588] [Elapsed time: 1396.24s]\n",
            "[Epoch 64/200] [D loss: 0.378305] [G loss: 1.354287] [Elapsed time: 1418.04s]\n",
            "[Epoch 65/200] [D loss: 0.552957] [G loss: 1.203699] [Elapsed time: 1439.83s]\n",
            "[Epoch 66/200] [D loss: 0.292416] [G loss: 1.548198] [Elapsed time: 1461.60s]\n",
            "[Epoch 67/200] [D loss: 0.514244] [G loss: 1.002887] [Elapsed time: 1483.37s]\n",
            "[Epoch 68/200] [D loss: 0.664501] [G loss: 2.636676] [Elapsed time: 1505.17s]\n",
            "[Epoch 69/200] [D loss: 0.268251] [G loss: 0.700027] [Elapsed time: 1526.94s]\n",
            "[Epoch 70/200] [D loss: 0.340239] [G loss: 1.528645] [Elapsed time: 1548.65s]\n",
            "[Epoch 71/200] [D loss: 0.325958] [G loss: 1.753651] [Elapsed time: 1570.39s]\n",
            "[Epoch 72/200] [D loss: 0.608974] [G loss: 1.674734] [Elapsed time: 1592.27s]\n",
            "[Epoch 73/200] [D loss: 0.549260] [G loss: 0.644216] [Elapsed time: 1614.12s]\n",
            "[Epoch 74/200] [D loss: 0.264214] [G loss: 1.056361] [Elapsed time: 1635.87s]\n",
            "[Epoch 75/200] [D loss: 0.482920] [G loss: 3.259086] [Elapsed time: 1657.61s]\n",
            "[Epoch 76/200] [D loss: 0.375745] [G loss: 1.183384] [Elapsed time: 1679.47s]\n",
            "[Epoch 77/200] [D loss: 0.488709] [G loss: 1.899257] [Elapsed time: 1701.27s]\n",
            "[Epoch 78/200] [D loss: 0.779512] [G loss: 2.274369] [Elapsed time: 1723.00s]\n",
            "[Epoch 79/200] [D loss: 0.485230] [G loss: 1.473205] [Elapsed time: 1744.72s]\n",
            "[Epoch 80/200] [D loss: 0.501405] [G loss: 1.018665] [Elapsed time: 1766.45s]\n",
            "[Epoch 81/200] [D loss: 0.309947] [G loss: 0.792375] [Elapsed time: 1788.23s]\n",
            "[Epoch 82/200] [D loss: 0.582214] [G loss: 1.601773] [Elapsed time: 1810.00s]\n",
            "[Epoch 83/200] [D loss: 0.328810] [G loss: 0.735434] [Elapsed time: 1831.76s]\n",
            "[Epoch 84/200] [D loss: 0.397869] [G loss: 2.492383] [Elapsed time: 1853.55s]\n",
            "[Epoch 85/200] [D loss: 0.896978] [G loss: 0.853695] [Elapsed time: 1875.34s]\n",
            "[Epoch 86/200] [D loss: 0.458993] [G loss: 0.203603] [Elapsed time: 1897.12s]\n",
            "[Epoch 87/200] [D loss: 0.238822] [G loss: 0.679571] [Elapsed time: 1918.87s]\n",
            "[Epoch 88/200] [D loss: 0.935799] [G loss: 1.445352] [Elapsed time: 1940.56s]\n",
            "[Epoch 89/200] [D loss: 0.527114] [G loss: 1.763064] [Elapsed time: 1962.29s]\n",
            "[Epoch 90/200] [D loss: 0.357506] [G loss: 0.541931] [Elapsed time: 1983.99s]\n",
            "[Epoch 91/200] [D loss: 0.344658] [G loss: 2.342139] [Elapsed time: 2005.70s]\n",
            "[Epoch 92/200] [D loss: 0.273860] [G loss: 1.442504] [Elapsed time: 2027.41s]\n",
            "[Epoch 93/200] [D loss: 0.742980] [G loss: 1.494081] [Elapsed time: 2049.12s]\n",
            "[Epoch 94/200] [D loss: 0.436209] [G loss: 1.235405] [Elapsed time: 2070.85s]\n",
            "[Epoch 95/200] [D loss: 0.095602] [G loss: 1.179691] [Elapsed time: 2092.65s]\n",
            "[Epoch 96/200] [D loss: 0.648068] [G loss: 1.099580] [Elapsed time: 2114.44s]\n",
            "[Epoch 97/200] [D loss: 0.148915] [G loss: 0.531229] [Elapsed time: 2136.27s]\n",
            "[Epoch 98/200] [D loss: 0.181260] [G loss: 1.537353] [Elapsed time: 2158.11s]\n",
            "[Epoch 99/200] [D loss: 0.354123] [G loss: 0.251302] [Elapsed time: 2179.89s]\n",
            "[Epoch 100/200] [D loss: 0.321198] [G loss: 1.443584] [Elapsed time: 2201.65s]\n",
            "[Epoch 101/200] [D loss: 0.365624] [G loss: 0.480984] [Elapsed time: 2223.45s]\n",
            "[Epoch 102/200] [D loss: 0.525674] [G loss: 0.965977] [Elapsed time: 2245.21s]\n",
            "[Epoch 103/200] [D loss: 0.174519] [G loss: 1.905222] [Elapsed time: 2266.93s]\n",
            "[Epoch 104/200] [D loss: 0.161792] [G loss: 2.424943] [Elapsed time: 2288.66s]\n",
            "[Epoch 105/200] [D loss: 0.523886] [G loss: 0.595658] [Elapsed time: 2310.58s]\n",
            "[Epoch 106/200] [D loss: 0.255821] [G loss: 2.396702] [Elapsed time: 2332.53s]\n",
            "[Epoch 107/200] [D loss: 0.401326] [G loss: 0.943392] [Elapsed time: 2354.54s]\n",
            "[Epoch 108/200] [D loss: 0.395994] [G loss: 2.666925] [Elapsed time: 2376.39s]\n",
            "[Epoch 109/200] [D loss: 0.422096] [G loss: 0.688906] [Elapsed time: 2398.23s]\n",
            "[Epoch 110/200] [D loss: 0.195272] [G loss: 2.680259] [Elapsed time: 2420.09s]\n",
            "[Epoch 111/200] [D loss: 0.392494] [G loss: 0.279528] [Elapsed time: 2441.93s]\n",
            "[Epoch 112/200] [D loss: 0.760735] [G loss: 1.850583] [Elapsed time: 2463.82s]\n",
            "[Epoch 113/200] [D loss: 0.250313] [G loss: 1.332757] [Elapsed time: 2485.70s]\n",
            "[Epoch 114/200] [D loss: 0.123538] [G loss: 3.226292] [Elapsed time: 2507.49s]\n",
            "[Epoch 115/200] [D loss: 0.162556] [G loss: 2.844090] [Elapsed time: 2529.46s]\n",
            "[Epoch 116/200] [D loss: 0.386752] [G loss: 1.535716] [Elapsed time: 2551.25s]\n",
            "[Epoch 117/200] [D loss: 0.560965] [G loss: 2.311785] [Elapsed time: 2573.10s]\n",
            "[Epoch 118/200] [D loss: 0.602553] [G loss: 1.737232] [Elapsed time: 2594.99s]\n",
            "[Epoch 119/200] [D loss: 0.333384] [G loss: 1.685187] [Elapsed time: 2616.95s]\n",
            "[Epoch 120/200] [D loss: 0.345018] [G loss: 1.149145] [Elapsed time: 2638.92s]\n",
            "[Epoch 121/200] [D loss: 0.534793] [G loss: 0.966093] [Elapsed time: 2660.87s]\n",
            "[Epoch 122/200] [D loss: 1.124057] [G loss: 0.921825] [Elapsed time: 2682.69s]\n",
            "[Epoch 123/200] [D loss: 0.236064] [G loss: 1.249885] [Elapsed time: 2704.50s]\n",
            "[Epoch 124/200] [D loss: 0.273138] [G loss: 0.438815] [Elapsed time: 2726.34s]\n",
            "[Epoch 125/200] [D loss: 0.307168] [G loss: 3.748475] [Elapsed time: 2748.15s]\n",
            "[Epoch 126/200] [D loss: 0.267927] [G loss: 0.285031] [Elapsed time: 2770.00s]\n",
            "[Epoch 127/200] [D loss: 0.365265] [G loss: 2.854689] [Elapsed time: 2791.86s]\n",
            "[Epoch 128/200] [D loss: 0.170185] [G loss: 2.633288] [Elapsed time: 2813.71s]\n",
            "[Epoch 129/200] [D loss: 0.390914] [G loss: 4.082588] [Elapsed time: 2835.60s]\n",
            "[Epoch 130/200] [D loss: 0.352315] [G loss: 2.244911] [Elapsed time: 2857.40s]\n",
            "[Epoch 131/200] [D loss: 0.240064] [G loss: 1.086607] [Elapsed time: 2879.21s]\n",
            "[Epoch 132/200] [D loss: 0.373223] [G loss: 3.329887] [Elapsed time: 2900.99s]\n",
            "[Epoch 133/200] [D loss: 0.586941] [G loss: 0.823859] [Elapsed time: 2922.77s]\n",
            "[Epoch 134/200] [D loss: 0.397282] [G loss: 0.961288] [Elapsed time: 2944.59s]\n",
            "[Epoch 135/200] [D loss: 0.240805] [G loss: 4.244970] [Elapsed time: 2966.42s]\n",
            "[Epoch 136/200] [D loss: 0.098409] [G loss: 2.786646] [Elapsed time: 2988.24s]\n",
            "[Epoch 137/200] [D loss: 0.844836] [G loss: 1.827139] [Elapsed time: 3010.04s]\n",
            "[Epoch 138/200] [D loss: 0.446209] [G loss: 2.016639] [Elapsed time: 3031.78s]\n",
            "[Epoch 139/200] [D loss: 0.190852] [G loss: 0.965949] [Elapsed time: 3053.55s]\n",
            "[Epoch 140/200] [D loss: 0.134558] [G loss: 1.570184] [Elapsed time: 3075.33s]\n",
            "[Epoch 141/200] [D loss: 0.480354] [G loss: 1.195701] [Elapsed time: 3097.13s]\n",
            "[Epoch 142/200] [D loss: 0.150405] [G loss: 1.411950] [Elapsed time: 3118.88s]\n",
            "[Epoch 143/200] [D loss: 0.688913] [G loss: 1.181072] [Elapsed time: 3140.63s]\n",
            "[Epoch 144/200] [D loss: 0.647647] [G loss: 3.815674] [Elapsed time: 3162.43s]\n",
            "[Epoch 145/200] [D loss: 0.492428] [G loss: 4.180332] [Elapsed time: 3184.19s]\n",
            "[Epoch 146/200] [D loss: 0.383106] [G loss: 1.932382] [Elapsed time: 3205.93s]\n",
            "[Epoch 147/200] [D loss: 0.193064] [G loss: 3.820766] [Elapsed time: 3227.70s]\n",
            "[Epoch 148/200] [D loss: 0.107484] [G loss: 0.820847] [Elapsed time: 3249.48s]\n",
            "[Epoch 149/200] [D loss: 0.358732] [G loss: 1.236648] [Elapsed time: 3271.27s]\n",
            "[Epoch 150/200] [D loss: 0.515852] [G loss: 4.747317] [Elapsed time: 3293.09s]\n",
            "[Epoch 151/200] [D loss: 0.621333] [G loss: 1.871107] [Elapsed time: 3314.94s]\n",
            "[Epoch 152/200] [D loss: 0.127985] [G loss: 3.268235] [Elapsed time: 3336.80s]\n",
            "[Epoch 153/200] [D loss: 0.079980] [G loss: 0.949843] [Elapsed time: 3358.69s]\n",
            "[Epoch 154/200] [D loss: 0.242762] [G loss: 3.652293] [Elapsed time: 3380.66s]\n",
            "[Epoch 155/200] [D loss: 0.224986] [G loss: 2.060164] [Elapsed time: 3402.73s]\n",
            "[Epoch 156/200] [D loss: 0.126279] [G loss: 0.954892] [Elapsed time: 3424.70s]\n",
            "[Epoch 157/200] [D loss: 0.064663] [G loss: 0.857678] [Elapsed time: 3446.62s]\n",
            "[Epoch 158/200] [D loss: 0.068395] [G loss: 0.937973] [Elapsed time: 3468.57s]\n",
            "[Epoch 159/200] [D loss: 0.127415] [G loss: 2.988628] [Elapsed time: 3490.53s]\n",
            "[Epoch 160/200] [D loss: 0.160687] [G loss: 2.605603] [Elapsed time: 3512.48s]\n",
            "[Epoch 161/200] [D loss: 0.079190] [G loss: 1.146998] [Elapsed time: 3534.41s]\n",
            "[Epoch 162/200] [D loss: 1.202648] [G loss: 0.707493] [Elapsed time: 3556.35s]\n",
            "[Epoch 163/200] [D loss: 0.052616] [G loss: 1.243286] [Elapsed time: 3578.28s]\n",
            "[Epoch 164/200] [D loss: 0.630151] [G loss: 2.532001] [Elapsed time: 3600.20s]\n",
            "[Epoch 165/200] [D loss: 0.163044] [G loss: 4.711541] [Elapsed time: 3622.07s]\n",
            "[Epoch 166/200] [D loss: 0.256983] [G loss: 1.164840] [Elapsed time: 3643.99s]\n",
            "[Epoch 167/200] [D loss: 0.081344] [G loss: 1.081635] [Elapsed time: 3665.88s]\n",
            "[Epoch 168/200] [D loss: 0.105939] [G loss: 1.757867] [Elapsed time: 3687.86s]\n",
            "[Epoch 169/200] [D loss: 0.465185] [G loss: 2.096353] [Elapsed time: 3709.77s]\n",
            "[Epoch 170/200] [D loss: 0.950880] [G loss: 0.313692] [Elapsed time: 3731.70s]\n",
            "[Epoch 171/200] [D loss: 0.201018] [G loss: 1.169486] [Elapsed time: 3753.59s]\n",
            "[Epoch 172/200] [D loss: 0.190036] [G loss: 1.352653] [Elapsed time: 3775.50s]\n",
            "[Epoch 173/200] [D loss: 0.156724] [G loss: 4.485489] [Elapsed time: 3797.46s]\n",
            "[Epoch 174/200] [D loss: 0.172913] [G loss: 1.399176] [Elapsed time: 3819.36s]\n",
            "[Epoch 175/200] [D loss: 0.788049] [G loss: 3.735388] [Elapsed time: 3841.29s]\n",
            "[Epoch 176/200] [D loss: 0.296025] [G loss: 3.237220] [Elapsed time: 3863.14s]\n",
            "[Epoch 177/200] [D loss: 0.443738] [G loss: 3.337391] [Elapsed time: 3885.01s]\n",
            "[Epoch 178/200] [D loss: 0.222611] [G loss: 0.531203] [Elapsed time: 3906.92s]\n",
            "[Epoch 179/200] [D loss: 0.046944] [G loss: 2.267108] [Elapsed time: 3928.81s]\n",
            "[Epoch 180/200] [D loss: 0.437590] [G loss: 1.080939] [Elapsed time: 3950.66s]\n",
            "[Epoch 181/200] [D loss: 0.275623] [G loss: 0.922390] [Elapsed time: 3972.55s]\n",
            "[Epoch 182/200] [D loss: 0.120807] [G loss: 2.610308] [Elapsed time: 3994.37s]\n",
            "[Epoch 183/200] [D loss: 0.020531] [G loss: 4.080666] [Elapsed time: 4016.22s]\n",
            "[Epoch 184/200] [D loss: 0.252640] [G loss: 2.193382] [Elapsed time: 4038.15s]\n",
            "[Epoch 185/200] [D loss: 0.222148] [G loss: 2.835153] [Elapsed time: 4060.04s]\n",
            "[Epoch 186/200] [D loss: 0.206814] [G loss: 4.396088] [Elapsed time: 4081.95s]\n",
            "[Epoch 187/200] [D loss: 0.162466] [G loss: 2.451730] [Elapsed time: 4103.81s]\n",
            "[Epoch 188/200] [D loss: 0.530069] [G loss: 1.463110] [Elapsed time: 4125.66s]\n",
            "[Epoch 189/200] [D loss: 0.159588] [G loss: 2.213895] [Elapsed time: 4147.51s]\n",
            "[Epoch 190/200] [D loss: 0.379581] [G loss: 6.845558] [Elapsed time: 4169.39s]\n",
            "[Epoch 191/200] [D loss: 0.365363] [G loss: 1.421260] [Elapsed time: 4191.24s]\n",
            "[Epoch 192/200] [D loss: 0.080883] [G loss: 1.079619] [Elapsed time: 4213.10s]\n",
            "[Epoch 193/200] [D loss: 0.119256] [G loss: 4.703931] [Elapsed time: 4234.99s]\n",
            "[Epoch 194/200] [D loss: 0.504494] [G loss: 2.090031] [Elapsed time: 4256.85s]\n",
            "[Epoch 195/200] [D loss: 0.130688] [G loss: 2.225735] [Elapsed time: 4278.71s]\n",
            "[Epoch 196/200] [D loss: 0.532130] [G loss: 0.844202] [Elapsed time: 4300.55s]\n",
            "[Epoch 197/200] [D loss: 0.249915] [G loss: 2.113220] [Elapsed time: 4322.37s]\n",
            "[Epoch 198/200] [D loss: 0.478355] [G loss: 2.342664] [Elapsed time: 4344.28s]\n",
            "[Epoch 199/200] [D loss: 0.248978] [G loss: 3.327527] [Elapsed time: 4366.15s]\n"
          ],
          "name": "stdout"
        }
      ]
    },
    {
      "cell_type": "markdown",
      "metadata": {
        "id": "vjIJe2K0eAfb"
      },
      "source": [
        "* 생성된 이미지 예시를 출력합니다."
      ]
    },
    {
      "cell_type": "code",
      "metadata": {
        "colab": {
          "base_uri": "https://localhost:8080/",
          "height": 189
        },
        "id": "IDrcG-9zeBTS",
        "outputId": "adecc4ee-afa3-4bf4-d34a-7f13a0a80f67"
      },
      "source": [
        "from IPython.display import Image\r\n",
        "\r\n",
        "Image('92000.png')"
      ],
      "execution_count": null,
      "outputs": [
        {
          "output_type": "execute_result",
          "data": {
            "image/png": "[encoded data removed]",
            "text/plain": [
              "<IPython.core.display.Image object>"
            ]
          },
          "metadata": {
            "tags": []
          },
          "execution_count": 9
        }
      ]
    }
  ]
}